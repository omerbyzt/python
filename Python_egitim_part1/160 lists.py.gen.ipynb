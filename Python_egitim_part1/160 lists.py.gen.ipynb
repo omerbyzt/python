{
 "cells":
    [
    {
        "cell_type": "markdown",
        "metadata": {
            "slideshow": {
                "slide_type": "slide"
            }
        },
        "source": [
            "# List\n",
            "\n",
            "- Virg\u00fcl ile ayr\u0131lm\u0131\u015f de\u011ferleri tutar.\n",
            "- bir sequence tiptir.\n",
            "- https://docs.python.org/3/library/stdtypes.html#sequence-types-list-tuple-range\n",
            "\n",
            "\n",
            "\n"
        ]
    },
    {
        "cell_type": "markdown",
        "metadata": {
            "slideshow": {
                "slide_type": "slide"
            }
        },
        "source": [
            "# List vs Array\n",
            "- list != array\n",
            "- array != NumPy np.array\n",
            "- https://docs.python.org/3/library/array.html\n",
            "- Arrays are sequence types and behave very much like lists\n",
            "- the type of objects stored in them is constrained.\n",
            "\n",
            "\n",
            "\n"
        ]
    },
    {
        "cell_type": "code",
        "metadata": {
            "scrolled": true,
            "slideshow": {
                "slide_type": "slide"
            }
        },
        "source": [
            "# Liste tan\u0131m\u0131\n",
            "\n",
            "some_numbers = [1, 3, 7]\n",
            "print(some_numbers)\n"
        ],
        "execution_count": null,
        "outputs": []
    },
    {
        "cell_type": "code",
        "metadata": {
            "scrolled": true,
            "slideshow": {
                "slide_type": "slide"
            }
        },
        "source": [
            "# listelerde, her bir de\u011fer farkl\u0131 tipte olabilir:\n",
            "\n",
            "some_numbers_and_names = [1, 3, \"spam\", \"eggs\"]\n",
            "print(some_numbers_and_names)\n"
        ],
        "execution_count": null,
        "outputs": []
    },
    {
        "cell_type": "code",
        "metadata": {
            "scrolled": true,
            "slideshow": {
                "slide_type": "slide"
            }
        },
        "source": [
            "# dilimleme (slicing)\n",
            "\n",
            "some_numbers_and_names = [1, 3, \"spam\", \"eggs\"]\n",
            "only_numbers = some_numbers_and_names[:2]\n",
            "print(only_numbers)\n"
        ],
        "execution_count": null,
        "outputs": []
    },
    {
        "cell_type": "code",
        "metadata": {
            "scrolled": true,
            "slideshow": {
                "slide_type": "slide"
            }
        },
        "source": [
            "# Uygulama : Sadece alfabe i\u00e7erenleri almak istersek, nas\u0131l dilimleriz?\n",
            "\n",
            "some_numbers_and_names = [1, 3, \"spam\", \"eggs\"]\n",
            "only_numbers = some_numbers_and_names[:2]\n",
            "print(only_numbers)\n"
        ],
        "execution_count": null,
        "outputs": []
    },
    {
        "cell_type": "code",
        "metadata": {
            "scrolled": true,
            "slideshow": {
                "slide_type": "slide"
            }
        },
        "source": [
            "# Listeler de\u011fi\u015ftirilebilir \u00f6zelli\u011fe sahiptir (mutable)\n",
            "\n",
            "# a\u015fa\u011f\u0131daki kodun sonucu ne olur?\n",
            "\n",
            "some_numbers_and_names = [1, 3, \"spam\", \"eggs\"]\n",
            "some_numbers_and_names[1] = 5\n",
            "print(some_numbers_and_names)\n",
            "\n",
            "# string tiplerde nas\u0131ld\u0131?\n"
        ],
        "execution_count": null,
        "outputs": []
    },
    {
        "cell_type": "code",
        "metadata": {
            "scrolled": true,
            "slideshow": {
                "slide_type": "slide"
            }
        },
        "source": [
            "# a\u015fa\u011f\u0131daki kodun sonucu ne olur?\n",
            "\n",
            "some_numbers_and_names = [1, 3, \"spam\", \"eggs\"]\n",
            "\n",
            "some_numbers_and_names[1] = [4, 5]\n",
            "print(some_numbers_and_names)\n",
            "print(len(some_numbers_and_names))\n"
        ],
        "execution_count": null,
        "outputs": []
    },
    {
        "cell_type": "code",
        "metadata": {
            "scrolled": true,
            "slideshow": {
                "slide_type": "slide"
            }
        },
        "source": [
            "# Liste elemanlar\u0131n\u0131 de\u011fi\u015ftirmek\n",
            "\n",
            "#- nested (yuvalanm\u0131\u015f) olmas\u0131n\u0131 istemezsek...\n",
            "#- istenmeyen : `[1, [4, 5], 'spam', 'eggs']`\n",
            "#- istenilen : `[1, 4, 5, 'spam', 'eggs']`\n",
            "\n",
            "some_numbers_and_names = [1, 3, \"spam\", \"eggs\"]\n",
            "\n",
            "some_numbers_and_names[1:2] = [4, 5]\n",
            "print(some_numbers_and_names)\n",
            "print(len(some_numbers_and_names))\n"
        ],
        "execution_count": null,
        "outputs": []
    },
    {
        "cell_type": "code",
        "metadata": {
            "scrolled": true,
            "slideshow": {
                "slide_type": "slide"
            }
        },
        "source": [
            "# Liste elemanlar\u0131n\u0131 nas\u0131l silebiliriz?\n",
            "\n",
            "# a\u015fa\u011f\u0131daki \u00f6rnekte,`spam` ve `eggs` de\u011ferlerini silmek istersek, nas\u0131l bir yol izleyebiliriz?\n",
            "\n",
            "some_numbers_and_names = [1, 3, \"spam\", \"eggs\", 4, 5]\n",
            "\n",
            "print(some_numbers_and_names)\n",
            "print(len(some_numbers_and_names))\n"
        ],
        "execution_count": null,
        "outputs": []
    },
    {
        "cell_type": "code",
        "metadata": {
            "scrolled": true,
            "slideshow": {
                "slide_type": "slide"
            }
        },
        "source": [
            "# \u00e7\u00f6z\u00fcm : spam ve eggs elemanlar\u0131n\u0131 silmek i\u00e7in\n",
            "\n",
            "some_numbers_and_names = [1, 3, \"spam\", \"eggs\", 4, 5]\n",
            "print(some_numbers_and_names)\n",
            "print(len(some_numbers_and_names))\n",
            "\n",
            "some_numbers_and_names[2:4] = []  # bos liste tanimi\n",
            "\n",
            "print(some_numbers_and_names)\n",
            "print(len(some_numbers_and_names))\n"
        ],
        "execution_count": null,
        "outputs": []
    },
    {
        "cell_type": "code",
        "metadata": {
            "scrolled": true,
            "slideshow": {
                "slide_type": "slide"
            }
        },
        "source": [
            "# bir Listeye, `dir()` methodunu uygularsak?\n",
            "\n",
            "some_numbers_and_names = [1, 3, \"spam\", \"eggs\", 4, 5]\n",
            "print(dir(some_numbers_and_names))\n"
        ],
        "execution_count": null,
        "outputs": []
    },
    {
        "cell_type": "code",
        "metadata": {
            "scrolled": true,
            "slideshow": {
                "slide_type": "slide"
            }
        },
        "source": [
            "# + kullanarak eklemek\n",
            "\n",
            "# a\u015fa\u011f\u0131daki \u015fekilde ekleyebilir miyiz?\n",
            "\n",
            "some_numbers_and_names = [1, 3, \"spam\", \"eggs\", 4, 5]\n",
            "print(some_numbers_and_names)\n",
            "some_numbers_and_names = some_numbers_and_names + 6\n"
        ],
        "execution_count": null,
        "outputs": []
    },
    {
        "cell_type": "code",
        "metadata": {
            "scrolled": true,
            "slideshow": {
                "slide_type": "slide"
            }
        },
        "source": [
            "# + ile ekleyecegimiz eleman, yine bir liste olmal\u0131.\n",
            "\n",
            "some_numbers_and_names = [1, 3, \"spam\", \"eggs\", 4, 5]\n",
            "print(some_numbers_and_names)\n",
            "\n",
            "some_numbers_and_names = some_numbers_and_names + [6]\n",
            "\n",
            "print(some_numbers_and_names)\n"
        ],
        "execution_count": null,
        "outputs": []
    },
    {
        "cell_type": "markdown",
        "metadata": {
            "slideshow": {
                "slide_type": "slide"
            }
        },
        "source": [
            "# Sequence Operations\n",
            "- Common:\n",
            "- https://docs.python.org/3/library/stdtypes.html#common-sequence-operations\n",
            "- Mutable:\n",
            "- https://docs.python.org/3/library/stdtypes.html#mutable-sequence-types\n",
            "\n",
            "\n",
            "\n"
        ]
    },
    {
        "cell_type": "code",
        "metadata": {
            "scrolled": true,
            "slideshow": {
                "slide_type": "slide"
            }
        },
        "source": [
            "# append() kullan\u0131m\u0131\n",
            "\n",
            "# listenin sonuna eklemek icin.\n",
            "\n",
            "some_numbers_and_names = [1, 3, \"spam\", \"eggs\", 4, 5]\n",
            "print(some_numbers_and_names)\n",
            "\n",
            "some_numbers_and_names.append(6)\n",
            "print(some_numbers_and_names)\n"
        ],
        "execution_count": null,
        "outputs": []
    },
    {
        "cell_type": "markdown",
        "metadata": {
            "slideshow": {
                "slide_type": "slide"
            }
        },
        "source": [
            "# List i\u00e7in baz\u0131 di\u011fer methodlar.\n",
            "\n",
            "- `insert()`\n",
            "- `clear()`\n",
            "- `count()`\n",
            "- `remove()`\n",
            "- `pop()`\n",
            "\n",
            "\n",
            "\n"
        ]
    },
    {
        "cell_type": "code",
        "metadata": {
            "scrolled": true,
            "slideshow": {
                "slide_type": "slide"
            }
        },
        "source": [
            "# insert()\n",
            "\n",
            "list1 = [\"a\", \"b\", \"d\", \"e\"]\n",
            "list1.insert(2, \"c\")\n",
            "\n",
            "print(list1)\n"
        ],
        "execution_count": null,
        "outputs": []
    },
    {
        "cell_type": "code",
        "metadata": {
            "scrolled": true,
            "slideshow": {
                "slide_type": "slide"
            }
        },
        "source": [
            "# clear()\n",
            "\n",
            "list1 = [\"a\", \"b\", \"d\", \"e\"]\n",
            "list1.clear()\n",
            "\n",
            "print(list1)\n"
        ],
        "execution_count": null,
        "outputs": []
    },
    {
        "cell_type": "code",
        "metadata": {
            "scrolled": true,
            "slideshow": {
                "slide_type": "slide"
            }
        },
        "source": [
            "# count()\n",
            "\n",
            "list1 = [\"a\", \"b\", \"c\", \"c\", \"d\", \"e\"]\n",
            "\n",
            "print(list1.count(\"a\"))\n",
            "print(list1.count(\"c\"))\n",
            "print(list1.count(\"invalid\"))\n"
        ],
        "execution_count": null,
        "outputs": []
    },
    {
        "cell_type": "code",
        "metadata": {
            "scrolled": true,
            "slideshow": {
                "slide_type": "slide"
            }
        },
        "source": [
            "# remove()\n",
            "\n",
            "list1 = [\"a\", \"b\", \"c\", \"c\", \"d\", \"e\"]\n",
            "\n",
            "list1.remove(\"a\")\n",
            "print(list1)\n",
            "\n",
            "list1.remove(\"c\")\n",
            "print(list1)\n"
        ],
        "execution_count": null,
        "outputs": []
    },
    {
        "cell_type": "code",
        "metadata": {
            "scrolled": true,
            "slideshow": {
                "slide_type": "slide"
            }
        },
        "source": [
            "# pop()\n",
            "\n",
            "list1 = [\"a\", \"b\", \"c\", \"c\", \"d\", \"e\"]\n",
            "\n",
            "item = list1.pop(1)\n",
            "print(item)\n",
            "print(list1)\n"
        ],
        "execution_count": null,
        "outputs": []
    },
    {
        "cell_type": "code",
        "metadata": {
            "scrolled": true,
            "slideshow": {
                "slide_type": "slide"
            }
        },
        "source": [
            "# index()\n",
            "list1 = [\"a\", \"b\", \"c\", \"c\", \"d\", \"e\"]\n",
            "\n",
            "found_at = list1.index(\"c\")\n",
            "print(found_at)\n",
            "\n",
            "# ValueError:\n",
            "# found_at = list1.index(\"x\")\n",
            "# print(found_at)\n"
        ],
        "execution_count": null,
        "outputs": []
    },
    {
        "cell_type": "markdown",
        "metadata": {
            "slideshow": {
                "slide_type": "slide"
            }
        },
        "source": [
            "# `list` i\u00e7inde `list`\n",
            " - bir ki\u015fiyi simgeleyecek bir `list` yapal\u0131m.\n",
            " - ilk eleman\u0131: ad\u0131\n",
            " - sonraki eleman\u0131: soyad\u0131\n",
            " - sonraki eleman\u0131: mesle\u011fi (meslekleri?)\n",
            " - birden fazla ki\u015fiyi tutmak i\u00e7in de ayr\u0131 bir `list` yapal\u0131m.\n",
            "\n",
            "\n",
            "\n"
        ]
    },
    {
        "cell_type": "markdown",
        "metadata": {
            "slideshow": {
                "slide_type": "slide"
            }
        },
        "source": [
            "# bir listeyi s\u0131ralamak\n",
            "- \"sorted\" vs \"ordered\"\n",
            "- \"ordered\", \"koydugumuz s\u0131rada\" anlam\u0131na gelir.\n",
            "\n",
            "\n",
            "\n"
        ]
    },
    {
        "cell_type": "code",
        "metadata": {
            "scrolled": true,
            "slideshow": {
                "slide_type": "slide"
            }
        },
        "source": [
            "# sorted() fonksiyonu\n",
            "\n",
            "some_numbers = [2, 4, 5, 3]\n",
            "some_numbers2 = sorted(some_numbers)\n",
            "print(some_numbers)\n",
            "print(some_numbers2)\n"
        ],
        "execution_count": null,
        "outputs": []
    },
    {
        "cell_type": "code",
        "metadata": {
            "scrolled": true,
            "slideshow": {
                "slide_type": "slide"
            }
        },
        "source": [
            "# sorted() fonksiyonu, ters s\u0131ralamak\n",
            "some_numbers = [2, 4, 5, 3]\n",
            "some_numbers2 = sorted(some_numbers, reverse=True)\n",
            "print(some_numbers)\n",
            "print(some_numbers2)\n"
        ],
        "execution_count": null,
        "outputs": []
    },
    {
        "cell_type": "code",
        "metadata": {
            "scrolled": true,
            "slideshow": {
                "slide_type": "slide"
            }
        },
        "source": [
            "# a\u015fa\u011f\u0131daki kod \u00e7al\u0131\u015f\u0131nca ne olur?\n",
            "\n",
            "some_numbers_and_names = [1, 3, \"spam\", \"eggs\", 4, 5]\n",
            "print(sorted(some_numbers_and_names))\n",
            "\n",
            "#```\n",
            "#Traceback (most recent call last):\n",
            "#  File \"C:\\projects\\file1.py, line 2, in <module>\n",
            "#    print(sorted(some_numbers_and_names))\n",
            "#TypeError: '<' not supported between instances of\n",
            "#    'str' and 'int'\n",
            "#```\n"
        ],
        "execution_count": null,
        "outputs": []
    },
    {
        "cell_type": "code",
        "metadata": {
            "scrolled": true,
            "slideshow": {
                "slide_type": "slide"
            }
        },
        "source": [
            "# dir() bize bir list d\u00f6nd\u00fcr\u00fcr.\n",
            "\n",
            "result = dir(4)\n",
            "print(type(result))\n",
            "print(result)\n"
        ],
        "execution_count": null,
        "outputs": []
    },
    {
        "cell_type": "code",
        "metadata": {
            "scrolled": true,
            "slideshow": {
                "slide_type": "slide"
            }
        },
        "source": [
            "# list yard\u0131m dokuman\u0131n\u0131 okumak\n",
            "\n",
            "print(help(list))\n"
        ],
        "execution_count": null,
        "outputs": []
    },
    {
        "cell_type": "code",
        "metadata": {
            "scrolled": true,
            "slideshow": {
                "slide_type": "slide"
            }
        },
        "source": [
            "# Using Lists as Stacks\n",
            "\n",
            "# The list methods make it very easy to use a list as a stack, where the last element added is the first element retrieved (\u201clast-in, first-out\u201d).\n",
            "# To add an item to the top of the stack, use append().\n",
            "# To retrieve an item from the top of the stack, use pop() without an explicit index.\n",
            "\n",
            "stack = [3, 4, 5]\n",
            "stack.append(6)\n",
            "stack.append(7)\n",
            "print(stack)\n",
            "stack.pop()\n",
            "print(stack)\n",
            "stack.pop()\n",
            "print(stack)\n",
            "stack.pop()\n",
            "print(stack)\n"
        ],
        "execution_count": null,
        "outputs": []
    },
    {
        "cell_type": "markdown",
        "metadata": {
            "slideshow": {
                "slide_type": "slide"
            }
        },
        "source": [
            "# Uygulama: Futbol ligi \u00f6rne\u011fi\n",
            "\n",
            "- ispanya ligi yaratal\u0131m.\n",
            "- birka\u00e7 tak\u0131m ekleyelim.\n",
            "- ka\u00e7 tak\u0131m ekledik?\n",
            "- belli bir tak\u0131m\u0131 k\u00fcme d\u00fc\u015f\u00fcrelim.\n",
            "- son tak\u0131m\u0131 k\u00fcme d\u00fc\u015f\u00fcrelim.\n",
            "- d\u00fc\u015f\u00fcrme i\u015flerini yaparken, tak\u0131m listede mi, kontrol edelim.\n",
            "- italya ligi yaratal\u0131m.\n",
            "- iki ligin en \u00fcst iki tak\u0131m\u0131ndan yeni bir lig yaratal\u0131m.\n",
            "\n",
            "\n",
            "\n"
        ]
    },
    {
        "cell_type": "code",
        "metadata": {
            "scrolled": true,
            "slideshow": {
                "slide_type": "slide"
            }
        },
        "source": [
            "# list e\u015fitli\u011fi\n",
            "\n",
            "list1 = [\"a\", \"b\", \"c\"]\n",
            "list2 = list1\n",
            "list1.append(\"d\")\n",
            "print(list1)\n",
            "print(list2)\n"
        ],
        "execution_count": null,
        "outputs": []
    },
    {
        "cell_type": "code",
        "metadata": {
            "scrolled": true,
            "slideshow": {
                "slide_type": "slide"
            }
        },
        "source": [
            "# builtin id() fonksiyonu\n",
            "\n",
            "# bir nesnenin, haf\u0131zadaki adresini verir.\n",
            "\n",
            "x = 5\n",
            "adres = id(x)\n"
        ],
        "execution_count": null,
        "outputs": []
    },
    {
        "cell_type": "markdown",
        "metadata": {
            "slideshow": {
                "slide_type": "slide"
            }
        },
        "source": [
            "# is operator\n",
            "\n",
            " iki de\u011fi\u015fkenin haf\u0131za adreslerini kar\u015f\u0131la\u015ft\u0131rarak, ayn\u0131 de\u011fi\u015fken olup olmad\u0131\u011f\u0131n\u0131 tespit eder.\n",
            "\n",
            "\n",
            "\n"
        ]
    },
    {
        "cell_type": "code",
        "metadata": {
            "scrolled": true,
            "slideshow": {
                "slide_type": "slide"
            }
        },
        "source": [
            "# liste e\u015fitli\u011fi - \u00e7\u0131kt\u0131s\u0131 ne olur?\n",
            "\n",
            "list1 = [1, 2, 3]\n",
            "print(id(list1))\n",
            "\n",
            "list2 = list1\n",
            "print(id(list2))\n",
            "\n",
            "list2.append(4)\n",
            "\n",
            "print(list1)\n",
            "print(list2)\n",
            "\n",
            "list3 = [1, 2, 3, 4]\n",
            "print(list1 is list2)\n",
            "\n",
            "if list1 == list2:\n",
            "    print(\"list1 == list2\")\n",
            "else:\n",
            "    print(\"list1 != list2\")\n",
            "\n",
            "if list1 == list3:\n",
            "    print(\"list1 == list3\")\n",
            "else:\n",
            "    print(\"list1 != list3\")\n"
        ],
        "execution_count": null,
        "outputs": []
    },
    {
        "cell_type": "markdown",
        "metadata": {
            "slideshow": {
                "slide_type": "slide"
            }
        },
        "source": [
            "# Python Tutorial - Lists\n",
            "- https://docs.python.org/3/tutorial/introduction.html#lists\n"
        ]
    }
]
,
 "metadata": {
  "celltoolbar": "Slideshow",
  "kernelspec": {
   "display_name": "Python 3",
   "language": "python",
   "name": "python3"
  },
  "language_info": {
   "codemirror_mode": {
    "name": "ipython",
    "version": 3
   },
   "file_extension": ".py",
   "mimetype": "text/x-python",
   "name": "python",
   "nbconvert_exporter": "python",
   "pygments_lexer": "ipython3",
   "version": "3.7.4"
  }
 },
 "nbformat": 4,
 "nbformat_minor": 2
}