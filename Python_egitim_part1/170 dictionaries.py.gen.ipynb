{
 "cells":
    [
    {
        "cell_type": "markdown",
        "metadata": {
            "slideshow": {
                "slide_type": "slide"
            }
        },
        "source": [
            "# Dictionary\n",
            "\n",
            "- key-value (anahtar-de\u011fer) \u015feklinde \u00e7al\u0131\u015fan bir veri yap\u0131s\u0131d\u0131r.\n",
            "- her anahtar tekildir, tekrar etmez.\n",
            "- sequence tip de\u011fildir.\n",
            "- sequence: ranged by numbers\n",
            "- dictionaries: ranged by keys\n",
            "\n",
            "\n",
            "\n"
        ]
    },
    {
        "cell_type": "code",
        "metadata": {
            "scrolled": true,
            "slideshow": {
                "slide_type": "slide"
            }
        },
        "source": [
            "# nas\u0131l tan\u0131mlan\u0131r?\n",
            "\n",
            "dict1 = {}\n",
            "dict1[\"bir\"] = \"one\"\n",
            "dict1[\"iki\"] = \"two\"\n",
            "print(type(dict1))\n",
            "\n",
            "dict1 = {\"bir\":\"one\", \"iki\":\"two\"}\n",
            "print(dict1)\n",
            "print(type(dict1))\n",
            "\n",
            "dict1 = {\"bir\":\"one\", \"iki\":\"two\", \"bir\":\"uno\"}\n",
            "# print(dict1)  # ne yazar?\n",
            "print(type(dict1))\n"
        ],
        "execution_count": null,
        "outputs": []
    },
    {
        "cell_type": "code",
        "metadata": {
            "scrolled": true,
            "slideshow": {
                "slide_type": "slide"
            }
        },
        "source": [
            "# dir() uygularsak:\n",
            "\n",
            "dict1 = {\"bir\":\"one\", \"iki\":\"two\"}\n",
            "print(dir(dict1))\n"
        ],
        "execution_count": null,
        "outputs": []
    },
    {
        "cell_type": "code",
        "metadata": {
            "scrolled": true,
            "slideshow": {
                "slide_type": "slide"
            }
        },
        "source": [
            "# tekil elemanlar\u0131na eri\u015fim:\n",
            "\n",
            "dict1 = {\"bir\":\"one\", \"iki\":\"two\"}\n",
            "print(dict1[\"bir\"])\n",
            "print(dict1[\"iki\"])\n"
        ],
        "execution_count": null,
        "outputs": []
    },
    {
        "cell_type": "code",
        "metadata": {
            "scrolled": true,
            "slideshow": {
                "slide_type": "slide"
            }
        },
        "source": [
            "# tekil elemanlar\u0131na eri\u015fim (2)\n",
            "\n",
            "dict1 = {\"bir\":\"one\", \"iki\":\"two\"}\n",
            "print(dict1[\"uc\"])\n"
        ],
        "execution_count": null,
        "outputs": []
    },
    {
        "cell_type": "code",
        "metadata": {
            "scrolled": true,
            "slideshow": {
                "slide_type": "slide"
            }
        },
        "source": [
            "# in (membership) operat\u00f6r\u00fc\n",
            "\n",
            "# \u00f6nceden kontrol etme imkan\u0131m\u0131z olsayd\u0131 ?\n",
            "\n",
            "dict1 = {\"bir\":\"one\", \"iki\":\"two\"}\n",
            "\n",
            "print(len(dict1))\n",
            "\n",
            "if \"bir\" in dict1:\n",
            "    print(dict1[\"bir\"])\n",
            "\n",
            "if \"iki\" in dict1:\n",
            "    print(dict1[\"iki\"])\n",
            "\n",
            "if \"uc\" in dict1:\n",
            "    print(dict1[\"uc\"])\n",
            "else:\n",
            "    print(\"no such key\")\n"
        ],
        "execution_count": null,
        "outputs": []
    },
    {
        "cell_type": "markdown",
        "metadata": {
            "slideshow": {
                "slide_type": "slide"
            }
        },
        "source": [
            "# uygulama: \u015fifre kontrolu\n",
            "\n",
            "- kullan\u0131c\u0131n\u0131n sifrelerinin oldu\u011fu bir `dict` olsun.\n",
            "- kullan\u0131c\u0131dan, kullan\u0131c\u0131 ad\u0131 ve \u015fifre alal\u0131m.\n",
            "- login olabiliyorsa, login oldun diyelim.\n",
            "- degilse, olmad\u0131\u011f\u0131n\u0131 belirtelim.\n",
            "\n",
            "\n",
            "\n"
        ]
    },
    {
        "cell_type": "code",
        "metadata": {
            "scrolled": true,
            "slideshow": {
                "slide_type": "slide"
            }
        },
        "source": [
            "# bir eleman\u0131 silmek\n",
            "\n",
            "# iki method: `del()` ya da `pop()`\n",
            "\n",
            "dict1 = {\"bir\":\"one\", \"iki\":\"two\", \"dort\":\"four\"}\n",
            "\n",
            "del dict1[\"dort\"]\n",
            "value = dict1.pop(\"iki\")\n",
            "\n",
            "print(value)\n",
            "print(dict1)\n",
            "\n",
            "print(dir(dict1))\n"
        ],
        "execution_count": null,
        "outputs": []
    },
    {
        "cell_type": "code",
        "metadata": {
            "scrolled": true,
            "slideshow": {
                "slide_type": "slide"
            }
        },
        "source": [
            "# bir anahtar\u0131n de\u011ferini de\u011fi\u015ftirmek\n",
            "\n",
            "dict1 = {\"bir\":\"one\", \"iki\":\"two\", \"dort\":\"four\"}\n",
            "\n",
            "dict1[\"bir\"] = \"un\"\n",
            "dict1[\"bir\"] = \"1\"\n",
            "\n",
            "print(dict1)\n"
        ],
        "execution_count": null,
        "outputs": []
    },
    {
        "cell_type": "markdown",
        "metadata": {
            "slideshow": {
                "slide_type": "slide"
            }
        },
        "source": [
            "# anahtar, tekil (unique) olmal\u0131d\u0131r.\n",
            "\n",
            "```python\n",
            "dict_name[key] = value\n",
            "```\n",
            "\n",
            " key olarak ne kullan\u0131labilir?\n",
            "\n",
            "\n",
            "\n"
        ]
    },
    {
        "cell_type": "code",
        "metadata": {
            "scrolled": true,
            "slideshow": {
                "slide_type": "slide"
            }
        },
        "source": [
            "# anahtar olarak string\n",
            "\n",
            "dict1 = {}\n",
            "dict1[\"one\"] = 1\n",
            "\n",
            "print(dict1)\n"
        ],
        "execution_count": null,
        "outputs": []
    },
    {
        "cell_type": "code",
        "metadata": {
            "scrolled": true,
            "slideshow": {
                "slide_type": "slide"
            }
        },
        "source": [
            "# anahtar olarak say\u0131lar, \u00f6rne\u011fin integer ya da float\n",
            "\n",
            "dict1 = {}\n",
            "dict1[1] = \"one\"\n",
            "\n",
            "print(dict1)\n"
        ],
        "execution_count": null,
        "outputs": []
    },
    {
        "cell_type": "markdown",
        "metadata": {
            "slideshow": {
                "slide_type": "slide"
            }
        },
        "source": [
            "# Uygulama: ingilizce-t\u00fcrkce s\u00f6zl\u00fck \u00f6rne\u011fi\n",
            "\n",
            "- a\u015fa\u011f\u0131daki kelimeleri ekleyelim:\n",
            "- one, two\n",
            "- kullan\u0131c\u0131ya, hangi kelimeyi arad\u0131\u011f\u0131n\u0131 soral\u0131m.\n",
            "- e\u011fer s\u00f6zl\u00fckte yoksa, s\u00f6zl\u00fc\u011fe ekleyelim.\n",
            "\n",
            "\n",
            "\n"
        ]
    },
    {
        "cell_type": "code",
        "metadata": {
            "scrolled": true,
            "slideshow": {
                "slide_type": "slide"
            }
        },
        "source": [
            "# il dictionary \u00f6rne\u011fi\n",
            "\n",
            "iller = {}\n",
            "iller[\"adana\"] = (\"01\", \"akdeniz\")\n",
            "iller[\"ordu\"] = (\"52\", \"karadeniz\")\n",
            "iller[\"samsun\"] = (\"55\", \"karadeniz\")\n",
            "iller[\"izmir\"] = (\"35\", \"ege\")\n",
            "iller[\"erzurum\"] = (\"25\", \"do\u011fu anadolu\")\n",
            "iller[\"istanbul\"] = (\"34\", \"marmara\")\n"
        ],
        "execution_count": null,
        "outputs": []
    },
    {
        "cell_type": "markdown",
        "metadata": {
            "slideshow": {
                "slide_type": "slide"
            }
        },
        "source": [
            "# Uygulama: il dictionary \u00f6rne\u011fi (2)\n",
            "\n",
            "- kullan\u0131c\u0131dan bir il bilgisi alal\u0131m.\n",
            "- de\u011feri ekrana yazal\u0131m.\n",
            "- bilmedi\u011fimiz bir il ise, plaka kodu ve b\u00f6lgesini soral\u0131m.\n",
            "- `iller` i\u00e7ine ekleyelim.\n",
            "\n",
            "\n",
            "\n"
        ]
    },
    {
        "cell_type": "markdown",
        "metadata": {
            "slideshow": {
                "slide_type": "slide"
            }
        },
        "source": [
            "# ingilizce-t\u00fcrkce s\u00f6zl\u00fck \u00f6rne\u011fi\n",
            "\n",
            "- ingilizce `free` kelimesinin, T\u00fcrk\u00e7e'de 2 anlam\u0131 var.\n",
            "- ikisini de tutmak istiyoruz.\n",
            "- nas\u0131l bir \u00e7\u00f6z\u00fcm getirebiliriz?\n",
            "\n",
            "\n",
            "\n"
        ]
    },
    {
        "cell_type": "code",
        "metadata": {
            "scrolled": true,
            "slideshow": {
                "slide_type": "slide"
            }
        },
        "source": [
            "# anahtar olarak tuple\n",
            "\n",
            "tuple1 = (\"fransizca\", 1)\n",
            "\n",
            "dict1 = {}\n",
            "dict1[tuple1] = \"one\"\n",
            "\n",
            "print(dict1)\n"
        ],
        "execution_count": null,
        "outputs": []
    },
    {
        "cell_type": "code",
        "metadata": {
            "scrolled": true,
            "slideshow": {
                "slide_type": "slide"
            }
        },
        "source": [
            "# de\u011feri geri almaya \u00e7al\u0131\u015fal\u0131m.\n",
            "\n",
            "tuple1 = (\"fransizca\", 1)\n",
            "\n",
            "dict1 = {}\n",
            "dict1[tuple1] = \"one\"\n",
            "\n",
            "tuple2 = (\"fransizca\", 1)\n",
            "\n",
            "print(dict1[tuple2])\n"
        ],
        "execution_count": null,
        "outputs": []
    },
    {
        "cell_type": "code",
        "metadata": {
            "scrolled": true,
            "slideshow": {
                "slide_type": "slide"
            }
        },
        "source": [
            "# list kullan\u0131rsak\n",
            "\n",
            "list1 = (\"fransizca\", 1)\n",
            "\n",
            "dict1 = {}\n",
            "dict1[list1] = \"one\"\n",
            "\n",
            "list2 = [\"fransizca\", 1]\n",
            "\n",
            "print(dict1[list2])\n",
            "\n",
            "\n",
            "#Traceback (most recent call last):\n",
            "#  File \"C:\\projects\\file1.py\", line 8, in <module>\n",
            "#    print(dict1[list2])\n",
            "#TypeError: unhashable type: 'list'\n"
        ],
        "execution_count": null,
        "outputs": []
    },
    {
        "cell_type": "code",
        "metadata": {
            "scrolled": true,
            "slideshow": {
                "slide_type": "slide"
            }
        },
        "source": [
            "# dictionary ile yemek listesi\n",
            "\n",
            "yemek_listesi = {}\n",
            "yemek_listesi[\"pazartesi\"] = (\"pide\", \"ayran\", \"cacik\")\n",
            "yemek_listesi[\"sali\"] = (\"lahmacun\", \"cola\", None)\n",
            "yemek_listesi[\"carsamba\"] = (\"t-bone\", \"srp\", None)\n",
            "yemek_listesi[\"persembe\"] = (\"midye\", \"br\", None)\n",
            "yemek_listesi[\"cuma\"] = (\"hamburger\", \"soda\", \"ayran\")\n",
            "# print(yemek_listesi)\n",
            "for gun in yemek_listesi:  # sadece key\n",
            "    print(gun)\n",
            "    print(yemek_listesi[gun])\n",
            "\n",
            "for x in yemek_listesi.items():\n",
            "    # ('cuma', ('hamburger', 'soda'))\n",
            "    pass\n",
            "\n",
            "for gun, menu in yemek_listesi.items():\n",
            "    print(gun)\n",
            "    # print(\"\\t\", menu)\n",
            "    yiyecek, icecek, yan_yemek = menu\n",
            "    print(\"\\t\\t\", icecek)\n"
        ],
        "execution_count": null,
        "outputs": []
    },
    {
        "cell_type": "markdown",
        "metadata": {
            "slideshow": {
                "slide_type": "slide"
            }
        },
        "source": [
            "# son\n"
        ]
    }
]
,
 "metadata": {
  "celltoolbar": "Slideshow",
  "kernelspec": {
   "display_name": "Python 3",
   "language": "python",
   "name": "python3"
  },
  "language_info": {
   "codemirror_mode": {
    "name": "ipython",
    "version": 3
   },
   "file_extension": ".py",
   "mimetype": "text/x-python",
   "name": "python",
   "nbconvert_exporter": "python",
   "pygments_lexer": "ipython3",
   "version": "3.7.4"
  }
 },
 "nbformat": 4,
 "nbformat_minor": 2
}