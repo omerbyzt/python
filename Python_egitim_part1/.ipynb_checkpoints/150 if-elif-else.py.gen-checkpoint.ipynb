{
 "cells": [
  {
   "cell_type": "markdown",
   "metadata": {
    "slideshow": {
     "slide_type": "slide"
    }
   },
   "source": [
    "# Akış Denetimi if-elif-else\n",
    "\n",
    " - operatörler\n",
    " - bloklar\n",
    " - if\n",
    "\n",
    "\n",
    "\n"
   ]
  },
  {
   "cell_type": "code",
   "execution_count": 1,
   "metadata": {
    "scrolled": true,
    "slideshow": {
     "slide_type": "slide"
    }
   },
   "outputs": [
    {
     "name": "stdout",
     "output_type": "stream",
     "text": [
      "True\n",
      "False\n",
      "False\n"
     ]
    }
   ],
   "source": [
    "# boolean değişkenler\n",
    "\n",
    "a = True\n",
    "b = False\n",
    "print(a)\n",
    "print(b)\n",
    "print(a == b)\n",
    "esit_mi = a == b\n",
    "dogru = True\n",
    "izlendi = False\n",
    "bulundu = True\n"
   ]
  },
  {
   "cell_type": "markdown",
   "metadata": {
    "slideshow": {
     "slide_type": "slide"
    }
   },
   "source": [
    "# mantıksal (logical) operatörler\n",
    "\n",
    " - `and`\n",
    " - `or`\n",
    " - `not`\n",
    "\n",
    "\n",
    "\n"
   ]
  },
  {
   "cell_type": "code",
   "execution_count": null,
   "metadata": {
    "scrolled": true,
    "slideshow": {
     "slide_type": "slide"
    }
   },
   "outputs": [],
   "source": [
    "# `and` operatörü\n",
    "\n",
    "a = True\n",
    "b = True\n",
    "c = False\n",
    "d = False\n",
    "\n",
    "print(a and b)\n",
    "print(a and c)\n",
    "print(c and d)\n"
   ]
  },
  {
   "cell_type": "code",
   "execution_count": null,
   "metadata": {
    "scrolled": true,
    "slideshow": {
     "slide_type": "slide"
    }
   },
   "outputs": [],
   "source": [
    "# `or` operatorü\n",
    "\n",
    "a = True\n",
    "b = True\n",
    "c = False\n",
    "d = False\n",
    "\n",
    "print(a or b)\n",
    "print(a or c)\n",
    "print(c or d)\n"
   ]
  },
  {
   "cell_type": "code",
   "execution_count": null,
   "metadata": {
    "scrolled": true,
    "slideshow": {
     "slide_type": "slide"
    }
   },
   "outputs": [],
   "source": [
    "# `not` operatorü\n",
    "\n",
    "a = True\n",
    "b = True\n",
    "c = False\n",
    "d = False\n",
    "\n",
    "print(a)\n",
    "print(not a)\n",
    "print(c)\n",
    "print(not c)\n"
   ]
  },
  {
   "cell_type": "markdown",
   "metadata": {
    "slideshow": {
     "slide_type": "slide"
    }
   },
   "source": [
    "# Karşılaştırma operatörleri\n",
    "\n",
    " ```\n",
    " ==\n",
    " != ( Python 2 : <> )\n",
    " >\n",
    " <\n",
    " >=\n",
    " <=\n",
    " ```\n",
    "\n",
    "\n",
    "\n"
   ]
  },
  {
   "cell_type": "markdown",
   "metadata": {
    "slideshow": {
     "slide_type": "slide"
    }
   },
   "source": [
    "# Atama (assignment) operatörleri\n",
    "\n",
    " ```\n",
    " =\n",
    "\n",
    " +=\n",
    " -=\n",
    "\n",
    " *=\n",
    " /=\n",
    " %=\n",
    " **=\n",
    " //=\n",
    " ```\n",
    "\n",
    "\n",
    "\n"
   ]
  },
  {
   "cell_type": "markdown",
   "metadata": {
    "slideshow": {
     "slide_type": "slide"
    }
   },
   "source": [
    "# if deyimi\n",
    "\n",
    " ```python\n",
    " if ifade:\n",
    "     blok\n",
    "     blok\n",
    " ```\n",
    "\n",
    " - indentation (girintileme)\n",
    " - PEP8'e göre 4 space kullanılır, tab tuşuna basılır ama tab karakteri  kullanılmaz.\n",
    " - ifade parantez içinde olmak zorunda değildir.\n",
    "\n",
    "\n",
    "\n"
   ]
  },
  {
   "cell_type": "code",
   "execution_count": null,
   "metadata": {
    "scrolled": true,
    "slideshow": {
     "slide_type": "slide"
    }
   },
   "outputs": [],
   "source": [
    "# if ile şifre kontrol\n",
    "\n",
    "gizli_sifre = \"12345\"\n",
    "girilen_sifre = input(\"sifreyi giriniz:\")\n",
    "esit_mi = gizli_sifre == girilen_sifre\n",
    "print(esit_mi)\n",
    "print(type(esit_mi))  # <class 'bool'>\n",
    "if esit_mi:\n",
    "    print(\"login olabilirsiniz.\")\n",
    "\n",
    "# ya da:\n",
    "if gizli_sifre == girilen_sifre:\n",
    "    print(\"login olabilirsiniz.\")\n"
   ]
  },
  {
   "cell_type": "code",
   "execution_count": null,
   "metadata": {
    "scrolled": true,
    "slideshow": {
     "slide_type": "slide"
    }
   },
   "outputs": [],
   "source": [
    "# if deyimi\n",
    "\n",
    "if 5 > 4:\n",
    "    print(\"5 buyuk\")\n",
    "\n",
    "if 1:\n",
    "    print(\"hep 1\")\n",
    "\n",
    "if True:\n",
    "    print(\"hep True\")\n"
   ]
  },
  {
   "cell_type": "markdown",
   "metadata": {
    "slideshow": {
     "slide_type": "slide"
    }
   },
   "source": [
    "# if - else deyimi\n",
    "\n",
    " ```python\n",
    " if ifade:\n",
    "     blok\n",
    "     blok\n",
    " else:\n",
    "     blok\n",
    "     blok\n",
    " ```\n",
    "\n",
    "\n",
    "\n"
   ]
  },
  {
   "cell_type": "markdown",
   "metadata": {
    "slideshow": {
     "slide_type": "slide"
    }
   },
   "source": [
    "# Uygulama : 2 sayı eşitliği\n",
    "\n",
    " - Kullanıcıdan 2 sayı al, eğer eşitlerse eşit yazsın.\n",
    " - Eşit değillerse, eşit değil yazsın.\n",
    " - Buna ek olarak, eğer alınan değer 6 ise, ek olarak, \"en sevdiğim sayı\" desin.\n",
    "\n",
    "\n",
    "\n"
   ]
  },
  {
   "cell_type": "markdown",
   "metadata": {
    "slideshow": {
     "slide_type": "slide"
    }
   },
   "source": [
    "# Uygulama : Bankamızdan SMS almak ister misiniz?\n",
    "\n",
    " - kullanıcıya soru sorup, cevabını yazan bir uygulama yazalım.\n",
    "\n",
    "\n",
    "\n"
   ]
  },
  {
   "cell_type": "code",
   "execution_count": null,
   "metadata": {
    "scrolled": true,
    "slideshow": {
     "slide_type": "slide"
    }
   },
   "outputs": [],
   "source": [
    "# Çözüm : Bankamızdan SMS almak ister misiniz?\n",
    "\n",
    "# kullanıcıya soru sorup, cevabını yazan bir uygulama yazalım.\n",
    "\n",
    "cevap = input(\"SMS almak ister misiniz? e/h\")\n",
    "sms_gonderilsin = False\n",
    "if cevap == \"e\":\n",
    "    sms_gonderilsin = True\n",
    "\n",
    "if sms_gonderilsin:\n",
    "    print(\"reklam gonderilecek\")\n"
   ]
  },
  {
   "cell_type": "markdown",
   "metadata": {
    "slideshow": {
     "slide_type": "slide"
    }
   },
   "source": [
    "# if - elif - else deyimi\n",
    "\n",
    " ```python\n",
    " if ifade1:\n",
    "     blok\n",
    " elif ifade2:\n",
    "     blok\n",
    " elif ifade3:\n",
    "     blok\n",
    " elif ifade4:\n",
    "     blok\n",
    " else:\n",
    "     blok\n",
    " ```\n",
    "\n",
    "\n",
    "\n"
   ]
  },
  {
   "cell_type": "markdown",
   "metadata": {
    "slideshow": {
     "slide_type": "slide"
    }
   },
   "source": [
    "# Uygulama: Yol ücretleri hesaplama\n",
    "\n",
    " - Verilen tablolara göre, yolcunun nereye gideceğini, ve business-class mı uçacağını sorup,\n",
    " - buna göre toplam ücreti hesaplayan bir uygulama yazınız.\n",
    " - Eğer gitmek istediği yer, tabloda yoksa, yolcuya bunu da belirtiniz.\n",
    "\n",
    "\n",
    " ```\n",
    " Barcelona | 200\n",
    " Paris     | 200\n",
    " Milano    | 150\n",
    " Atina     | 100\n",
    " Ankara    | 50\n",
    " ```\n",
    "\n",
    " ```\n",
    " Business | +100\n",
    " ```\n",
    "\n",
    "\n",
    "\n"
   ]
  },
  {
   "cell_type": "markdown",
   "metadata": {
    "slideshow": {
     "slide_type": "slide"
    }
   },
   "source": [
    "# Uygulama : puan-not çevirisi\n",
    "\n",
    " - Kullanıcıdan bir puan alalım.\n",
    " - Aşağıdaki aralıklara göre, notunu harf olarak belirleyelim.\n",
    "\n",
    " ```\n",
    " D: 0 .. 50\n",
    " C: 51 .. 65\n",
    " B: 66 .. 85\n",
    " A: 86 .. 100\n",
    " ```\n",
    "\n",
    "\n",
    "\n"
   ]
  },
  {
   "cell_type": "markdown",
   "metadata": {
    "slideshow": {
     "slide_type": "slide"
    }
   },
   "source": [
    "# Uygulama : operator ve 2 sayı almak\n",
    "\n",
    " - Kullanıcıdan 1 operatör ve iki de sayı alıp, sonucunu yazan bir uygulama yazınız.\n",
    "\n",
    " ```\n",
    " operand1 >>> 3\n",
    " operator >>> +\n",
    " operand2 >>> 2\n",
    " 3.0 + 2.0 = 5.0\n",
    " ```\n",
    "\n",
    "\n",
    "\n"
   ]
  },
  {
   "cell_type": "markdown",
   "metadata": {
    "slideshow": {
     "slide_type": "slide"
    }
   },
   "source": [
    "# Çözüm : operator ve 2 sayı almak\n",
    "\n",
    " - Kullanıcıdan 1 operatör ve iki de sayı alıp, sonucunu yazan bir uygulama yazınız.\n",
    "\n",
    " ```python\n",
    " operand1 = float(input(\"operand1 >>> \"))\n",
    " operator = input(\"operator >>> \")\n",
    " operand2 = float(input(\"operand2 >>> \"))\n",
    "\n",
    " if operator == \"+\":\n",
    "     result = operand1 + operand2\n",
    " elif operator == \"-\":\n",
    "     result = operand1 - operand2\n",
    " elif operator == \"*\":\n",
    "     result = operand1 * operand2\n",
    " elif operator == \"/\":\n",
    "     result = operand1 / operand2\n",
    " elif operator == \"//\":\n",
    "     result = operand1 // operand2\n",
    "\n",
    " print(\"{} {} {} = {}\".format(operand1, operator, operand2, result))\n",
    " ```\n",
    "\n",
    "\n",
    "\n"
   ]
  },
  {
   "cell_type": "markdown",
   "metadata": {
    "slideshow": {
     "slide_type": "slide"
    }
   },
   "source": [
    "# Uygulama : 3 sayı içinde min ve max\n",
    "\n",
    " - Kullanıcıdan 3 sayı alarak, en büyük ve en küçük olanını ekrana yazan uygulama\n",
    "\n",
    " ```\n",
    " >>>1\n",
    " >>>2\n",
    " >>>3\n",
    " max :  3.0\n",
    " min :  1.0\n",
    " ```\n",
    "\n",
    "\n",
    "\n"
   ]
  },
  {
   "cell_type": "code",
   "execution_count": null,
   "metadata": {
    "scrolled": true,
    "slideshow": {
     "slide_type": "slide"
    }
   },
   "outputs": [],
   "source": [
    "# Çözüm : 3 sayı içinde min ve max\n",
    "\n",
    "# Kullanıcıdan 3 sayı alarak, en büyük ve en küçük olanını ekrana yazan uygulama\n",
    "\n",
    "n1 = float(input(\">>>\"))\n",
    "n2 = float(input(\">>>\"))\n",
    "n3 = float(input(\">>>\"))\n",
    "\n",
    "if (n1 >= n2) and (n1 >= n3):\n",
    "    print(\"max : \", n1)\n",
    "elif (n2 >= n1) and (n2 >= n3):\n",
    "    print(\"max : \", n2)\n",
    "elif (n3 >= n1) and (n3 >= n2):\n",
    "    print(\"max : \", n3)\n",
    "\n",
    "if (n1 <= n2) and (n1 <= n3):\n",
    "    print(\"min : \", n1)\n",
    "elif (n2 <= n1) and (n2 <= n3):\n",
    "    print(\"min : \", n2)\n",
    "elif (n3 <= n1) and (n3 <= n2):\n",
    "    print(\"min : \", n3)\n"
   ]
  },
  {
   "cell_type": "markdown",
   "metadata": {
    "slideshow": {
     "slide_type": "slide"
    }
   },
   "source": [
    "# son\n"
   ]
  }
 ],
 "metadata": {
  "celltoolbar": "Slideshow",
  "kernelspec": {
   "display_name": "Python 3",
   "language": "python",
   "name": "python3"
  },
  "language_info": {
   "codemirror_mode": {
    "name": "ipython",
    "version": 3
   },
   "file_extension": ".py",
   "mimetype": "text/x-python",
   "name": "python",
   "nbconvert_exporter": "python",
   "pygments_lexer": "ipython3",
   "version": "3.8.5"
  }
 },
 "nbformat": 4,
 "nbformat_minor": 2
}
