{
 "cells": [
  {
   "cell_type": "markdown",
   "metadata": {
    "slideshow": {
     "slide_type": "slide"
    }
   },
   "source": [
    "# `for` döngüsü\n",
    "\n",
    " - `list`, `tuple`, `str`, `dict` gibi veri yapılarının elemanları üzerinde döner.\n",
    " - bir listeyi tarayarak, her bir eleman üzerinde işlem yapabiliriz.\n",
    "\n",
    "\n",
    "\n"
   ]
  },
  {
   "cell_type": "code",
   "execution_count": null,
   "metadata": {
    "scrolled": true,
    "slideshow": {
     "slide_type": "slide"
    }
   },
   "outputs": [],
   "source": [
    "# `for` döngüsü\n",
    "\n",
    "sehirler = [\"istanbul\", \"izmir\", \"ankara\"]\n",
    "for sehir in sehirler:\n",
    "    print(sehir)\n"
   ]
  },
  {
   "cell_type": "code",
   "execution_count": null,
   "metadata": {
    "scrolled": true,
    "slideshow": {
     "slide_type": "slide"
    }
   },
   "outputs": [],
   "source": [
    "# for ile iterasyon\n",
    "\n",
    "# list, tuple, string, dictionary\n",
    "\n",
    "list1 = [1, 2, 3]\n",
    "\n",
    "for item in list1:\n",
    "    print(item)\n",
    "\n",
    "tuple1 = (1, 2, 3)\n",
    "\n",
    "for item in tuple1:\n",
    "    print(item)\n",
    "\n",
    "string1 = \"abcdef\"\n",
    "\n",
    "for item in string1:\n",
    "    print(item)\n",
    "\n",
    "dict1 = {}\n",
    "dict1[\"one\"] = 1\n",
    "dict1[\"two\"] = 2\n",
    "dict1[\"three\"] = 3\n",
    "dict1[\"dort\"] = 4\n",
    "dict1[\"bes\"] = 5\n",
    "\n",
    "for key in dict1:\n",
    "    value = dict1[key]\n",
    "    print(key, \" : \", value)\n"
   ]
  },
  {
   "cell_type": "code",
   "execution_count": null,
   "metadata": {
    "scrolled": true,
    "slideshow": {
     "slide_type": "slide"
    }
   },
   "outputs": [],
   "source": [
    "# for, dictionary üzerinde dönebilir.\n",
    "\n",
    "ti_sozluk = {}\n",
    "ti_sozluk[\"bir\"] = \"one\"\n",
    "ti_sozluk[\"iki\"] = \"two\"\n",
    "ti_sozluk[\"yedi\"] = \"seven\"\n",
    "\n",
    "for turkce_kelime in ti_sozluk:\n",
    "    print(turkce_kelime)\n",
    "\n",
    "for item in ti_sozluk.items():\n",
    "    print(item)\n",
    "    print(type(item))  # <class 'tuple'>\n"
   ]
  },
  {
   "cell_type": "markdown",
   "metadata": {
    "slideshow": {
     "slide_type": "slide"
    }
   },
   "source": [
    "# uygulama: for döngüsü ile film listesinde arama yapmak\n",
    "\n",
    " - bir film listesi olsun.\n",
    " - birkaç alanı varsa, nasıl bir veri tipinde tutmalıyız?\n",
    " - kullanıcıdan aranan film bilgisini alalım.\n",
    " - filmerde arama yapabilsin.\n",
    " - küçük-büyük harf farkı olmasın, hepsini bulsun.\n",
    "\n",
    "\n",
    "\n"
   ]
  },
  {
   "cell_type": "code",
   "execution_count": null,
   "metadata": {
    "scrolled": true,
    "slideshow": {
     "slide_type": "slide"
    }
   },
   "outputs": [],
   "source": [
    "# çözüm: for döngüsü ile film listesinde arama yapmak\n",
    "\n",
    "tum_filmler = [\"game of thrones\", \"godzilla\", \"matrix\", \"batman\", \"lucy\", \"hababam sinifi\", \"amerikan pastasi\"]\n",
    "\n",
    "aranan = \"ma\"  # kullanici girsin.\n",
    "\n",
    "bulundu = False\n",
    "\n",
    "for bizdeki_film in tum_filmler:\n",
    "    if bizdeki_film.find(aranan) > -1:\n",
    "        print(bizdeki_film)\n",
    "        bulundu = True\n",
    "\n",
    "if not bulundu:\n",
    "    print(\"oyle bir film yok\")\n"
   ]
  },
  {
   "cell_type": "code",
   "execution_count": null,
   "metadata": {
    "scrolled": true,
    "slideshow": {
     "slide_type": "slide"
    }
   },
   "outputs": [],
   "source": [
    "# range\n",
    "\n",
    "# belli bir sayı aralığında döndürmek için, `range()` kullanılır.\n",
    "\n",
    "for i in range(4):\n",
    "    print(i)\n"
   ]
  },
  {
   "cell_type": "code",
   "execution_count": null,
   "metadata": {
    "scrolled": true,
    "slideshow": {
     "slide_type": "slide"
    }
   },
   "outputs": [],
   "source": [
    "# range(stop)\n",
    "\n",
    "r1 = range(4)\n",
    "print(r1)\n",
    "print(r1[0])\n",
    "print(r1[3])\n",
    "print(r1[4])  # hata?\n"
   ]
  },
  {
   "cell_type": "code",
   "execution_count": null,
   "metadata": {
    "scrolled": true,
    "slideshow": {
     "slide_type": "slide"
    }
   },
   "outputs": [],
   "source": [
    "# range(start, stop)\n",
    "\n",
    "r1 = range(2, 4)\n",
    "print(r1)\n",
    "print(r1[0])\n",
    "print(r1[1])\n"
   ]
  },
  {
   "cell_type": "code",
   "execution_count": null,
   "metadata": {
    "scrolled": true,
    "slideshow": {
     "slide_type": "slide"
    }
   },
   "outputs": [],
   "source": [
    "# range(start, stop[, step])\n",
    "\n",
    "r1 = range(2, 9, 3)\n",
    "print(r1)\n",
    "print(r1[0])\n",
    "print(r1[1])\n",
    "print(r1[2])\n"
   ]
  },
  {
   "cell_type": "markdown",
   "metadata": {
    "slideshow": {
     "slide_type": "slide"
    }
   },
   "source": [
    "# uygulama: for ile seri hesaplama\n",
    "\n",
    " - x = 1/2 + 2/3 + .... 10/11\n",
    " - x'in değeri nedir?\n",
    "\n",
    "\n",
    "\n"
   ]
  },
  {
   "cell_type": "markdown",
   "metadata": {
    "slideshow": {
     "slide_type": "slide"
    }
   },
   "source": [
    "# uygulama: list içinde list toplamı\n",
    " - bu değişkenin içindeki sayıların toplamını hesaplayınız.\n",
    " - `data = [[3, 9, 4], [5, 2, 9], [8, 2, 5]]`\n",
    "\n",
    "\n",
    "\n"
   ]
  },
  {
   "cell_type": "code",
   "execution_count": null,
   "metadata": {
    "scrolled": true,
    "slideshow": {
     "slide_type": "slide"
    }
   },
   "outputs": [],
   "source": [
    "# Python 2.x ve 3.x için range() farkı\n",
    "\n",
    "# Python2: list döndürür\n",
    "# Python3: range object döndürür\n",
    "\n",
    "print(range(5))\n",
    "\n",
    "r1 = range(5)\n",
    "print(type(r1))\n",
    "print(r1)\n"
   ]
  },
  {
   "cell_type": "code",
   "execution_count": null,
   "metadata": {
    "scrolled": true,
    "slideshow": {
     "slide_type": "slide"
    }
   },
   "outputs": [],
   "source": [
    "# help(range)\n",
    "\n",
    "help(range)\n"
   ]
  },
  {
   "cell_type": "code",
   "execution_count": null,
   "metadata": {
    "scrolled": true,
    "slideshow": {
     "slide_type": "slide"
    }
   },
   "outputs": [],
   "source": [
    "# range nesnesini, listeye çevirmek\n",
    "\n",
    "# öncelikle, bir range() fonksiyonu ne döndürüyor, onu görelim:\n",
    "print(type(range(7)))  # <class 'range'>\n",
    "\n",
    "# tüm elemanları hazır etmek istersek:\n",
    "li1 = list(range(7))\n",
    "print(type(li1))  # <class 'list'>\n"
   ]
  },
  {
   "cell_type": "code",
   "execution_count": null,
   "metadata": {
    "scrolled": true,
    "slideshow": {
     "slide_type": "slide"
    }
   },
   "outputs": [],
   "source": [
    "# uygulama: list içinde list toplamı\n",
    "\n",
    "# aşağıdaki veride, tüm hücrelerdeki verinin toplamı nedir?\n",
    "\n",
    "data = [[3, 9, 4], [5, 2, 9], [8, 2, 5]]\n"
   ]
  },
  {
   "cell_type": "code",
   "execution_count": null,
   "metadata": {
    "scrolled": true,
    "slideshow": {
     "slide_type": "slide"
    }
   },
   "outputs": [],
   "source": [
    "# rastgele bir liste oluşturmak için\n",
    "\n",
    "# daha büyük veri oluşturmak için:\n",
    "# bir döngü ile beraber, random kullanılabilir:\n",
    "\n",
    "import random\n",
    "x = random.randint(0, 9)\n",
    "print(x)\n"
   ]
  },
  {
   "cell_type": "markdown",
   "metadata": {
    "slideshow": {
     "slide_type": "slide"
    }
   },
   "source": [
    "# for ile Uygulama : not ortalaması\n",
    "\n",
    " - Kullanıcıdan, sınıftaki öğrenci sayısını alıp, o kadar notu `input()` olarak alan ve ortalamasını yazan program.\n",
    "\n",
    "\n",
    "\n"
   ]
  },
  {
   "cell_type": "markdown",
   "metadata": {
    "slideshow": {
     "slide_type": "slide"
    }
   },
   "source": [
    "# for ile Uygulama : break ve continue kullanımı\n",
    "\n",
    " - istediğimiz çıktı:\n",
    "\n",
    " ```\n",
    " 1\n",
    " 2\n",
    " 3\n",
    " 5\n",
    " ```\n",
    "\n",
    "\n",
    "\n"
   ]
  },
  {
   "cell_type": "code",
   "execution_count": null,
   "metadata": {
    "scrolled": true,
    "slideshow": {
     "slide_type": "slide"
    }
   },
   "outputs": [],
   "source": [
    "# for ile Uygulama : break ve continue kullanımı\n",
    "\n",
    "for i in range(1, 9):\n",
    "    if i == 4:\n",
    "        continue\n",
    "    elif i == 6:\n",
    "        break\n",
    "    print(i)\n"
   ]
  },
  {
   "cell_type": "markdown",
   "metadata": {
    "slideshow": {
     "slide_type": "slide"
    }
   },
   "source": [
    "# Uygulama\n",
    "\n",
    " şu uygulama ne kadar mantıklı?\n",
    "\n",
    " - Kullanıcı, negatif bir sayı girene kadar kullanıcıdan değer alıp, bittiğinde ortalamasını hesaplayan bir program.\n",
    " - break ile tekrar yazalım.\n",
    "\n",
    " ```\n",
    " >>> 100\n",
    " >>> 80\n",
    " >>> 90\n",
    " >>> -1\n",
    " 270.0\n",
    " 90.0\n",
    " ```\n",
    "\n",
    "\n",
    "\n",
    "\n"
   ]
  },
  {
   "cell_type": "code",
   "execution_count": null,
   "metadata": {
    "scrolled": true,
    "slideshow": {
     "slide_type": "slide"
    }
   },
   "outputs": [],
   "source": [
    "# for-else\n",
    "\n",
    "# 4 ve 2 degerleri icin deneyelim.\n",
    "\n",
    "raw_value = input(\">>>\")\n",
    "unwanted = int(raw_value)\n",
    "for item in range(4):\n",
    "    if item == unwanted:\n",
    "        break\n",
    "    else:\n",
    "        print(item)\n",
    "else:\n",
    "    print(\"all clear\")\n",
    "\n",
    "# else, döngü, break olmadan bitmiş ise çalışır.\n"
   ]
  },
  {
   "cell_type": "markdown",
   "metadata": {
    "slideshow": {
     "slide_type": "slide"
    }
   },
   "source": [
    "# Uygulama : histogram\n",
    "\n",
    " - Kullanıcıdan, boş giriş yapılana kadar harf alan,\n",
    " - sonra da bunların histogramını gösteren bir uygulama\n",
    " - bunun, bir `str` üzerinde aynı işlemi yapan versiyonu nasıl yapılırdı?\n",
    "\n",
    "\n",
    "\n"
   ]
  },
  {
   "cell_type": "markdown",
   "metadata": {
    "slideshow": {
     "slide_type": "slide"
    }
   },
   "source": [
    "# Uygulama : Tam Sayının Tam Bölenleri\n",
    "\n",
    " - Verilen bir tam sayının, tam sayı bölenlerini bulan uygulama\n",
    "\n",
    " ```\n",
    " >>>2\n",
    " [1, 2]\n",
    "\n",
    " >>>3\n",
    " [1, 3]\n",
    "\n",
    " >>>8\n",
    " [1, 2, 4, 8]\n",
    "\n",
    " >>>9\n",
    " [1, 3, 9]\n",
    " ```\n",
    "\n",
    "\n"
   ]
  },
  {
   "cell_type": "code",
   "execution_count": null,
   "metadata": {
    "scrolled": true,
    "slideshow": {
     "slide_type": "slide"
    }
   },
   "outputs": [],
   "source": [
    "# Çözüm : Tam Sayının Tam Bölenleri\n",
    "\n",
    "bolenler = [1]\n",
    "\n",
    "number = int(input(\"enter a number : \"))\n",
    "for bolen in range(2, number+1):\n",
    "    kalan = number % bolen\n",
    "    if kalan == 0:\n",
    "        bolenler.append(bolen)\n",
    "\n",
    "print(bolenler)\n",
    "\n",
    "# test:\n",
    "# 0, 1, n\n"
   ]
  },
  {
   "cell_type": "markdown",
   "metadata": {
    "slideshow": {
     "slide_type": "slide"
    }
   },
   "source": [
    "# Uygulama : palindrome testi\n",
    "\n",
    " - Kullanıcıdan bir `str` alıp, palindrome mu değil mi tespit eden bir uygulama.\n",
    "\n",
    " ```\n",
    " >>>1\n",
    " palindrome\n",
    "\n",
    " >>>121\n",
    " palindrome\n",
    "\n",
    " >>>1234\n",
    " not palindrome\n",
    "\n",
    " >>>\n",
    " palindrome\n",
    " ```\n",
    "\n",
    "\n"
   ]
  },
  {
   "cell_type": "code",
   "execution_count": null,
   "metadata": {
    "scrolled": true,
    "slideshow": {
     "slide_type": "slide"
    }
   },
   "outputs": [],
   "source": [
    "# Çözüm : palindrome testi\n",
    "\n",
    "data = input(\">>>\")\n",
    "data2 = \"\"\n",
    "for ch in data:\n",
    "    data2 = ch + data2\n",
    "if data == data2:\n",
    "    print(\"palindrome\")\n",
    "else:\n",
    "    print(\"not palindrome\")\n",
    "\n",
    "list1 = []\n",
    "data = input(\">>>\") # abcdef\n",
    "for ch in data:\n",
    "    list1.insert(0, ch)\n",
    "\n",
    "print(list1)\n",
    "\n",
    "reversed_data = \"\".join(list1)\n",
    "print(reversed_data)\n",
    "\n",
    "if data == reversed_data:\n",
    "    print(\"palindrome\")\n",
    "else:\n",
    "    print(\"not palindrome\")\n"
   ]
  },
  {
   "cell_type": "markdown",
   "metadata": {
    "slideshow": {
     "slide_type": "slide"
    }
   },
   "source": [
    "# Uygulama : factorial\n",
    "\n",
    " - Kullanıcıdan bir sayı alarak, factorial hesabı yapan program\n",
    " - n! = n * (n-1) * (n-2) .. 1\n",
    " - 5! = 5 * 4 * 3 * 2 * 1 = 120\n",
    "\n",
    " ```\n",
    " >>> 0\n",
    " 1\n",
    " >>> 1\n",
    " 1\n",
    " >>> 2\n",
    " 2\n",
    " >>> 3\n",
    " 6\n",
    " >>> 7\n",
    " 5040\n",
    " >>> 300\n",
    " ???\n",
    " ```\n",
    "\n",
    "\n",
    "\n"
   ]
  },
  {
   "cell_type": "code",
   "execution_count": null,
   "metadata": {
    "scrolled": true,
    "slideshow": {
     "slide_type": "slide"
    }
   },
   "outputs": [],
   "source": [
    "# Çözüm : factorial\n",
    "\n",
    "total = 1\n",
    "num = int(input(\">>> \"))\n",
    "if num == 0 or num == 1:\n",
    "    pass\n",
    "else:\n",
    "    for i in range(2, num+1):\n",
    "        total = total * i\n",
    "\n",
    "print(total)\n"
   ]
  },
  {
   "cell_type": "markdown",
   "metadata": {
    "slideshow": {
     "slide_type": "slide"
    }
   },
   "source": [
    "# Uygulama : çarpım tablosu\n",
    "\n",
    "\n",
    "\n"
   ]
  },
  {
   "cell_type": "markdown",
   "metadata": {
    "slideshow": {
     "slide_type": "slide"
    }
   },
   "source": [
    "# Uygulama : pascal üçgeni\n",
    "\n",
    " ```\n",
    "        1\n",
    "     1     1\n",
    "    1   2   1\n",
    "   1  3   3  1\n",
    "  1  4  6  4  1\n",
    " 1  5 10 10  5 1\n",
    " ```\n",
    "\n",
    "\n"
   ]
  },
  {
   "cell_type": "markdown",
   "metadata": {
    "slideshow": {
     "slide_type": "slide"
    }
   },
   "source": [
    "# son\n"
   ]
  }
 ],
 "metadata": {
  "celltoolbar": "Slideshow",
  "kernelspec": {
   "display_name": "Python 3",
   "language": "python",
   "name": "python3"
  },
  "language_info": {
   "codemirror_mode": {
    "name": "ipython",
    "version": 3
   },
   "file_extension": ".py",
   "mimetype": "text/x-python",
   "name": "python",
   "nbconvert_exporter": "python",
   "pygments_lexer": "ipython3",
   "version": "3.8.5"
  }
 },
 "nbformat": 4,
 "nbformat_minor": 2
}
