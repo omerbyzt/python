{
 "cells": [
  {
   "cell_type": "markdown",
   "metadata": {
    "slideshow": {
     "slide_type": "slide"
    }
   },
   "source": [
    "# List\n",
    "\n",
    "- Virgül ile ayrılmış değerleri tutar.\n",
    "- bir sequence tiptir.\n",
    "- https://docs.python.org/3/library/stdtypes.html#sequence-types-list-tuple-range\n",
    "\n",
    "\n",
    "\n"
   ]
  },
  {
   "cell_type": "markdown",
   "metadata": {
    "slideshow": {
     "slide_type": "slide"
    }
   },
   "source": [
    "# List vs Array\n",
    "- list != array\n",
    "- array != NumPy np.array\n",
    "- https://docs.python.org/3/library/array.html\n",
    "- Arrays are sequence types and behave very much like lists\n",
    "- the type of objects stored in them is constrained.\n",
    "\n",
    "\n",
    "\n"
   ]
  },
  {
   "cell_type": "code",
   "execution_count": 1,
   "metadata": {
    "scrolled": true,
    "slideshow": {
     "slide_type": "slide"
    }
   },
   "outputs": [
    {
     "name": "stdout",
     "output_type": "stream",
     "text": [
      "[1, 3, 7]\n"
     ]
    }
   ],
   "source": [
    "# Liste tanımı\n",
    "\n",
    "some_numbers = [1, 3, 7]\n",
    "print(some_numbers)\n"
   ]
  },
  {
   "cell_type": "code",
   "execution_count": 2,
   "metadata": {
    "scrolled": true,
    "slideshow": {
     "slide_type": "slide"
    }
   },
   "outputs": [
    {
     "name": "stdout",
     "output_type": "stream",
     "text": [
      "[1, 3, 'spam', 'eggs']\n"
     ]
    }
   ],
   "source": [
    "# listelerde, her bir değer farklı tipte olabilir:\n",
    "\n",
    "some_numbers_and_names = [1, 3, \"spam\", \"eggs\"]\n",
    "print(some_numbers_and_names)\n"
   ]
  },
  {
   "cell_type": "code",
   "execution_count": 3,
   "metadata": {
    "scrolled": true,
    "slideshow": {
     "slide_type": "slide"
    }
   },
   "outputs": [
    {
     "name": "stdout",
     "output_type": "stream",
     "text": [
      "[1, 3]\n"
     ]
    }
   ],
   "source": [
    "# dilimleme (slicing)\n",
    "\n",
    "some_numbers_and_names = [1, 3, \"spam\", \"eggs\"]\n",
    "only_numbers = some_numbers_and_names[:2]\n",
    "print(only_numbers)\n"
   ]
  },
  {
   "cell_type": "code",
   "execution_count": 4,
   "metadata": {
    "scrolled": true,
    "slideshow": {
     "slide_type": "slide"
    }
   },
   "outputs": [
    {
     "name": "stdout",
     "output_type": "stream",
     "text": [
      "[1, 3]\n"
     ]
    }
   ],
   "source": [
    "# Uygulama : Sadece alfabe içerenleri almak istersek, nasıl dilimleriz?\n",
    "\n",
    "some_numbers_and_names = [1, 3, \"spam\", \"eggs\"]\n",
    "only_numbers = some_numbers_and_names[:2]\n",
    "print(only_numbers)\n"
   ]
  },
  {
   "cell_type": "code",
   "execution_count": null,
   "metadata": {
    "scrolled": true,
    "slideshow": {
     "slide_type": "slide"
    }
   },
   "outputs": [],
   "source": [
    "# Listeler değiştirilebilir özelliğe sahiptir (mutable)\n",
    "\n",
    "# aşağıdaki kodun sonucu ne olur?\n",
    "\n",
    "some_numbers_and_names = [1, 3, \"spam\", \"eggs\"]\n",
    "some_numbers_and_names[1] = 5\n",
    "print(some_numbers_and_names)\n",
    "\n",
    "# string tiplerde nasıldı?\n"
   ]
  },
  {
   "cell_type": "code",
   "execution_count": null,
   "metadata": {
    "scrolled": true,
    "slideshow": {
     "slide_type": "slide"
    }
   },
   "outputs": [],
   "source": [
    "# aşağıdaki kodun sonucu ne olur?\n",
    "\n",
    "some_numbers_and_names = [1, 3, \"spam\", \"eggs\"]\n",
    "\n",
    "some_numbers_and_names[1] = [4, 5]\n",
    "print(some_numbers_and_names)\n",
    "print(len(some_numbers_and_names))\n"
   ]
  },
  {
   "cell_type": "code",
   "execution_count": null,
   "metadata": {
    "scrolled": true,
    "slideshow": {
     "slide_type": "slide"
    }
   },
   "outputs": [],
   "source": [
    "# Liste elemanlarını değiştirmek\n",
    "\n",
    "#- nested (yuvalanmış) olmasını istemezsek...\n",
    "#- istenmeyen : `[1, [4, 5], 'spam', 'eggs']`\n",
    "#- istenilen : `[1, 4, 5, 'spam', 'eggs']`\n",
    "\n",
    "some_numbers_and_names = [1, 3, \"spam\", \"eggs\"]\n",
    "\n",
    "some_numbers_and_names[1:2] = [4, 5]\n",
    "print(some_numbers_and_names)\n",
    "print(len(some_numbers_and_names))\n"
   ]
  },
  {
   "cell_type": "code",
   "execution_count": null,
   "metadata": {
    "scrolled": true,
    "slideshow": {
     "slide_type": "slide"
    }
   },
   "outputs": [],
   "source": [
    "# Liste elemanlarını nasıl silebiliriz?\n",
    "\n",
    "# aşağıdaki örnekte,`spam` ve `eggs` değerlerini silmek istersek, nasıl bir yol izleyebiliriz?\n",
    "\n",
    "some_numbers_and_names = [1, 3, \"spam\", \"eggs\", 4, 5]\n",
    "\n",
    "print(some_numbers_and_names)\n",
    "print(len(some_numbers_and_names))\n"
   ]
  },
  {
   "cell_type": "code",
   "execution_count": null,
   "metadata": {
    "scrolled": true,
    "slideshow": {
     "slide_type": "slide"
    }
   },
   "outputs": [],
   "source": [
    "# çözüm : spam ve eggs elemanlarını silmek için\n",
    "\n",
    "some_numbers_and_names = [1, 3, \"spam\", \"eggs\", 4, 5]\n",
    "print(some_numbers_and_names)\n",
    "print(len(some_numbers_and_names))\n",
    "\n",
    "some_numbers_and_names[2:4] = []  # bos liste tanimi\n",
    "\n",
    "print(some_numbers_and_names)\n",
    "print(len(some_numbers_and_names))\n"
   ]
  },
  {
   "cell_type": "code",
   "execution_count": null,
   "metadata": {
    "scrolled": true,
    "slideshow": {
     "slide_type": "slide"
    }
   },
   "outputs": [],
   "source": [
    "# bir Listeye, `dir()` methodunu uygularsak?\n",
    "\n",
    "some_numbers_and_names = [1, 3, \"spam\", \"eggs\", 4, 5]\n",
    "print(dir(some_numbers_and_names))\n"
   ]
  },
  {
   "cell_type": "code",
   "execution_count": null,
   "metadata": {
    "scrolled": true,
    "slideshow": {
     "slide_type": "slide"
    }
   },
   "outputs": [],
   "source": [
    "# + kullanarak eklemek\n",
    "\n",
    "# aşağıdaki şekilde ekleyebilir miyiz?\n",
    "\n",
    "some_numbers_and_names = [1, 3, \"spam\", \"eggs\", 4, 5]\n",
    "print(some_numbers_and_names)\n",
    "some_numbers_and_names = some_numbers_and_names + 6\n"
   ]
  },
  {
   "cell_type": "code",
   "execution_count": null,
   "metadata": {
    "scrolled": true,
    "slideshow": {
     "slide_type": "slide"
    }
   },
   "outputs": [],
   "source": [
    "# + ile ekleyecegimiz eleman, yine bir liste olmalı.\n",
    "\n",
    "some_numbers_and_names = [1, 3, \"spam\", \"eggs\", 4, 5]\n",
    "print(some_numbers_and_names)\n",
    "\n",
    "some_numbers_and_names = some_numbers_and_names + [6]\n",
    "\n",
    "print(some_numbers_and_names)\n"
   ]
  },
  {
   "cell_type": "markdown",
   "metadata": {
    "slideshow": {
     "slide_type": "slide"
    }
   },
   "source": [
    "# Sequence Operations\n",
    "- Common:\n",
    "- https://docs.python.org/3/library/stdtypes.html#common-sequence-operations\n",
    "- Mutable:\n",
    "- https://docs.python.org/3/library/stdtypes.html#mutable-sequence-types\n",
    "\n",
    "\n",
    "\n"
   ]
  },
  {
   "cell_type": "code",
   "execution_count": null,
   "metadata": {
    "scrolled": true,
    "slideshow": {
     "slide_type": "slide"
    }
   },
   "outputs": [],
   "source": [
    "# append() kullanımı\n",
    "\n",
    "# listenin sonuna eklemek icin.\n",
    "\n",
    "some_numbers_and_names = [1, 3, \"spam\", \"eggs\", 4, 5]\n",
    "print(some_numbers_and_names)\n",
    "\n",
    "some_numbers_and_names.append(6)\n",
    "print(some_numbers_and_names)\n"
   ]
  },
  {
   "cell_type": "markdown",
   "metadata": {
    "slideshow": {
     "slide_type": "slide"
    }
   },
   "source": [
    "# List için bazı diğer methodlar.\n",
    "\n",
    "- `insert()`\n",
    "- `clear()`\n",
    "- `count()`\n",
    "- `remove()`\n",
    "- `pop()`\n",
    "\n",
    "\n",
    "\n"
   ]
  },
  {
   "cell_type": "code",
   "execution_count": null,
   "metadata": {
    "scrolled": true,
    "slideshow": {
     "slide_type": "slide"
    }
   },
   "outputs": [],
   "source": [
    "# insert()\n",
    "\n",
    "list1 = [\"a\", \"b\", \"d\", \"e\"]\n",
    "list1.insert(2, \"c\")\n",
    "\n",
    "print(list1)\n"
   ]
  },
  {
   "cell_type": "code",
   "execution_count": null,
   "metadata": {
    "scrolled": true,
    "slideshow": {
     "slide_type": "slide"
    }
   },
   "outputs": [],
   "source": [
    "# clear()\n",
    "\n",
    "list1 = [\"a\", \"b\", \"d\", \"e\"]\n",
    "list1.clear()\n",
    "\n",
    "print(list1)\n"
   ]
  },
  {
   "cell_type": "code",
   "execution_count": null,
   "metadata": {
    "scrolled": true,
    "slideshow": {
     "slide_type": "slide"
    }
   },
   "outputs": [],
   "source": [
    "# count()\n",
    "\n",
    "list1 = [\"a\", \"b\", \"c\", \"c\", \"d\", \"e\"]\n",
    "\n",
    "print(list1.count(\"a\"))\n",
    "print(list1.count(\"c\"))\n",
    "print(list1.count(\"invalid\"))\n"
   ]
  },
  {
   "cell_type": "code",
   "execution_count": null,
   "metadata": {
    "scrolled": true,
    "slideshow": {
     "slide_type": "slide"
    }
   },
   "outputs": [],
   "source": [
    "# remove()\n",
    "\n",
    "list1 = [\"a\", \"b\", \"c\", \"c\", \"d\", \"e\"]\n",
    "\n",
    "list1.remove(\"a\")\n",
    "print(list1)\n",
    "\n",
    "list1.remove(\"c\")\n",
    "print(list1)\n"
   ]
  },
  {
   "cell_type": "code",
   "execution_count": null,
   "metadata": {
    "scrolled": true,
    "slideshow": {
     "slide_type": "slide"
    }
   },
   "outputs": [],
   "source": [
    "# pop()\n",
    "\n",
    "list1 = [\"a\", \"b\", \"c\", \"c\", \"d\", \"e\"]\n",
    "\n",
    "item = list1.pop(1)\n",
    "print(item)\n",
    "print(list1)\n"
   ]
  },
  {
   "cell_type": "code",
   "execution_count": null,
   "metadata": {
    "scrolled": true,
    "slideshow": {
     "slide_type": "slide"
    }
   },
   "outputs": [],
   "source": [
    "# index()\n",
    "list1 = [\"a\", \"b\", \"c\", \"c\", \"d\", \"e\"]\n",
    "\n",
    "found_at = list1.index(\"c\")\n",
    "print(found_at)\n",
    "\n",
    "# ValueError:\n",
    "# found_at = list1.index(\"x\")\n",
    "# print(found_at)\n"
   ]
  },
  {
   "cell_type": "markdown",
   "metadata": {
    "slideshow": {
     "slide_type": "slide"
    }
   },
   "source": [
    "# `list` içinde `list`\n",
    " - bir kişiyi simgeleyecek bir `list` yapalım.\n",
    " - ilk elemanı: adı\n",
    " - sonraki elemanı: soyadı\n",
    " - sonraki elemanı: mesleği (meslekleri?)\n",
    " - birden fazla kişiyi tutmak için de ayrı bir `list` yapalım.\n",
    "\n",
    "\n",
    "\n"
   ]
  },
  {
   "cell_type": "markdown",
   "metadata": {
    "slideshow": {
     "slide_type": "slide"
    }
   },
   "source": [
    "# bir listeyi sıralamak\n",
    "- \"sorted\" vs \"ordered\"\n",
    "- \"ordered\", \"koydugumuz sırada\" anlamına gelir.\n",
    "\n",
    "\n",
    "\n"
   ]
  },
  {
   "cell_type": "code",
   "execution_count": null,
   "metadata": {
    "scrolled": true,
    "slideshow": {
     "slide_type": "slide"
    }
   },
   "outputs": [],
   "source": [
    "# sorted() fonksiyonu\n",
    "\n",
    "some_numbers = [2, 4, 5, 3]\n",
    "some_numbers2 = sorted(some_numbers)\n",
    "print(some_numbers)\n",
    "print(some_numbers2)\n"
   ]
  },
  {
   "cell_type": "code",
   "execution_count": null,
   "metadata": {
    "scrolled": true,
    "slideshow": {
     "slide_type": "slide"
    }
   },
   "outputs": [],
   "source": [
    "# sorted() fonksiyonu, ters sıralamak\n",
    "some_numbers = [2, 4, 5, 3]\n",
    "some_numbers2 = sorted(some_numbers, reverse=True)\n",
    "print(some_numbers)\n",
    "print(some_numbers2)\n"
   ]
  },
  {
   "cell_type": "code",
   "execution_count": null,
   "metadata": {
    "scrolled": true,
    "slideshow": {
     "slide_type": "slide"
    }
   },
   "outputs": [],
   "source": [
    "# aşağıdaki kod çalışınca ne olur?\n",
    "\n",
    "some_numbers_and_names = [1, 3, \"spam\", \"eggs\", 4, 5]\n",
    "print(sorted(some_numbers_and_names))\n",
    "\n",
    "#```\n",
    "#Traceback (most recent call last):\n",
    "#  File \"C:\\projects\\file1.py, line 2, in <module>\n",
    "#    print(sorted(some_numbers_and_names))\n",
    "#TypeError: '<' not supported between instances of\n",
    "#    'str' and 'int'\n",
    "#```\n"
   ]
  },
  {
   "cell_type": "code",
   "execution_count": null,
   "metadata": {
    "scrolled": true,
    "slideshow": {
     "slide_type": "slide"
    }
   },
   "outputs": [],
   "source": [
    "# dir() bize bir list döndürür.\n",
    "\n",
    "result = dir(4)\n",
    "print(type(result))\n",
    "print(result)\n"
   ]
  },
  {
   "cell_type": "code",
   "execution_count": null,
   "metadata": {
    "scrolled": true,
    "slideshow": {
     "slide_type": "slide"
    }
   },
   "outputs": [],
   "source": [
    "# list yardım dokumanını okumak\n",
    "\n",
    "print(help(list))\n"
   ]
  },
  {
   "cell_type": "code",
   "execution_count": null,
   "metadata": {
    "scrolled": true,
    "slideshow": {
     "slide_type": "slide"
    }
   },
   "outputs": [],
   "source": [
    "# Using Lists as Stacks\n",
    "\n",
    "# The list methods make it very easy to use a list as a stack, where the last element added is the first element retrieved (“last-in, first-out”).\n",
    "# To add an item to the top of the stack, use append().\n",
    "# To retrieve an item from the top of the stack, use pop() without an explicit index.\n",
    "\n",
    "stack = [3, 4, 5]\n",
    "stack.append(6)\n",
    "stack.append(7)\n",
    "print(stack)\n",
    "stack.pop()\n",
    "print(stack)\n",
    "stack.pop()\n",
    "print(stack)\n",
    "stack.pop()\n",
    "print(stack)\n"
   ]
  },
  {
   "cell_type": "markdown",
   "metadata": {
    "slideshow": {
     "slide_type": "slide"
    }
   },
   "source": [
    "# Uygulama: Futbol ligi örneği\n",
    "\n",
    "- ispanya ligi yaratalım.\n",
    "- birkaç takım ekleyelim.\n",
    "- kaç takım ekledik?\n",
    "- belli bir takımı küme düşürelim.\n",
    "- son takımı küme düşürelim.\n",
    "- düşürme işlerini yaparken, takım listede mi, kontrol edelim.\n",
    "- italya ligi yaratalım.\n",
    "- iki ligin en üst iki takımından yeni bir lig yaratalım.\n",
    "\n",
    "\n",
    "\n"
   ]
  },
  {
   "cell_type": "code",
   "execution_count": null,
   "metadata": {
    "scrolled": true,
    "slideshow": {
     "slide_type": "slide"
    }
   },
   "outputs": [],
   "source": [
    "# list eşitliği\n",
    "\n",
    "list1 = [\"a\", \"b\", \"c\"]\n",
    "list2 = list1\n",
    "list1.append(\"d\")\n",
    "print(list1)\n",
    "print(list2)\n"
   ]
  },
  {
   "cell_type": "code",
   "execution_count": null,
   "metadata": {
    "scrolled": true,
    "slideshow": {
     "slide_type": "slide"
    }
   },
   "outputs": [],
   "source": [
    "# builtin id() fonksiyonu\n",
    "\n",
    "# bir nesnenin, hafızadaki adresini verir.\n",
    "\n",
    "x = 5\n",
    "adres = id(x)\n"
   ]
  },
  {
   "cell_type": "markdown",
   "metadata": {
    "slideshow": {
     "slide_type": "slide"
    }
   },
   "source": [
    "# is operator\n",
    "\n",
    " iki değişkenin hafıza adreslerini karşılaştırarak, aynı değişken olup olmadığını tespit eder.\n",
    "\n",
    "\n",
    "\n"
   ]
  },
  {
   "cell_type": "code",
   "execution_count": null,
   "metadata": {
    "scrolled": true,
    "slideshow": {
     "slide_type": "slide"
    }
   },
   "outputs": [],
   "source": [
    "# liste eşitliği - çıktısı ne olur?\n",
    "\n",
    "list1 = [1, 2, 3]\n",
    "print(id(list1))\n",
    "\n",
    "list2 = list1\n",
    "print(id(list2))\n",
    "\n",
    "list2.append(4)\n",
    "\n",
    "print(list1)\n",
    "print(list2)\n",
    "\n",
    "list3 = [1, 2, 3, 4]\n",
    "print(list1 is list2)\n",
    "\n",
    "if list1 == list2:\n",
    "    print(\"list1 == list2\")\n",
    "else:\n",
    "    print(\"list1 != list2\")\n",
    "\n",
    "if list1 == list3:\n",
    "    print(\"list1 == list3\")\n",
    "else:\n",
    "    print(\"list1 != list3\")\n"
   ]
  },
  {
   "cell_type": "markdown",
   "metadata": {
    "slideshow": {
     "slide_type": "slide"
    }
   },
   "source": [
    "# Python Tutorial - Lists\n",
    "- https://docs.python.org/3/tutorial/introduction.html#lists\n"
   ]
  }
 ],
 "metadata": {
  "celltoolbar": "Slideshow",
  "kernelspec": {
   "display_name": "Python 3",
   "language": "python",
   "name": "python3"
  },
  "language_info": {
   "codemirror_mode": {
    "name": "ipython",
    "version": 3
   },
   "file_extension": ".py",
   "mimetype": "text/x-python",
   "name": "python",
   "nbconvert_exporter": "python",
   "pygments_lexer": "ipython3",
   "version": "3.8.5"
  }
 },
 "nbformat": 4,
 "nbformat_minor": 2
}
