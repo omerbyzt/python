{
 "cells": [
  {
   "cell_type": "markdown",
   "metadata": {
    "slideshow": {
     "slide_type": "slide"
    }
   },
   "source": [
    "# String Tipi\n",
    "- sequence tip olarak geçer.\n",
    "- https://docs.python.org/3/library/stdtypes.html#text-sequence-type-str\n",
    "\n",
    "\n",
    "\n"
   ]
  },
  {
   "cell_type": "code",
   "execution_count": null,
   "metadata": {
    "scrolled": true,
    "slideshow": {
     "slide_type": "slide"
    }
   },
   "outputs": [],
   "source": [
    "# String Tipi\n",
    "\n",
    "# Metin (alfanumerik) bilgilerini tutmak için kullanılır.\n",
    "# tek tırnak ' veya çift tırnak \" kullanılabilir.\n",
    "\n",
    "sehir = \"Ankara\"\n",
    "dosya_adi = \"veriler.xlsx\"\n",
    "isim = \"Sebastian Vettel\"\n",
    "\n",
    "# type inference:\n",
    "tcno1 = \"1501111\"\n",
    "tcno2 = 1501112\n",
    "print(type(tcno1))\n",
    "print(type(tcno2))\n"
   ]
  },
  {
   "cell_type": "code",
   "execution_count": null,
   "metadata": {
    "scrolled": true,
    "slideshow": {
     "slide_type": "slide"
    }
   },
   "outputs": [],
   "source": [
    "# String tanımlarken, tırnak kullanımı\n",
    "\n",
    "takim1 = \"Scuderia Ferrari\"\n",
    "takim2 = 'Mercedes AMG F1'\n",
    "print(type(takim1))\n",
    "print(type(takim2))\n"
   ]
  },
  {
   "cell_type": "markdown",
   "metadata": {
    "slideshow": {
     "slide_type": "slide"
    }
   },
   "source": [
    "# String tanımlarken, tırnak kullanımı\n",
    "\n",
    "- Tırnak işaretleri, duruma göre diğeri kullanılarak, faydalanılabilir.\n",
    "- Örneğin, bu metini yazmak istersek:\n",
    "\n",
    "```\n",
    "Scuderia Ferrari'nin pilotu Sebastian Vettel\n",
    "```\n",
    "\n",
    "\n",
    "\n"
   ]
  },
  {
   "cell_type": "markdown",
   "metadata": {
    "slideshow": {
     "slide_type": "slide"
    }
   },
   "source": [
    "# Sorunlu bir string tanımlama\n",
    "\n",
    "```python\n",
    "pilot = 'Scuderia Ferrari'nin pilotu Sebastian Vettel'\n",
    "print(type(pilot))\n",
    "print(pilot)\n",
    "```\n",
    "\n",
    "\n",
    "\n"
   ]
  },
  {
   "cell_type": "code",
   "execution_count": null,
   "metadata": {
    "scrolled": true,
    "slideshow": {
     "slide_type": "slide"
    }
   },
   "outputs": [],
   "source": [
    "# Sorunlu bir string tanımlama (doğrusu)\n",
    "\n",
    "pilot = \"Scuderia Ferrari'nin pilotu Sebastian Vettel\"\n",
    "print(type(pilot))\n",
    "print(pilot)\n"
   ]
  },
  {
   "cell_type": "code",
   "execution_count": null,
   "metadata": {
    "scrolled": true,
    "slideshow": {
     "slide_type": "slide"
    }
   },
   "outputs": [],
   "source": [
    "# Escape karakteri kullanımı\n",
    "\n",
    "pilot = 'Scuderia Ferrari\\'nin pilotu Sebastian Vettel'\n",
    "print(pilot)\n"
   ]
  },
  {
   "cell_type": "markdown",
   "metadata": {
    "slideshow": {
     "slide_type": "slide"
    }
   },
   "source": [
    "# Bazı Escape karakterleri\n",
    "\n",
    "```\n",
    "\\\\\tBackslash (\\)\n",
    "\\'\tSingle quote (')\n",
    "\\\"\tDouble quote (\")\n",
    "\\n\tASCII Linefeed (LF)\n",
    "\\r\tASCII Carriage Return (CR)\n",
    "\\t\tASCII Horizontal Tab (TAB)\n",
    "```\n",
    "\n",
    "\n",
    "\n"
   ]
  },
  {
   "cell_type": "markdown",
   "metadata": {
    "slideshow": {
     "slide_type": "slide"
    }
   },
   "source": [
    "# Dosya isimi tanımlarken\n",
    "\n",
    "```python\n",
    "dosya1 = \"C:\\path\\to\\my\\file.txt\"\n",
    "print(dosya1)\n",
    "\n",
    "dosya2 = \"C:\\\\path\\\\to\\\\my\\\\file.txt\"\n",
    "print(dosya2)\n",
    "```\n",
    "\n",
    "\n",
    "\n"
   ]
  },
  {
   "cell_type": "markdown",
   "metadata": {
    "slideshow": {
     "slide_type": "slide"
    }
   },
   "source": [
    "# raw (ham) string\n",
    "\n",
    "```python\n",
    "dosya3 = r\"C:\\path\\to\\my\\file.txt\"\n",
    "print(dosya3)\n",
    "```\n",
    "\n",
    "\n",
    "\n"
   ]
  },
  {
   "cell_type": "code",
   "execution_count": null,
   "metadata": {
    "scrolled": true,
    "slideshow": {
     "slide_type": "slide"
    }
   },
   "outputs": [],
   "source": [
    "# Dosya isimi tanımlarken\n",
    "dosya4 = \"C:/path/to/my/file.txt\"\n"
   ]
  },
  {
   "cell_type": "markdown",
   "metadata": {
    "slideshow": {
     "slide_type": "slide"
    }
   },
   "source": [
    "# Multiline Strings\n",
    "\n",
    "- Kullanım alanları:\n",
    "- Yardım metinleri\n",
    "- Yorumlar\n",
    "- Yazılımın kullanacağı varsayılan dosyaların orjinal halleri\n",
    "- Ekranda kullanıcıya gösterilecek uzun metinler\n",
    "\n",
    "\n",
    "\n"
   ]
  },
  {
   "cell_type": "code",
   "execution_count": null,
   "metadata": {
    "scrolled": true,
    "slideshow": {
     "slide_type": "slide"
    }
   },
   "outputs": [],
   "source": [
    "# Multiline Strings\n",
    "some_peps = r\"\"\"\n",
    "PEP \"257\" -- Docstring Conventions https://www.python.org/dev/peps/pep-0257/\n",
    "PEP \"3105\" -- Make print a function https://www.python.org/dev/peps/pep-3105/\n",
    "PEP \"3333\" -- Python Web Server Gateway Interface v1.0.1 https://www.python.org/dev/peps/pep-3333/\n",
    "\"\"\"\n",
    "print(some_peps)\n"
   ]
  },
  {
   "cell_type": "code",
   "execution_count": null,
   "metadata": {
    "scrolled": true,
    "slideshow": {
     "slide_type": "slide"
    }
   },
   "outputs": [],
   "source": [
    "# multiline string, nasıl görünür?\n",
    "\n",
    "# ekranda gercekten asagidaki sekilde gorunsun istiyoruz diyelim?\n",
    "\n",
    "members = r\"\"\"\n",
    "\\\\\tBackslash (\\)\n",
    "\\'\tSingle quote (')\n",
    "\\\"\tDouble quote (\")\n",
    "\\n\tASCII Linefeed (LF)\n",
    "\\r\tASCII Carriage Return (CR)\n",
    "\\t\tASCII Horizontal Tab (TAB)\n",
    "\"\"\"\n",
    "print(members)\n",
    "\n",
    "# çıktıyı yorumlayalım.\n",
    "# bunu düzeltmenin bir yolu olmalı.\n"
   ]
  },
  {
   "cell_type": "code",
   "execution_count": null,
   "metadata": {
    "scrolled": true,
    "slideshow": {
     "slide_type": "slide"
    }
   },
   "outputs": [],
   "source": [
    "# başına r koyarsak?\n",
    "\n",
    "members = r\"\"\"\n",
    "\\\\\tBackslash (\\)\n",
    "\\'\tSingle quote (')\n",
    "\\\"\tDouble quote (\")\n",
    "\\n\tASCII Linefeed (LF)\n",
    "\\r\tASCII Carriage Return (CR)\n",
    "\\t\tASCII Horizontal Tab (TAB)\n",
    "\"\"\"\n",
    "print(members)\n"
   ]
  },
  {
   "cell_type": "markdown",
   "metadata": {
    "slideshow": {
     "slide_type": "slide"
    }
   },
   "source": [
    "# index ile erişim\n",
    "\n",
    "- Bir string değişkenin, istenen bir elemanına erişim sağlar.\n",
    "- C dilindeki karakter dizileri ile aynı mantıkta çalışır.\n",
    "- Python'da string değişkenlerde, index, 0 (sıfır) ile başlar.\n",
    "\n",
    "\n",
    "\n"
   ]
  },
  {
   "cell_type": "code",
   "execution_count": null,
   "metadata": {
    "scrolled": true,
    "slideshow": {
     "slide_type": "slide"
    }
   },
   "outputs": [],
   "source": [
    "# index ile erişim\n",
    "\n",
    "#           1\n",
    "# 0123456789012345\n",
    "# Sebastian Vettel\n",
    "\n",
    "\n",
    "pilot = \"Sebastian Vettel\"\n",
    "print(len(pilot))  # 16\n",
    "\n",
    "print(pilot[0])\n",
    "print(pilot[1])\n",
    "print(pilot[14])\n",
    "print(pilot[15])\n",
    "# print(pilot[16])  # IndexError: string index out of range\n"
   ]
  },
  {
   "cell_type": "code",
   "execution_count": null,
   "metadata": {
    "scrolled": true,
    "slideshow": {
     "slide_type": "slide"
    }
   },
   "outputs": [],
   "source": [
    "# Bir string'in son karakterini nasıl alırız?\n",
    "\n",
    "#        012345\n",
    "pilot = \"Vettel\"\n",
    "print(pilot[5])\n"
   ]
  },
  {
   "cell_type": "code",
   "execution_count": null,
   "metadata": {
    "scrolled": true,
    "slideshow": {
     "slide_type": "slide"
    }
   },
   "outputs": [],
   "source": [
    "# Bir string'in son karakterini almak\n",
    "\n",
    "pilot = \"Vettel\"\n",
    "length = len(pilot)\n",
    "print(pilot[length-1])\n",
    "\n",
    "# daha iyi bir yolu olabilir mi?\n"
   ]
  },
  {
   "cell_type": "code",
   "execution_count": null,
   "metadata": {
    "scrolled": true,
    "slideshow": {
     "slide_type": "slide"
    }
   },
   "outputs": [],
   "source": [
    "# Reverse Index\n",
    "\n",
    "#- String'in sonundan, -1 ile başlar.\n",
    "\n",
    "#           1\n",
    "# 0123456789012345\n",
    "# Sebastian Vettel\n",
    "# 6543210987654321\n",
    "#       1\n",
    "\n",
    "\n",
    "pilot = \"Sebastian Vettel\"\n",
    "print(pilot[-1])\n",
    "print(pilot[-2])\n",
    "print(pilot[-3])\n",
    "print(pilot[-12])\n",
    "\n",
    "# neden -1, neden -0 değil ?\n"
   ]
  },
  {
   "cell_type": "code",
   "execution_count": null,
   "metadata": {
    "scrolled": true,
    "slideshow": {
     "slide_type": "slide"
    }
   },
   "outputs": [],
   "source": [
    "# neden -1, neden -0 değil ? (ispat)\n",
    "\n",
    "pilot = \"Sebastian Vettel\"\n",
    "print(pilot[-0])\n",
    "print(pilot[0])\n"
   ]
  },
  {
   "cell_type": "code",
   "execution_count": null,
   "metadata": {
    "scrolled": true,
    "slideshow": {
     "slide_type": "slide"
    }
   },
   "outputs": [],
   "source": [
    "# Eğer bir string'in ilk 5 harfini almak istersem?\n",
    "\n",
    "# hatırlatma: string concentation(arka arkada ekleme) operator : +\n",
    "\n",
    "pilot = \"Sebastian Vettel\"\n",
    "first_five_chars = pilot[0] + pilot[1] + pilot[2] + pilot[3] + pilot[4]\n",
    "print(first_five_chars)\n",
    "\n",
    "# daha iyi bir yolu olabilir mi?\n"
   ]
  },
  {
   "cell_type": "markdown",
   "metadata": {
    "slideshow": {
     "slide_type": "slide"
    }
   },
   "source": [
    "# Slicing (Dilimleme)\n",
    "\n",
    "# hatırlatma:\n",
    "\n",
    " ```\n",
    "           1\n",
    " 0123456789012345\n",
    " Sebastian Vettel\n",
    " 6543210987654321\n",
    "       1\n",
    " ```\n",
    "\n",
    "\n",
    "\n",
    "\n"
   ]
  },
  {
   "cell_type": "code",
   "execution_count": null,
   "metadata": {
    "scrolled": true,
    "slideshow": {
     "slide_type": "slide"
    }
   },
   "outputs": [],
   "source": [
    "# dilimleme için aralık verebiliriz:\n",
    "\n",
    "pilot = \"Sebastian Vettel\"\n",
    "print(pilot[1:6])\n",
    "\n",
    "# `-1` dahil, `6` dahil değil\n"
   ]
  },
  {
   "cell_type": "code",
   "execution_count": null,
   "metadata": {
    "scrolled": true,
    "slideshow": {
     "slide_type": "slide"
    }
   },
   "outputs": [],
   "source": [
    "# dilimleme örnekleri\n",
    "\n",
    "pilot = \"Sebastian Vettel\"\n",
    "\n",
    "print(pilot[0:5])\n",
    "\n",
    "print(pilot[1:6])\n",
    "\n",
    "print(pilot[2:7])\n"
   ]
  },
  {
   "cell_type": "code",
   "execution_count": null,
   "metadata": {
    "scrolled": true,
    "slideshow": {
     "slide_type": "slide"
    }
   },
   "outputs": [],
   "source": [
    "# string'in başından başlıyorsa, 0 değerini belirtmemize gerek yok.\n",
    "\n",
    "# okunuşuna dikkat edelim.\n",
    "\n",
    "pilot = \"Sebastian Vettel\"\n",
    "print(pilot[0:5])\n",
    "print(pilot[:5])\n"
   ]
  },
  {
   "cell_type": "code",
   "execution_count": null,
   "metadata": {
    "scrolled": true,
    "slideshow": {
     "slide_type": "slide"
    }
   },
   "outputs": [],
   "source": [
    "# string'in sonuna kadar gidiyorsa, son değerini belirtmemize gerek yok.\n",
    "\n",
    "# okunuşuna dikkat edelim.\n",
    "# aşağıdaki iki satır, birbirine denktir.\n",
    "\n",
    "pilot = \"Sebastian Vettel\"\n",
    "print(pilot[5:])\n",
    "print(pilot[5])\n"
   ]
  },
  {
   "cell_type": "code",
   "execution_count": null,
   "metadata": {
    "scrolled": true,
    "slideshow": {
     "slide_type": "slide"
    }
   },
   "outputs": [],
   "source": [
    "# başından, -4'üncü karaktere kadar:\n",
    "\n",
    "pilot = \"Sebastian Vettel\"\n",
    "print(pilot[:-4])\n"
   ]
  },
  {
   "cell_type": "code",
   "execution_count": null,
   "metadata": {
    "scrolled": true,
    "slideshow": {
     "slide_type": "slide"
    }
   },
   "outputs": [],
   "source": [
    "# -6 ve -4'üncü karakterler arası:\n",
    "\n",
    "pilot = \"Sebastian Vettel\"\n",
    "print(pilot[-6:-4])\n"
   ]
  },
  {
   "cell_type": "markdown",
   "metadata": {
    "slideshow": {
     "slide_type": "slide"
    }
   },
   "source": [
    "# String bir sequence tiptir.\n",
    "- Dolayısıyla, \"common sequence operations\" destekler:\n",
    "- https://docs.python.org/3/library/stdtypes.html#typesseq-common\n",
    "\n",
    "\n",
    "\n"
   ]
  },
  {
   "cell_type": "markdown",
   "metadata": {
    "slideshow": {
     "slide_type": "slide"
    }
   },
   "source": [
    "# yeni bir string oluşturmak\n",
    "\n",
    "# hatırlatma:\n",
    "\n",
    " ```\n",
    "           1\n",
    " 0123456789012345\n",
    " Sebastian Vettel\n",
    " 6543210987654321\n",
    "       1\n",
    " ```\n",
    "\n",
    "\n",
    "\n"
   ]
  },
  {
   "cell_type": "markdown",
   "metadata": {
    "slideshow": {
     "slide_type": "slide"
    }
   },
   "source": [
    "# bir string değişkenin bir parçasını değiştirmeye çalışırsak:\n",
    "\n",
    " ```python\n",
    " pilot = \"Sebastian Vettel\"\n",
    " pilot[0] = '5'\n",
    " ```\n",
    "\n",
    "\n",
    "\n"
   ]
  },
  {
   "cell_type": "markdown",
   "metadata": {
    "slideshow": {
     "slide_type": "slide"
    }
   },
   "source": [
    "# strings are immutable\n",
    "\n",
    "- string'ler, immutable durumdadır, yani değiştirilemez.\n",
    "- yeniden oluşturmak gerekir.\n",
    "- Class ve Dictionary bölümünde, sebebini göreceğiz.\n",
    "\n",
    "\n",
    "\n"
   ]
  },
  {
   "cell_type": "code",
   "execution_count": null,
   "metadata": {
    "scrolled": true,
    "slideshow": {
     "slide_type": "slide"
    }
   },
   "outputs": [],
   "source": [
    "# bir string değişkenin bir parçasını değiştirmeye çalışırsak:\n",
    "\n",
    "# değiştirmenin bir yolu:\n",
    "\n",
    "pilot = \"Sebastian Vettel\"\n",
    "pilot = \"5\" + pilot[1:]\n",
    "print(pilot)\n"
   ]
  },
  {
   "cell_type": "markdown",
   "metadata": {
    "slideshow": {
     "slide_type": "slide"
    }
   },
   "source": [
    "# Gördüğümüz Python built-in fonksiyonları\n",
    "\n",
    "```python\n",
    "print()\n",
    "len()\n",
    "type()\n",
    "```\n",
    "\n",
    "# yeni:\n",
    "\n",
    "```python\n",
    "dir()\n",
    "```\n",
    "\n",
    "\n",
    "\n"
   ]
  },
  {
   "cell_type": "code",
   "execution_count": null,
   "metadata": {
    "scrolled": true,
    "slideshow": {
     "slide_type": "slide"
    }
   },
   "outputs": [],
   "source": [
    "# dir() fonksiyonunu string tipine uygulayalım:\n",
    "\n",
    "pilot = \"Sebastian Vettel\"\n",
    "print(dir(pilot))\n"
   ]
  },
  {
   "cell_type": "markdown",
   "metadata": {
    "slideshow": {
     "slide_type": "slide"
    }
   },
   "source": [
    "# string methods\n",
    "- https://docs.python.org/3/library/stdtypes.html#string-methods\n",
    "- döküman nasıl okunur?\n",
    "- https://docs.python.org/3/library/stdtypes.html#str.center\n",
    "- `str.center(width[, fillchar])`\n",
    "\n",
    "\n",
    "\n"
   ]
  },
  {
   "cell_type": "markdown",
   "metadata": {
    "slideshow": {
     "slide_type": "slide"
    }
   },
   "source": [
    "# Bir string değişkeni için, birkaç tanesini kullanalım:\n",
    "\n",
    " ```python\n",
    " str.capitalize()\n",
    " str.center(width[, fillchar])\n",
    " str.count(sub[, start[, end]])\n",
    " str.endswith(suffix[, start[, end]])\n",
    " str.find(sub[, start[, end]])  # -1\n",
    " str.index(sub[, start[, end]])  # ValueError\n",
    " str.is...\n",
    " str.join(iterable)\n",
    " str.ljust(width[, fillchar])\n",
    " str.lower()\n",
    " str.lstrip([chars])\n",
    " str.replace(old, new[, count])\n",
    " str.rfind(sub[, start[, end]])\n",
    " str.rindex(sub[, start[, end]])\n",
    " str.rjust(width[, fillchar])\n",
    " str.rsplit(sep=None, maxsplit=-1)\n",
    " str.rstrip([chars])\n",
    " str.split(sep=None, maxsplit=-1)\n",
    " str.splitlines([keepends])\n",
    " str.startswith(prefix[, start[, end]])\n",
    " str.strip([chars])\n",
    " str.upper()\n",
    " ```\n",
    "\n",
    "\n",
    "\n"
   ]
  },
  {
   "cell_type": "markdown",
   "metadata": {
    "slideshow": {
     "slide_type": "slide"
    }
   },
   "source": [
    "# is.. ile başlayan fonksiyonlar/methodlar\n",
    "\n",
    " - genellikle True/False döndürürler.\n",
    " - https://docs.python.org/3/library/stdtypes.html#str.isalnum\n",
    "\n",
    "\n",
    "\n"
   ]
  },
  {
   "cell_type": "code",
   "execution_count": null,
   "metadata": {
    "scrolled": true,
    "slideshow": {
     "slide_type": "slide"
    }
   },
   "outputs": [],
   "source": [
    "# \"abc\" için:\n",
    "\n",
    "value1 = \"abc\"\n",
    "print(value1.isalnum())  # True\n",
    "print(value1.isalpha())  # True\n",
    "print(value1.isdecimal())  # False\n",
    "print(value1.isdigit())  # False\n",
    "print(value1.isnumeric())  # False\n"
   ]
  },
  {
   "cell_type": "code",
   "execution_count": null,
   "metadata": {
    "scrolled": true,
    "slideshow": {
     "slide_type": "slide"
    }
   },
   "outputs": [],
   "source": [
    "# \"123\" için:\n",
    "\n",
    "value1 = \"123\"\n",
    "print(value1.isalnum())  # True\n",
    "print(value1.isalpha())  # False\n",
    "print(value1.isdecimal())  # True\n",
    "print(value1.isdigit())  # True\n",
    "print(value1.isnumeric())  # True\n"
   ]
  },
  {
   "cell_type": "code",
   "execution_count": null,
   "metadata": {
    "scrolled": true,
    "slideshow": {
     "slide_type": "slide"
    }
   },
   "outputs": [],
   "source": [
    "# \"123.4\" için:\n",
    "\n",
    "value1 = \"123.4\"\n",
    "print(value1.isalnum())  # False\n",
    "print(value1.isalpha())  # False\n",
    "print(value1.isdecimal())  # False\n",
    "print(value1.isdigit())  # False\n",
    "print(value1.isnumeric())  # False\n"
   ]
  },
  {
   "cell_type": "code",
   "execution_count": null,
   "metadata": {
    "scrolled": true,
    "slideshow": {
     "slide_type": "slide"
    }
   },
   "outputs": [],
   "source": [
    "# multiline strings, strip() beraber kullanımı\n",
    "\n",
    "data1 = \"\"\"\n",
    "a\n",
    "b\n",
    "c\n",
    "d\n",
    "\"\"\"\n",
    "lines = data1.strip().splitlines()\n",
    "print(lines)\n"
   ]
  },
  {
   "cell_type": "markdown",
   "metadata": {
    "slideshow": {
     "slide_type": "slide"
    }
   },
   "source": [
    "# `print()` fonksiyonu (1)\n",
    "- sadece `print()` yazarsak, `\\n` yazar, yani yeni satıra geçer.\n",
    "- https://realpython.com/python-print/\n",
    "\n",
    "\n",
    "\n"
   ]
  },
  {
   "cell_type": "code",
   "execution_count": null,
   "metadata": {
    "scrolled": true,
    "slideshow": {
     "slide_type": "slide"
    }
   },
   "outputs": [],
   "source": [
    "# `print()` fonksiyonu (2)\n",
    "answer = 42\n",
    "print(answer)\n",
    "# print(\"herseyin cevabi: \" + answer)\n",
    "# Traceback (most recent call last):\n",
    "#   File \"C:\\...........py\", line 2, in <module>\n",
    "#     print(\"herseyin cevabi: \" + answer)\n",
    "# TypeError: can only concatenate str (not \"int\") to str\n",
    "print(\"herseyin cevabi:\", answer)\n",
    "print(\"herseyin cevabi:\", answer, sep=\"_\")\n",
    "\n",
    "print(\"1\", end=\"\")\n",
    "print(\"2\", end=\"\")\n",
    "print(\"3\", end=\"\")\n",
    "# 123\n"
   ]
  },
  {
   "cell_type": "code",
   "execution_count": null,
   "metadata": {
    "scrolled": true,
    "slideshow": {
     "slide_type": "slide"
    }
   },
   "outputs": [],
   "source": [
    "# `printf`-style String Formatting\n",
    "#- https://docs.python.org/3/library/stdtypes.html#printf-style-string-formatting\n",
    "\n",
    "print(\"bu yıl, yüzde %(buyume)3d büyüme hedefliyoruz.\" % {\"buyume\":23})\n"
   ]
  },
  {
   "cell_type": "code",
   "execution_count": null,
   "metadata": {
    "scrolled": true,
    "slideshow": {
     "slide_type": "slide"
    }
   },
   "outputs": [],
   "source": [
    "# string.format\n",
    "#- https://docs.python.org/3/library/stdtypes.html#printf-style-string-formatting\n",
    "\n",
    "print(\"bu yıl, yüzde {} büyüme hedefliyoruz.\".format(23))\n",
    "print(\"Zamorano {0}, Ronaldo {1} numaralı formaları giydiler\".format(\"1+8\", 9))\n",
    "print(\"Zamorano {1}, Ronaldo {0} numaralı formaları giydiler\".format(9, \"1+8\"))\n"
   ]
  },
  {
   "cell_type": "markdown",
   "metadata": {
    "slideshow": {
     "slide_type": "slide"
    }
   },
   "source": [
    "# f-strings (1)\n",
    "\n",
    "- Formatted string literals.\n",
    "- Python 3.6 ile geldi.\n",
    "- https://docs.python.org/3/tutorial/inputoutput.html#formatted-string-literals\n",
    "- https://docs.python.org/3/reference/lexical_analysis.html#f-strings\n",
    "- https://realpython.com/python-f-strings/\n",
    "\n",
    "\n",
    "\n"
   ]
  },
  {
   "cell_type": "code",
   "execution_count": null,
   "metadata": {
    "scrolled": true,
    "slideshow": {
     "slide_type": "slide"
    }
   },
   "outputs": [],
   "source": [
    "# f-strings (2)\n",
    "number1 = 5\n",
    "number2 = 6\n",
    "total = number1 + number2\n",
    "\n",
    "print(str(number1) + \"+\" +  str(number2) + \"=\" + str(total))\n",
    "# 5+6=11\n",
    "print(f\"{number1}+{number2}={total}\")\n",
    "# 5+6=11\n"
   ]
  },
  {
   "cell_type": "markdown",
   "metadata": {
    "slideshow": {
     "slide_type": "slide"
    }
   },
   "source": [
    "# `input()` fonksiyonu ile Kullanıcıdan değer almak\n",
    "\n",
    "- Python 3.x için, `input()` isimli function kullanılır.\n",
    "- Python 2.x için, `raw_input()` isimli function kullanılır.\n",
    "- Bu fonksiyon, kullanıcının girdiği değeri döndürür.\n",
    "\n",
    "\n",
    "\n"
   ]
  },
  {
   "cell_type": "code",
   "execution_count": null,
   "metadata": {
    "scrolled": true,
    "slideshow": {
     "slide_type": "slide"
    }
   },
   "outputs": [],
   "source": [
    "# Kullanıcıdan değer almak (2)\n",
    "\n",
    "deger = input(\"adinizi giriniz: \")\n",
    "print(deger)\n"
   ]
  },
  {
   "cell_type": "markdown",
   "metadata": {
    "slideshow": {
     "slide_type": "slide"
    }
   },
   "source": [
    "# Uygulama: Kullanıcının adını alıp, \"merhaba\" şeklinde selamlayan bir program\n",
    "\n",
    "- örneğin `Ahmet` girip enter tuşuna bastıysa,\n",
    "- programımız, ekranda `merhaba Ahmet` yazısını göstersin.\n",
    "\n",
    "\n",
    "\n"
   ]
  },
  {
   "cell_type": "markdown",
   "metadata": {
    "slideshow": {
     "slide_type": "slide"
    }
   },
   "source": [
    "# Uygulama: Kullanıcıdan iki ayrı sayı alıp, toplamlarını yazan bir program\n",
    "\n",
    "\n",
    "\n",
    "\n"
   ]
  },
  {
   "cell_type": "code",
   "execution_count": null,
   "metadata": {
    "scrolled": true,
    "slideshow": {
     "slide_type": "slide"
    }
   },
   "outputs": [],
   "source": [
    "# Sıradaki kodu, önce alfanumerik, sonra da sayısal bir değer ile deneyelim:\n",
    "\n",
    "x1 = input(\">>\")\n",
    "print(x1)\n",
    "print(type(x1))\n"
   ]
  },
  {
   "cell_type": "markdown",
   "metadata": {
    "slideshow": {
     "slide_type": "slide"
    }
   },
   "source": [
    "# Gördüğümüz Python built-in fonksiyonları\n",
    "\n",
    "```python\n",
    "print()\n",
    "len()\n",
    "type()\n",
    "dir()\n",
    "```\n",
    "\n",
    "# yeni:\n",
    "\n",
    "```python\n",
    "int()\n",
    "float()\n",
    "```\n",
    "\n",
    "\n",
    "\n"
   ]
  },
  {
   "cell_type": "code",
   "execution_count": null,
   "metadata": {
    "scrolled": true,
    "slideshow": {
     "slide_type": "slide"
    }
   },
   "outputs": [],
   "source": [
    "# int() fonksiyonu\n",
    "\n",
    "x1 = input(\"int icin bir sayi giriniz >>\")\n",
    "i1 = int(x1)  # int() kullanimi\n",
    "print(i1)\n",
    "print(type(i1))\n"
   ]
  },
  {
   "cell_type": "code",
   "execution_count": null,
   "metadata": {
    "scrolled": true,
    "slideshow": {
     "slide_type": "slide"
    }
   },
   "outputs": [],
   "source": [
    "# float() fonksiyonu\n",
    "\n",
    "x1 = input(\"float icin bir sayi giriniz >>\")\n",
    "f1 = float(x1)  # float() kullanimi\n",
    "print(f1)\n",
    "print(type(f1))\n"
   ]
  },
  {
   "cell_type": "markdown",
   "metadata": {
    "slideshow": {
     "slide_type": "slide"
    }
   },
   "source": [
    "# Uygulama: Kullanıcıdan iki ayrı sayı alıp, toplamlarını yazan bir program\n",
    "\n",
    "\n",
    "\n"
   ]
  },
  {
   "cell_type": "markdown",
   "metadata": {
    "slideshow": {
     "slide_type": "slide"
    }
   },
   "source": [
    "# Python Tutorial - Strings\n",
    "- https://docs.python.org/3/tutorial/introduction.html#strings\n",
    "\n",
    "\n",
    "\n"
   ]
  },
  {
   "cell_type": "markdown",
   "metadata": {
    "slideshow": {
     "slide_type": "slide"
    }
   },
   "source": [
    "# son\n"
   ]
  }
 ],
 "metadata": {
  "celltoolbar": "Slideshow",
  "kernelspec": {
   "display_name": "Python 3",
   "language": "python",
   "name": "python3"
  },
  "language_info": {
   "codemirror_mode": {
    "name": "ipython",
    "version": 3
   },
   "file_extension": ".py",
   "mimetype": "text/x-python",
   "name": "python",
   "nbconvert_exporter": "python",
   "pygments_lexer": "ipython3",
   "version": "3.8.5"
  }
 },
 "nbformat": 4,
 "nbformat_minor": 2
}
