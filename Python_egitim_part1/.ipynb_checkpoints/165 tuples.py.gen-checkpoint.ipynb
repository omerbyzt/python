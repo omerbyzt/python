{
 "cells": [
  {
   "cell_type": "markdown",
   "metadata": {
    "slideshow": {
     "slide_type": "slide"
    }
   },
   "source": [
    "# Tuple veri tipi\n",
    "\n",
    "- telaffuz\n",
    "- https://english.stackexchange.com/questions/12980/how-to-pronounce-tuple\n",
    "- listeden farklı olarak, `[` ve `)` yerine `(` ve `)` ile tanımlanırlar.\n",
    "- listeden farklı olarak, immutable\n",
    "- bir index'deki değerini değiştirmeyi deneyelim\n",
    "- `dir()` ile methodlarına bakalım.\n",
    "\n",
    "\n"
   ]
  },
  {
   "cell_type": "code",
   "execution_count": 1,
   "metadata": {
    "scrolled": true,
    "slideshow": {
     "slide_type": "slide"
    }
   },
   "outputs": [
    {
     "name": "stdout",
     "output_type": "stream",
     "text": [
      "<class 'tuple'>\n",
      "4\n"
     ]
    }
   ],
   "source": [
    "# örnek bir tuple\n",
    "\n",
    "players = (\"marco van basten\", \"roberto baggio\", \"ruud gullit\", \"ivan zamorano\")\n",
    "print(type(players))\n",
    "print(len(players))\n"
   ]
  },
  {
   "cell_type": "code",
   "execution_count": 2,
   "metadata": {
    "scrolled": true,
    "slideshow": {
     "slide_type": "slide"
    }
   },
   "outputs": [],
   "source": [
    "# kişisel bilgiler için bir tuple\n",
    "\n",
    "kisisel_bilgiler = (\"marco\", \"van basten\", 12349, \"Netherlands\")\n"
   ]
  },
  {
   "cell_type": "code",
   "execution_count": 3,
   "metadata": {
    "scrolled": true,
    "slideshow": {
     "slide_type": "slide"
    }
   },
   "outputs": [
    {
     "name": "stdout",
     "output_type": "stream",
     "text": [
      "('marco van basten', 'roberto baggio', 'ruud gullit', 'ivan zamorano')\n",
      "<built-in function len>\n",
      "marco van basten\n",
      "ruud gullit\n"
     ]
    }
   ],
   "source": [
    "# birkaç futbolcuyu tanımlayan bir tuple\n",
    "\n",
    "players = (\"marco van basten\", \"roberto baggio\", \"ruud gullit\", \"ivan zamorano\")\n",
    "print(players)\n",
    "print(len)\n",
    "print(players[0])\n",
    "print(players[2])\n"
   ]
  },
  {
   "cell_type": "code",
   "execution_count": null,
   "metadata": {
    "scrolled": true,
    "slideshow": {
     "slide_type": "slide"
    }
   },
   "outputs": [],
   "source": [
    "# aşağıdaki kodun çıktısı ne olur?\n",
    "\n",
    "\n",
    "players = (\"marco van basten\", \"roberto baggio\", \"ruud gullit\", \"ivan zamorano\")\n",
    "print(players[0])\n",
    "print(players[2])\n",
    "players[2] = \"eric cantona\"\n",
    "print(players)\n"
   ]
  },
  {
   "cell_type": "code",
   "execution_count": null,
   "metadata": {
    "scrolled": true,
    "slideshow": {
     "slide_type": "slide"
    }
   },
   "outputs": [],
   "source": [
    "# \"slicing\" kullanılabilir\n",
    "\n",
    "players = (\"marco van basten\", \"roberto baggio\", \"ruud gullit\", \"ivan zamorano\")\n",
    "print(players[0:2])\n"
   ]
  },
  {
   "cell_type": "code",
   "execution_count": null,
   "metadata": {
    "scrolled": true,
    "slideshow": {
     "slide_type": "slide"
    }
   },
   "outputs": [],
   "source": [
    "# çıktısı ne olur?\n",
    "\n",
    "players = (\"marco van basten\", \"roberto baggio\", \"ruud gullit\", \"ivan zamorano\")\n",
    "players.append(\"Ryan Giggs\")\n",
    "\n",
    "# içine dir() ile bakalım.\n"
   ]
  },
  {
   "cell_type": "code",
   "execution_count": null,
   "metadata": {
    "scrolled": true,
    "slideshow": {
     "slide_type": "slide"
    }
   },
   "outputs": [],
   "source": [
    "# dir() ile üyelerine bakalım.\n",
    "\n",
    "players = (\"marco van basten\", \"roberto baggio\", \"ruud gullit\", \"ivan zamorano\")\n",
    "print(dir(players))\n",
    "print()\n",
    "print(dir([]))\n"
   ]
  },
  {
   "cell_type": "markdown",
   "metadata": {
    "slideshow": {
     "slide_type": "slide"
    }
   },
   "source": [
    "# dir() ile üyelerine bakalım. (2)\n",
    "\n",
    "- bir list tipine göre daha en az eleman görüyor olmalıyız.\n",
    "- immutable ne demek?\n",
    "- `append()` yok.\n",
    "- `remove()` yok.\n",
    "- `insert()` yok.\n",
    "\n",
    "\n",
    "\n"
   ]
  },
  {
   "cell_type": "code",
   "execution_count": null,
   "metadata": {
    "scrolled": true,
    "slideshow": {
     "slide_type": "slide"
    }
   },
   "outputs": [],
   "source": [
    "# Uygulama : ruud gullit'i nasıl silebilirim?\n",
    "\n",
    "players = (\"marco van basten\", \"roberto baggio\", \"ruud gullit\", \"ivan zamorano\")\n",
    "\n",
    "# istenen çıktı:\n",
    "# ('marco van basten', 'roberto baggio', 'ivan zamorano')\n"
   ]
  },
  {
   "cell_type": "code",
   "execution_count": null,
   "metadata": {
    "scrolled": true,
    "slideshow": {
     "slide_type": "slide"
    }
   },
   "outputs": [],
   "source": [
    "# tek elemanlı tuple yaratmak\n",
    "\n",
    "# a değişkeninin tipi ne olur?\n",
    "\n",
    "a = (4)\n",
    "print(type(a))\n"
   ]
  },
  {
   "cell_type": "code",
   "execution_count": null,
   "metadata": {
    "scrolled": true,
    "slideshow": {
     "slide_type": "slide"
    }
   },
   "outputs": [],
   "source": [
    "# tek elemanlı tuple yaratmak, çözüm\n",
    "\n",
    "b = (4,)\n",
    "print(type(b))\n"
   ]
  },
  {
   "cell_type": "markdown",
   "metadata": {
    "slideshow": {
     "slide_type": "slide"
    }
   },
   "source": [
    "# list ve tuple\n",
    "\n",
    "- `list` mutable, `tuple` immutable\n",
    "- `list` boyutu dinamik, `tuple` boyutu sabit\n",
    "- `tuple` icinde, `append()`, `remove()`, `pop()` gibi methodlar yok.\n",
    "- Kültürel : `list` içindeki elemanların, aynı tipten olması tercih edilir.\n",
    "- Kültürel : `tuple` içindeki elemanlar, farklı tipten olabilir (C'deki struct gibi)\n",
    "- `list()` fonksiyonu ile, tuple tipinden bir nesne, bir listeye döndürülebilir.\n",
    "- `tuple()` fonksiyonu da tersini yapar.\n",
    "\n",
    "\n",
    "\n"
   ]
  },
  {
   "cell_type": "markdown",
   "metadata": {
    "slideshow": {
     "slide_type": "slide"
    }
   },
   "source": [
    "# son\n"
   ]
  }
 ],
 "metadata": {
  "celltoolbar": "Slideshow",
  "kernelspec": {
   "display_name": "Python 3",
   "language": "python",
   "name": "python3"
  },
  "language_info": {
   "codemirror_mode": {
    "name": "ipython",
    "version": 3
   },
   "file_extension": ".py",
   "mimetype": "text/x-python",
   "name": "python",
   "nbconvert_exporter": "python",
   "pygments_lexer": "ipython3",
   "version": "3.8.5"
  }
 },
 "nbformat": 4,
 "nbformat_minor": 2
}
