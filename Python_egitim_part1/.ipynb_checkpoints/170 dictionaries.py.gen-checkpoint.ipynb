{
 "cells": [
  {
   "cell_type": "markdown",
   "metadata": {
    "slideshow": {
     "slide_type": "slide"
    }
   },
   "source": [
    "# Dictionary\n",
    "\n",
    "- key-value (anahtar-değer) şeklinde çalışan bir veri yapısıdır.\n",
    "- her anahtar tekildir, tekrar etmez.\n",
    "- sequence tip değildir.\n",
    "- sequence: ranged by numbers\n",
    "- dictionaries: ranged by keys\n",
    "\n",
    "\n",
    "\n"
   ]
  },
  {
   "cell_type": "code",
   "execution_count": null,
   "metadata": {
    "scrolled": true,
    "slideshow": {
     "slide_type": "slide"
    }
   },
   "outputs": [],
   "source": [
    "# nasıl tanımlanır?\n",
    "\n",
    "dict1 = {}\n",
    "dict1[\"bir\"] = \"one\"\n",
    "dict1[\"iki\"] = \"two\"\n",
    "print(type(dict1))\n",
    "\n",
    "dict1 = {\"bir\":\"one\", \"iki\":\"two\"}\n",
    "print(dict1)\n",
    "print(type(dict1))\n",
    "\n",
    "dict1 = {\"bir\":\"one\", \"iki\":\"two\", \"bir\":\"uno\"}\n",
    "# print(dict1)  # ne yazar?\n",
    "print(type(dict1))\n"
   ]
  },
  {
   "cell_type": "code",
   "execution_count": null,
   "metadata": {
    "scrolled": true,
    "slideshow": {
     "slide_type": "slide"
    }
   },
   "outputs": [],
   "source": [
    "# dir() uygularsak:\n",
    "\n",
    "dict1 = {\"bir\":\"one\", \"iki\":\"two\"}\n",
    "print(dir(dict1))\n"
   ]
  },
  {
   "cell_type": "code",
   "execution_count": null,
   "metadata": {
    "scrolled": true,
    "slideshow": {
     "slide_type": "slide"
    }
   },
   "outputs": [],
   "source": [
    "# tekil elemanlarına erişim:\n",
    "\n",
    "dict1 = {\"bir\":\"one\", \"iki\":\"two\"}\n",
    "print(dict1[\"bir\"])\n",
    "print(dict1[\"iki\"])\n"
   ]
  },
  {
   "cell_type": "code",
   "execution_count": null,
   "metadata": {
    "scrolled": true,
    "slideshow": {
     "slide_type": "slide"
    }
   },
   "outputs": [],
   "source": [
    "# tekil elemanlarına erişim (2)\n",
    "\n",
    "dict1 = {\"bir\":\"one\", \"iki\":\"two\"}\n",
    "print(dict1[\"uc\"])\n"
   ]
  },
  {
   "cell_type": "code",
   "execution_count": null,
   "metadata": {
    "scrolled": true,
    "slideshow": {
     "slide_type": "slide"
    }
   },
   "outputs": [],
   "source": [
    "# in (membership) operatörü\n",
    "\n",
    "# önceden kontrol etme imkanımız olsaydı ?\n",
    "\n",
    "dict1 = {\"bir\":\"one\", \"iki\":\"two\"}\n",
    "\n",
    "print(len(dict1))\n",
    "\n",
    "if \"bir\" in dict1:\n",
    "    print(dict1[\"bir\"])\n",
    "\n",
    "if \"iki\" in dict1:\n",
    "    print(dict1[\"iki\"])\n",
    "\n",
    "if \"uc\" in dict1:\n",
    "    print(dict1[\"uc\"])\n",
    "else:\n",
    "    print(\"no such key\")\n"
   ]
  },
  {
   "cell_type": "markdown",
   "metadata": {
    "slideshow": {
     "slide_type": "slide"
    }
   },
   "source": [
    "# uygulama: şifre kontrolu\n",
    "\n",
    "- kullanıcının sifrelerinin olduğu bir `dict` olsun.\n",
    "- kullanıcıdan, kullanıcı adı ve şifre alalım.\n",
    "- login olabiliyorsa, login oldun diyelim.\n",
    "- degilse, olmadığını belirtelim.\n",
    "\n",
    "\n",
    "\n"
   ]
  },
  {
   "cell_type": "code",
   "execution_count": null,
   "metadata": {
    "scrolled": true,
    "slideshow": {
     "slide_type": "slide"
    }
   },
   "outputs": [],
   "source": [
    "# bir elemanı silmek\n",
    "\n",
    "# iki method: `del()` ya da `pop()`\n",
    "\n",
    "dict1 = {\"bir\":\"one\", \"iki\":\"two\", \"dort\":\"four\"}\n",
    "\n",
    "del dict1[\"dort\"]\n",
    "value = dict1.pop(\"iki\")\n",
    "\n",
    "print(value)\n",
    "print(dict1)\n",
    "\n",
    "print(dir(dict1))\n"
   ]
  },
  {
   "cell_type": "code",
   "execution_count": null,
   "metadata": {
    "scrolled": true,
    "slideshow": {
     "slide_type": "slide"
    }
   },
   "outputs": [],
   "source": [
    "# bir anahtarın değerini değiştirmek\n",
    "\n",
    "dict1 = {\"bir\":\"one\", \"iki\":\"two\", \"dort\":\"four\"}\n",
    "\n",
    "dict1[\"bir\"] = \"un\"\n",
    "dict1[\"bir\"] = \"1\"\n",
    "\n",
    "print(dict1)\n"
   ]
  },
  {
   "cell_type": "markdown",
   "metadata": {
    "slideshow": {
     "slide_type": "slide"
    }
   },
   "source": [
    "# anahtar, tekil (unique) olmalıdır.\n",
    "\n",
    "```python\n",
    "dict_name[key] = value\n",
    "```\n",
    "\n",
    " key olarak ne kullanılabilir?\n",
    "\n",
    "\n",
    "\n"
   ]
  },
  {
   "cell_type": "code",
   "execution_count": null,
   "metadata": {
    "scrolled": true,
    "slideshow": {
     "slide_type": "slide"
    }
   },
   "outputs": [],
   "source": [
    "# anahtar olarak string\n",
    "\n",
    "dict1 = {}\n",
    "dict1[\"one\"] = 1\n",
    "\n",
    "print(dict1)\n"
   ]
  },
  {
   "cell_type": "code",
   "execution_count": null,
   "metadata": {
    "scrolled": true,
    "slideshow": {
     "slide_type": "slide"
    }
   },
   "outputs": [],
   "source": [
    "# anahtar olarak sayılar, örneğin integer ya da float\n",
    "\n",
    "dict1 = {}\n",
    "dict1[1] = \"one\"\n",
    "\n",
    "print(dict1)\n"
   ]
  },
  {
   "cell_type": "markdown",
   "metadata": {
    "slideshow": {
     "slide_type": "slide"
    }
   },
   "source": [
    "# Uygulama: ingilizce-türkce sözlük örneği\n",
    "\n",
    "- aşağıdaki kelimeleri ekleyelim:\n",
    "- one, two\n",
    "- kullanıcıya, hangi kelimeyi aradığını soralım.\n",
    "- eğer sözlükte yoksa, sözlüğe ekleyelim.\n",
    "\n",
    "\n",
    "\n"
   ]
  },
  {
   "cell_type": "code",
   "execution_count": null,
   "metadata": {
    "scrolled": true,
    "slideshow": {
     "slide_type": "slide"
    }
   },
   "outputs": [],
   "source": [
    "# il dictionary örneği\n",
    "\n",
    "iller = {}\n",
    "iller[\"adana\"] = (\"01\", \"akdeniz\")\n",
    "iller[\"ordu\"] = (\"52\", \"karadeniz\")\n",
    "iller[\"samsun\"] = (\"55\", \"karadeniz\")\n",
    "iller[\"izmir\"] = (\"35\", \"ege\")\n",
    "iller[\"erzurum\"] = (\"25\", \"doğu anadolu\")\n",
    "iller[\"istanbul\"] = (\"34\", \"marmara\")\n"
   ]
  },
  {
   "cell_type": "markdown",
   "metadata": {
    "slideshow": {
     "slide_type": "slide"
    }
   },
   "source": [
    "# Uygulama: il dictionary örneği (2)\n",
    "\n",
    "- kullanıcıdan bir il bilgisi alalım.\n",
    "- değeri ekrana yazalım.\n",
    "- bilmediğimiz bir il ise, plaka kodu ve bölgesini soralım.\n",
    "- `iller` içine ekleyelim.\n",
    "\n",
    "\n",
    "\n"
   ]
  },
  {
   "cell_type": "markdown",
   "metadata": {
    "slideshow": {
     "slide_type": "slide"
    }
   },
   "source": [
    "# ingilizce-türkce sözlük örneği\n",
    "\n",
    "- ingilizce `free` kelimesinin, Türkçe'de 2 anlamı var.\n",
    "- ikisini de tutmak istiyoruz.\n",
    "- nasıl bir çözüm getirebiliriz?\n",
    "\n",
    "\n",
    "\n"
   ]
  },
  {
   "cell_type": "code",
   "execution_count": null,
   "metadata": {
    "scrolled": true,
    "slideshow": {
     "slide_type": "slide"
    }
   },
   "outputs": [],
   "source": [
    "# anahtar olarak tuple\n",
    "\n",
    "tuple1 = (\"fransizca\", 1)\n",
    "\n",
    "dict1 = {}\n",
    "dict1[tuple1] = \"one\"\n",
    "\n",
    "print(dict1)\n"
   ]
  },
  {
   "cell_type": "code",
   "execution_count": null,
   "metadata": {
    "scrolled": true,
    "slideshow": {
     "slide_type": "slide"
    }
   },
   "outputs": [],
   "source": [
    "# değeri geri almaya çalışalım.\n",
    "\n",
    "tuple1 = (\"fransizca\", 1)\n",
    "\n",
    "dict1 = {}\n",
    "dict1[tuple1] = \"one\"\n",
    "\n",
    "tuple2 = (\"fransizca\", 1)\n",
    "\n",
    "print(dict1[tuple2])\n"
   ]
  },
  {
   "cell_type": "code",
   "execution_count": null,
   "metadata": {
    "scrolled": true,
    "slideshow": {
     "slide_type": "slide"
    }
   },
   "outputs": [],
   "source": [
    "# list kullanırsak\n",
    "\n",
    "list1 = (\"fransizca\", 1)\n",
    "\n",
    "dict1 = {}\n",
    "dict1[list1] = \"one\"\n",
    "\n",
    "list2 = [\"fransizca\", 1]\n",
    "\n",
    "print(dict1[list2])\n",
    "\n",
    "\n",
    "#Traceback (most recent call last):\n",
    "#  File \"C:\\projects\\file1.py\", line 8, in <module>\n",
    "#    print(dict1[list2])\n",
    "#TypeError: unhashable type: 'list'\n"
   ]
  },
  {
   "cell_type": "code",
   "execution_count": null,
   "metadata": {
    "scrolled": true,
    "slideshow": {
     "slide_type": "slide"
    }
   },
   "outputs": [],
   "source": [
    "# dictionary ile yemek listesi\n",
    "\n",
    "yemek_listesi = {}\n",
    "yemek_listesi[\"pazartesi\"] = (\"pide\", \"ayran\", \"cacik\")\n",
    "yemek_listesi[\"sali\"] = (\"lahmacun\", \"cola\", None)\n",
    "yemek_listesi[\"carsamba\"] = (\"t-bone\", \"srp\", None)\n",
    "yemek_listesi[\"persembe\"] = (\"midye\", \"br\", None)\n",
    "yemek_listesi[\"cuma\"] = (\"hamburger\", \"soda\", \"ayran\")\n",
    "# print(yemek_listesi)\n",
    "for gun in yemek_listesi:  # sadece key\n",
    "    print(gun)\n",
    "    print(yemek_listesi[gun])\n",
    "\n",
    "for x in yemek_listesi.items():\n",
    "    # ('cuma', ('hamburger', 'soda'))\n",
    "    pass\n",
    "\n",
    "for gun, menu in yemek_listesi.items():\n",
    "    print(gun)\n",
    "    # print(\"\\t\", menu)\n",
    "    yiyecek, icecek, yan_yemek = menu\n",
    "    print(\"\\t\\t\", icecek)\n"
   ]
  },
  {
   "cell_type": "markdown",
   "metadata": {
    "slideshow": {
     "slide_type": "slide"
    }
   },
   "source": [
    "# son\n"
   ]
  }
 ],
 "metadata": {
  "celltoolbar": "Slideshow",
  "kernelspec": {
   "display_name": "Python 3",
   "language": "python",
   "name": "python3"
  },
  "language_info": {
   "codemirror_mode": {
    "name": "ipython",
    "version": 3
   },
   "file_extension": ".py",
   "mimetype": "text/x-python",
   "name": "python",
   "nbconvert_exporter": "python",
   "pygments_lexer": "ipython3",
   "version": "3.8.5"
  }
 },
 "nbformat": 4,
 "nbformat_minor": 2
}
