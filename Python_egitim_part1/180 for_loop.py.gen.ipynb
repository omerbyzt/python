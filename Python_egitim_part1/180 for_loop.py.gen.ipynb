{
 "cells":
    [
    {
        "cell_type": "markdown",
        "metadata": {
            "slideshow": {
                "slide_type": "slide"
            }
        },
        "source": [
            "# `for` d\u00f6ng\u00fcs\u00fc\n",
            "\n",
            " - `list`, `tuple`, `str`, `dict` gibi veri yap\u0131lar\u0131n\u0131n elemanlar\u0131 \u00fczerinde d\u00f6ner.\n",
            " - bir listeyi tarayarak, her bir eleman \u00fczerinde i\u015flem yapabiliriz.\n",
            "\n",
            "\n",
            "\n"
        ]
    },
    {
        "cell_type": "code",
        "metadata": {
            "scrolled": true,
            "slideshow": {
                "slide_type": "slide"
            }
        },
        "source": [
            "# `for` d\u00f6ng\u00fcs\u00fc\n",
            "\n",
            "sehirler = [\"istanbul\", \"izmir\", \"ankara\"]\n",
            "for sehir in sehirler:\n",
            "    print(sehir)\n"
        ],
        "execution_count": null,
        "outputs": []
    },
    {
        "cell_type": "code",
        "metadata": {
            "scrolled": true,
            "slideshow": {
                "slide_type": "slide"
            }
        },
        "source": [
            "# for ile iterasyon\n",
            "\n",
            "# list, tuple, string, dictionary\n",
            "\n",
            "list1 = [1, 2, 3]\n",
            "\n",
            "for item in list1:\n",
            "    print(item)\n",
            "\n",
            "tuple1 = (1, 2, 3)\n",
            "\n",
            "for item in tuple1:\n",
            "    print(item)\n",
            "\n",
            "string1 = \"abcdef\"\n",
            "\n",
            "for item in string1:\n",
            "    print(item)\n",
            "\n",
            "dict1 = {}\n",
            "dict1[\"one\"] = 1\n",
            "dict1[\"two\"] = 2\n",
            "dict1[\"three\"] = 3\n",
            "dict1[\"dort\"] = 4\n",
            "dict1[\"bes\"] = 5\n",
            "\n",
            "for key in dict1:\n",
            "    value = dict1[key]\n",
            "    print(key, \" : \", value)\n"
        ],
        "execution_count": null,
        "outputs": []
    },
    {
        "cell_type": "code",
        "metadata": {
            "scrolled": true,
            "slideshow": {
                "slide_type": "slide"
            }
        },
        "source": [
            "# for, dictionary \u00fczerinde d\u00f6nebilir.\n",
            "\n",
            "ti_sozluk = {}\n",
            "ti_sozluk[\"bir\"] = \"one\"\n",
            "ti_sozluk[\"iki\"] = \"two\"\n",
            "ti_sozluk[\"yedi\"] = \"seven\"\n",
            "\n",
            "for turkce_kelime in ti_sozluk:\n",
            "    print(turkce_kelime)\n",
            "\n",
            "for item in ti_sozluk.items():\n",
            "    print(item)\n",
            "    print(type(item))  # <class 'tuple'>\n"
        ],
        "execution_count": null,
        "outputs": []
    },
    {
        "cell_type": "markdown",
        "metadata": {
            "slideshow": {
                "slide_type": "slide"
            }
        },
        "source": [
            "# uygulama: for d\u00f6ng\u00fcs\u00fc ile film listesinde arama yapmak\n",
            "\n",
            " - bir film listesi olsun.\n",
            " - birka\u00e7 alan\u0131 varsa, nas\u0131l bir veri tipinde tutmal\u0131y\u0131z?\n",
            " - kullan\u0131c\u0131dan aranan film bilgisini alal\u0131m.\n",
            " - filmerde arama yapabilsin.\n",
            " - k\u00fc\u00e7\u00fck-b\u00fcy\u00fck harf fark\u0131 olmas\u0131n, hepsini bulsun.\n",
            "\n",
            "\n",
            "\n"
        ]
    },
    {
        "cell_type": "code",
        "metadata": {
            "scrolled": true,
            "slideshow": {
                "slide_type": "slide"
            }
        },
        "source": [
            "# \u00e7\u00f6z\u00fcm: for d\u00f6ng\u00fcs\u00fc ile film listesinde arama yapmak\n",
            "\n",
            "tum_filmler = [\"game of thrones\", \"godzilla\", \"matrix\", \"batman\", \"lucy\", \"hababam sinifi\", \"amerikan pastasi\"]\n",
            "\n",
            "aranan = \"ma\"  # kullanici girsin.\n",
            "\n",
            "bulundu = False\n",
            "\n",
            "for bizdeki_film in tum_filmler:\n",
            "    if bizdeki_film.find(aranan) > -1:\n",
            "        print(bizdeki_film)\n",
            "        bulundu = True\n",
            "\n",
            "if not bulundu:\n",
            "    print(\"oyle bir film yok\")\n"
        ],
        "execution_count": null,
        "outputs": []
    },
    {
        "cell_type": "code",
        "metadata": {
            "scrolled": true,
            "slideshow": {
                "slide_type": "slide"
            }
        },
        "source": [
            "# range\n",
            "\n",
            "# belli bir say\u0131 aral\u0131\u011f\u0131nda d\u00f6nd\u00fcrmek i\u00e7in, `range()` kullan\u0131l\u0131r.\n",
            "\n",
            "for i in range(4):\n",
            "    print(i)\n"
        ],
        "execution_count": null,
        "outputs": []
    },
    {
        "cell_type": "code",
        "metadata": {
            "scrolled": true,
            "slideshow": {
                "slide_type": "slide"
            }
        },
        "source": [
            "# range(stop)\n",
            "\n",
            "r1 = range(4)\n",
            "print(r1)\n",
            "print(r1[0])\n",
            "print(r1[3])\n",
            "print(r1[4])  # hata?\n"
        ],
        "execution_count": null,
        "outputs": []
    },
    {
        "cell_type": "code",
        "metadata": {
            "scrolled": true,
            "slideshow": {
                "slide_type": "slide"
            }
        },
        "source": [
            "# range(start, stop)\n",
            "\n",
            "r1 = range(2, 4)\n",
            "print(r1)\n",
            "print(r1[0])\n",
            "print(r1[1])\n"
        ],
        "execution_count": null,
        "outputs": []
    },
    {
        "cell_type": "code",
        "metadata": {
            "scrolled": true,
            "slideshow": {
                "slide_type": "slide"
            }
        },
        "source": [
            "# range(start, stop[, step])\n",
            "\n",
            "r1 = range(2, 9, 3)\n",
            "print(r1)\n",
            "print(r1[0])\n",
            "print(r1[1])\n",
            "print(r1[2])\n"
        ],
        "execution_count": null,
        "outputs": []
    },
    {
        "cell_type": "markdown",
        "metadata": {
            "slideshow": {
                "slide_type": "slide"
            }
        },
        "source": [
            "# uygulama: for ile seri hesaplama\n",
            "\n",
            " - x = 1/2 + 2/3 + .... 10/11\n",
            " - x'in de\u011feri nedir?\n",
            "\n",
            "\n",
            "\n"
        ]
    },
    {
        "cell_type": "markdown",
        "metadata": {
            "slideshow": {
                "slide_type": "slide"
            }
        },
        "source": [
            "# uygulama: list i\u00e7inde list toplam\u0131\n",
            " - bu de\u011fi\u015fkenin i\u00e7indeki say\u0131lar\u0131n toplam\u0131n\u0131 hesaplay\u0131n\u0131z.\n",
            " - `data = [[3, 9, 4], [5, 2, 9], [8, 2, 5]]`\n",
            "\n",
            "\n",
            "\n"
        ]
    },
    {
        "cell_type": "code",
        "metadata": {
            "scrolled": true,
            "slideshow": {
                "slide_type": "slide"
            }
        },
        "source": [
            "# Python 2.x ve 3.x i\u00e7in range() fark\u0131\n",
            "\n",
            "# Python2: list d\u00f6nd\u00fcr\u00fcr\n",
            "# Python3: range object d\u00f6nd\u00fcr\u00fcr\n",
            "\n",
            "print(range(5))\n",
            "\n",
            "r1 = range(5)\n",
            "print(type(r1))\n",
            "print(r1)\n"
        ],
        "execution_count": null,
        "outputs": []
    },
    {
        "cell_type": "code",
        "metadata": {
            "scrolled": true,
            "slideshow": {
                "slide_type": "slide"
            }
        },
        "source": [
            "# help(range)\n",
            "\n",
            "help(range)\n"
        ],
        "execution_count": null,
        "outputs": []
    },
    {
        "cell_type": "code",
        "metadata": {
            "scrolled": true,
            "slideshow": {
                "slide_type": "slide"
            }
        },
        "source": [
            "# range nesnesini, listeye \u00e7evirmek\n",
            "\n",
            "# \u00f6ncelikle, bir range() fonksiyonu ne d\u00f6nd\u00fcr\u00fcyor, onu g\u00f6relim:\n",
            "print(type(range(7)))  # <class 'range'>\n",
            "\n",
            "# t\u00fcm elemanlar\u0131 haz\u0131r etmek istersek:\n",
            "li1 = list(range(7))\n",
            "print(type(li1))  # <class 'list'>\n"
        ],
        "execution_count": null,
        "outputs": []
    },
    {
        "cell_type": "code",
        "metadata": {
            "scrolled": true,
            "slideshow": {
                "slide_type": "slide"
            }
        },
        "source": [
            "# uygulama: list i\u00e7inde list toplam\u0131\n",
            "\n",
            "# a\u015fa\u011f\u0131daki veride, t\u00fcm h\u00fccrelerdeki verinin toplam\u0131 nedir?\n",
            "\n",
            "data = [[3, 9, 4], [5, 2, 9], [8, 2, 5]]\n"
        ],
        "execution_count": null,
        "outputs": []
    },
    {
        "cell_type": "code",
        "metadata": {
            "scrolled": true,
            "slideshow": {
                "slide_type": "slide"
            }
        },
        "source": [
            "# rastgele bir liste olu\u015fturmak i\u00e7in\n",
            "\n",
            "# daha b\u00fcy\u00fck veri olu\u015fturmak i\u00e7in:\n",
            "# bir d\u00f6ng\u00fc ile beraber, random kullan\u0131labilir:\n",
            "\n",
            "import random\n",
            "x = random.randint(0, 9)\n",
            "print(x)\n"
        ],
        "execution_count": null,
        "outputs": []
    },
    {
        "cell_type": "markdown",
        "metadata": {
            "slideshow": {
                "slide_type": "slide"
            }
        },
        "source": [
            "# for ile Uygulama : not ortalamas\u0131\n",
            "\n",
            " - Kullan\u0131c\u0131dan, s\u0131n\u0131ftaki \u00f6\u011frenci say\u0131s\u0131n\u0131 al\u0131p, o kadar notu `input()` olarak alan ve ortalamas\u0131n\u0131 yazan program.\n",
            "\n",
            "\n",
            "\n"
        ]
    },
    {
        "cell_type": "markdown",
        "metadata": {
            "slideshow": {
                "slide_type": "slide"
            }
        },
        "source": [
            "# for ile Uygulama : break ve continue kullan\u0131m\u0131\n",
            "\n",
            " - istedi\u011fimiz \u00e7\u0131kt\u0131:\n",
            "\n",
            " ```\n",
            " 1\n",
            " 2\n",
            " 3\n",
            " 5\n",
            " ```\n",
            "\n",
            "\n",
            "\n"
        ]
    },
    {
        "cell_type": "code",
        "metadata": {
            "scrolled": true,
            "slideshow": {
                "slide_type": "slide"
            }
        },
        "source": [
            "# for ile Uygulama : break ve continue kullan\u0131m\u0131\n",
            "\n",
            "for i in range(1, 9):\n",
            "    if i == 4:\n",
            "        continue\n",
            "    elif i == 6:\n",
            "        break\n",
            "    print(i)\n"
        ],
        "execution_count": null,
        "outputs": []
    },
    {
        "cell_type": "markdown",
        "metadata": {
            "slideshow": {
                "slide_type": "slide"
            }
        },
        "source": [
            "# Uygulama\n",
            "\n",
            " \u015fu uygulama ne kadar mant\u0131kl\u0131?\n",
            "\n",
            " - Kullan\u0131c\u0131, negatif bir say\u0131 girene kadar kullan\u0131c\u0131dan de\u011fer al\u0131p, bitti\u011finde ortalamas\u0131n\u0131 hesaplayan bir program.\n",
            " - break ile tekrar yazal\u0131m.\n",
            "\n",
            " ```\n",
            " >>> 100\n",
            " >>> 80\n",
            " >>> 90\n",
            " >>> -1\n",
            " 270.0\n",
            " 90.0\n",
            " ```\n",
            "\n",
            "\n",
            "\n",
            "\n"
        ]
    },
    {
        "cell_type": "code",
        "metadata": {
            "scrolled": true,
            "slideshow": {
                "slide_type": "slide"
            }
        },
        "source": [
            "# for-else\n",
            "\n",
            "# 4 ve 2 degerleri icin deneyelim.\n",
            "\n",
            "raw_value = input(\">>>\")\n",
            "unwanted = int(raw_value)\n",
            "for item in range(4):\n",
            "    if item == unwanted:\n",
            "        break\n",
            "    else:\n",
            "        print(item)\n",
            "else:\n",
            "    print(\"all clear\")\n",
            "\n",
            "# else, d\u00f6ng\u00fc, break olmadan bitmi\u015f ise \u00e7al\u0131\u015f\u0131r.\n"
        ],
        "execution_count": null,
        "outputs": []
    },
    {
        "cell_type": "markdown",
        "metadata": {
            "slideshow": {
                "slide_type": "slide"
            }
        },
        "source": [
            "# Uygulama : histogram\n",
            "\n",
            " - Kullan\u0131c\u0131dan, bo\u015f giri\u015f yap\u0131lana kadar harf alan,\n",
            " - sonra da bunlar\u0131n histogram\u0131n\u0131 g\u00f6steren bir uygulama\n",
            " - bunun, bir `str` \u00fczerinde ayn\u0131 i\u015flemi yapan versiyonu nas\u0131l yap\u0131l\u0131rd\u0131?\n",
            "\n",
            "\n",
            "\n"
        ]
    },
    {
        "cell_type": "markdown",
        "metadata": {
            "slideshow": {
                "slide_type": "slide"
            }
        },
        "source": [
            "# Uygulama : Tam Say\u0131n\u0131n Tam B\u00f6lenleri\n",
            "\n",
            " - Verilen bir tam say\u0131n\u0131n, tam say\u0131 b\u00f6lenlerini bulan uygulama\n",
            "\n",
            " ```\n",
            " >>>2\n",
            " [1, 2]\n",
            "\n",
            " >>>3\n",
            " [1, 3]\n",
            "\n",
            " >>>8\n",
            " [1, 2, 4, 8]\n",
            "\n",
            " >>>9\n",
            " [1, 3, 9]\n",
            " ```\n",
            "\n",
            "\n"
        ]
    },
    {
        "cell_type": "code",
        "metadata": {
            "scrolled": true,
            "slideshow": {
                "slide_type": "slide"
            }
        },
        "source": [
            "# \u00c7\u00f6z\u00fcm : Tam Say\u0131n\u0131n Tam B\u00f6lenleri\n",
            "\n",
            "bolenler = [1]\n",
            "\n",
            "number = int(input(\"enter a number : \"))\n",
            "for bolen in range(2, number+1):\n",
            "    kalan = number % bolen\n",
            "    if kalan == 0:\n",
            "        bolenler.append(bolen)\n",
            "\n",
            "print(bolenler)\n",
            "\n",
            "# test:\n",
            "# 0, 1, n\n"
        ],
        "execution_count": null,
        "outputs": []
    },
    {
        "cell_type": "markdown",
        "metadata": {
            "slideshow": {
                "slide_type": "slide"
            }
        },
        "source": [
            "# Uygulama : palindrome testi\n",
            "\n",
            " - Kullan\u0131c\u0131dan bir `str` al\u0131p, palindrome mu de\u011fil mi tespit eden bir uygulama.\n",
            "\n",
            " ```\n",
            " >>>1\n",
            " palindrome\n",
            "\n",
            " >>>121\n",
            " palindrome\n",
            "\n",
            " >>>1234\n",
            " not palindrome\n",
            "\n",
            " >>>\n",
            " palindrome\n",
            " ```\n",
            "\n",
            "\n"
        ]
    },
    {
        "cell_type": "code",
        "metadata": {
            "scrolled": true,
            "slideshow": {
                "slide_type": "slide"
            }
        },
        "source": [
            "# \u00c7\u00f6z\u00fcm : palindrome testi\n",
            "\n",
            "data = input(\">>>\")\n",
            "data2 = \"\"\n",
            "for ch in data:\n",
            "    data2 = ch + data2\n",
            "if data == data2:\n",
            "    print(\"palindrome\")\n",
            "else:\n",
            "    print(\"not palindrome\")\n",
            "\n",
            "list1 = []\n",
            "data = input(\">>>\") # abcdef\n",
            "for ch in data:\n",
            "    list1.insert(0, ch)\n",
            "\n",
            "print(list1)\n",
            "\n",
            "reversed_data = \"\".join(list1)\n",
            "print(reversed_data)\n",
            "\n",
            "if data == reversed_data:\n",
            "    print(\"palindrome\")\n",
            "else:\n",
            "    print(\"not palindrome\")\n"
        ],
        "execution_count": null,
        "outputs": []
    },
    {
        "cell_type": "markdown",
        "metadata": {
            "slideshow": {
                "slide_type": "slide"
            }
        },
        "source": [
            "# Uygulama : factorial\n",
            "\n",
            " - Kullan\u0131c\u0131dan bir say\u0131 alarak, factorial hesab\u0131 yapan program\n",
            " - n! = n * (n-1) * (n-2) .. 1\n",
            " - 5! = 5 * 4 * 3 * 2 * 1 = 120\n",
            "\n",
            " ```\n",
            " >>> 0\n",
            " 1\n",
            " >>> 1\n",
            " 1\n",
            " >>> 2\n",
            " 2\n",
            " >>> 3\n",
            " 6\n",
            " >>> 7\n",
            " 5040\n",
            " >>> 300\n",
            " ???\n",
            " ```\n",
            "\n",
            "\n",
            "\n"
        ]
    },
    {
        "cell_type": "code",
        "metadata": {
            "scrolled": true,
            "slideshow": {
                "slide_type": "slide"
            }
        },
        "source": [
            "# \u00c7\u00f6z\u00fcm : factorial\n",
            "\n",
            "total = 1\n",
            "num = int(input(\">>> \"))\n",
            "if num == 0 or num == 1:\n",
            "    pass\n",
            "else:\n",
            "    for i in range(2, num+1):\n",
            "        total = total * i\n",
            "\n",
            "print(total)\n"
        ],
        "execution_count": null,
        "outputs": []
    },
    {
        "cell_type": "markdown",
        "metadata": {
            "slideshow": {
                "slide_type": "slide"
            }
        },
        "source": [
            "# Uygulama : \u00e7arp\u0131m tablosu\n",
            "\n",
            "\n",
            "\n"
        ]
    },
    {
        "cell_type": "markdown",
        "metadata": {
            "slideshow": {
                "slide_type": "slide"
            }
        },
        "source": [
            "# Uygulama : pascal \u00fc\u00e7geni\n",
            "\n",
            " ```\n",
            "        1\n",
            "     1     1\n",
            "    1   2   1\n",
            "   1  3   3  1\n",
            "  1  4  6  4  1\n",
            " 1  5 10 10  5 1\n",
            " ```\n",
            "\n",
            "\n"
        ]
    },
    {
        "cell_type": "markdown",
        "metadata": {
            "slideshow": {
                "slide_type": "slide"
            }
        },
        "source": [
            "# son\n"
        ]
    }
]
,
 "metadata": {
  "celltoolbar": "Slideshow",
  "kernelspec": {
   "display_name": "Python 3",
   "language": "python",
   "name": "python3"
  },
  "language_info": {
   "codemirror_mode": {
    "name": "ipython",
    "version": 3
   },
   "file_extension": ".py",
   "mimetype": "text/x-python",
   "name": "python",
   "nbconvert_exporter": "python",
   "pygments_lexer": "ipython3",
   "version": "3.7.4"
  }
 },
 "nbformat": 4,
 "nbformat_minor": 2
}