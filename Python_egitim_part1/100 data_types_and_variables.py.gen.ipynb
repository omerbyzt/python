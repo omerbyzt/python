{
 "cells": [
  {
   "cell_type": "markdown",
   "metadata": {
    "slideshow": {
     "slide_type": "slide"
    }
   },
   "source": [
    "# Veri Tipleri ve Değişkenler\n",
    "\n",
    "- numerics\n",
    "  - int\n",
    "    - boolean\n",
    "  - float\n",
    "  - complex\n",
    "- sequences\n",
    "  - list, tuple, range\n",
    "- mappings\n",
    "- classes, instances\n",
    "- exceptions\n",
    "- https://docs.python.org/3/library/stdtypes.html#built-in-types\n",
    "\n",
    "\n",
    "\n"
   ]
  },
  {
   "cell_type": "markdown",
   "metadata": {
    "slideshow": {
     "slide_type": "slide"
    }
   },
   "source": [
    "# Numeric Types\n",
    "\n",
    "- int\n",
    "  - booleans (sub type of integers)\n",
    "- float\n",
    "- complex\n",
    "- https://docs.python.org/3/library/stdtypes.html#numeric-types-int-float-complex\n",
    "\n",
    "\n",
    "\n"
   ]
  },
  {
   "cell_type": "code",
   "execution_count": 1,
   "metadata": {
    "scrolled": true,
    "slideshow": {
     "slide_type": "slide"
    }
   },
   "outputs": [],
   "source": [
    "# Değişken tanımı ve tipi\n",
    "\n",
    "# Bir değişken, `=` operatörü ile tanımlanır.\n",
    "# değer, sağdan sola geçer.\n",
    "\n",
    "pi = 3.14\n",
    "cevap = 42\n",
    "\n",
    "x, y = 4, 5\n"
   ]
  },
  {
   "cell_type": "markdown",
   "metadata": {
    "slideshow": {
     "slide_type": "slide"
    }
   },
   "source": [
    "# Type inference\n",
    "\n",
    "- Değişkenin, daha önceden bir yerde tanımlanması gerekmez.\n",
    "\n",
    "\n",
    "\n"
   ]
  },
  {
   "cell_type": "code",
   "execution_count": 3,
   "metadata": {
    "scrolled": true,
    "slideshow": {
     "slide_type": "slide"
    }
   },
   "outputs": [
    {
     "name": "stdout",
     "output_type": "stream",
     "text": [
      "<class 'str'>\n",
      "<class 'int'>\n",
      "<class 'float'>\n"
     ]
    }
   ],
   "source": [
    "# type() fonksiyonu\n",
    "\n",
    "# built-in `type()` fonksiyonu, verilen bir değerin tipini döndürür.\n",
    "\n",
    "n1 = \"deneme\"\n",
    "print(type(n1))\n",
    "print(type(9))\n",
    "print(type(9.2))\n"
   ]
  },
  {
   "cell_type": "code",
   "execution_count": 2,
   "metadata": {
    "scrolled": false,
    "slideshow": {
     "slide_type": "slide"
    }
   },
   "outputs": [
    {
     "ename": "NameError",
     "evalue": "name 'temp' is not defined",
     "output_type": "error",
     "traceback": [
      "\u001b[1;31m---------------------------------------------------------------------------\u001b[0m",
      "\u001b[1;31mNameError\u001b[0m                                 Traceback (most recent call last)",
      "\u001b[1;32m<ipython-input-2-b468c393f737>\u001b[0m in \u001b[0;36m<module>\u001b[1;34m\u001b[0m\n\u001b[0;32m      2\u001b[0m \u001b[1;33m\u001b[0m\u001b[0m\n\u001b[0;32m      3\u001b[0m \u001b[0mn1\u001b[0m \u001b[1;33m=\u001b[0m \u001b[1;36m6\u001b[0m\u001b[1;33m\u001b[0m\u001b[1;33m\u001b[0m\u001b[0m\n\u001b[1;32m----> 4\u001b[1;33m \u001b[0mprint\u001b[0m\u001b[1;33m(\u001b[0m\u001b[0mtemp\u001b[0m\u001b[1;33m)\u001b[0m\u001b[1;33m\u001b[0m\u001b[1;33m\u001b[0m\u001b[0m\n\u001b[0m",
      "\u001b[1;31mNameError\u001b[0m: name 'temp' is not defined"
     ]
    }
   ],
   "source": [
    "# Sıradaki kod parçasını çalıştırırsak, ne görürüz?\n",
    "\n",
    "n1 = 6\n",
    "print(temp)\n"
   ]
  },
  {
   "cell_type": "code",
   "execution_count": 4,
   "metadata": {
    "scrolled": true,
    "slideshow": {
     "slide_type": "slide"
    }
   },
   "outputs": [
    {
     "name": "stdout",
     "output_type": "stream",
     "text": [
      "3.2\n",
      "<class 'float'>\n",
      "309487593480750934876590348759847593845687934598345\n",
      "<class 'int'>\n",
      "213520639314129101821252532421834586857916317455039803859185077304847500597021082250308367084051701873871092187136\n"
     ]
    }
   ],
   "source": [
    "# Sayısal değişkenlerin boyutu\n",
    "\n",
    "# - bunun çalıştığını biliyoruz:\n",
    "\n",
    "n2 = 3.2\n",
    "print(n2)\n",
    "print(type(n2))\n",
    "\n",
    "# bir de bunu deneyelim:\n",
    "\n",
    "n1 = 309487593480750934876590348759847593845687934598345\n",
    "print(n1)\n",
    "print(type(n1))\n",
    "\n",
    "n2 = 34 ** 74\n",
    "print(n2)\n"
   ]
  },
  {
   "cell_type": "markdown",
   "metadata": {
    "slideshow": {
     "slide_type": "slide"
    }
   },
   "source": [
    "# Sayısal değişkenlerin boyutu\n",
    "\n",
    " - \"Integers have unlimited precision.\"\n",
    " - https://docs.python.org/3/library/stdtypes.html#numeric-types-int-float-complex\n",
    "\n",
    "\n",
    "\n"
   ]
  },
  {
   "cell_type": "code",
   "execution_count": null,
   "metadata": {
    "scrolled": true,
    "slideshow": {
     "slide_type": "slide"
    }
   },
   "outputs": [],
   "source": [
    "# float\n",
    "\n",
    "n3 = 309487593480750934876590348759847593845687934598345.309487593480750934876590348759847593845687934598345\n",
    "print(n3)\n",
    "print(type(n3))\n"
   ]
  },
  {
   "cell_type": "markdown",
   "metadata": {
    "slideshow": {
     "slide_type": "slide"
    }
   },
   "source": [
    "# float\n",
    "- Floating point numbers are usually implemented using double in C\n",
    "\n",
    "\n",
    "\n"
   ]
  },
  {
   "cell_type": "code",
   "execution_count": null,
   "metadata": {
    "scrolled": true,
    "slideshow": {
     "slide_type": "slide"
    }
   },
   "outputs": [],
   "source": [
    "# Complex Sayı Tipi\n",
    "\n",
    "n4 = 3+5j\n",
    "print(n4)\n",
    "print(type(n4))\n"
   ]
  },
  {
   "cell_type": "markdown",
   "metadata": {
    "slideshow": {
     "slide_type": "slide"
    }
   },
   "source": [
    "# Numeric Operations\n",
    "- All numeric types (except complex) support the following operations (for priorities of the operations\n",
    "- https://docs.python.org/3/library/stdtypes.html#numeric-types-int-float-complex\n",
    "\n",
    "\n",
    "\n"
   ]
  },
  {
   "cell_type": "markdown",
   "metadata": {
    "slideshow": {
     "slide_type": "slide"
    }
   },
   "source": [
    "# Operator Precedence\n",
    "- https://docs.python.org/3/reference/expressions.html#operator-summary\n",
    "\n",
    "\n",
    "\n"
   ]
  },
  {
   "cell_type": "markdown",
   "metadata": {
    "slideshow": {
     "slide_type": "slide"
    }
   },
   "source": [
    "# Bitwise Operations on Integer Types\n",
    "- https://docs.python.org/3/library/stdtypes.html#bitwise-operations-on-integer-types\n",
    "\n",
    "\n",
    "\n"
   ]
  },
  {
   "cell_type": "markdown",
   "metadata": {
    "slideshow": {
     "slide_type": "slide"
    }
   },
   "source": [
    "# Sayısal Değişken Tipleri - özet\n",
    "\n",
    "- int\n",
    "  - bool\n",
    "- float\n",
    "- complex\n",
    "- https://docs.python.org/3/library/stdtypes.html#numeric-types-int-float-complex\n",
    "\n",
    "\n",
    "\n"
   ]
  },
  {
   "cell_type": "markdown",
   "metadata": {
    "slideshow": {
     "slide_type": "slide"
    }
   },
   "source": [
    "# Operatörler\n",
    "\n",
    "- Arithmetic Operators (`+ - * / ** % //`)\n",
    "- Comparison (Relational) Operators (`==, !=, <, >, <=, >=`)\n",
    "- Assignment Operators (`= += -= *= /= %= **= //=`)\n",
    "- Logical Operators (`and or nor`)\n",
    "- Bitwise Operators (`& || ..`)\n",
    "- Membership Operators (`in , not in`)\n",
    "- Identity Operators (`is , is not`)\n",
    "\n",
    "\n",
    "\n"
   ]
  },
  {
   "cell_type": "markdown",
   "metadata": {
    "slideshow": {
     "slide_type": "slide"
    }
   },
   "source": [
    "# Operator Precedence:\n",
    "- https://docs.python.org/3/reference/expressions.html#operator-precedence\n",
    "\n",
    "\n",
    "\n"
   ]
  },
  {
   "cell_type": "markdown",
   "metadata": {
    "slideshow": {
     "slide_type": "slide"
    }
   },
   "source": [
    "# Aritmetik Operatörler\n",
    "\n",
    "- `+`  addition\n",
    "- `-`  subtraction\n",
    "- `*`  multiplication\n",
    "- `/`  division (true division)\n",
    "- `//` division (floor division)\n",
    "- `%`  modulus\n",
    "- `**` exponentiation\n",
    "\n",
    "\n",
    "\n"
   ]
  },
  {
   "cell_type": "code",
   "execution_count": null,
   "metadata": {
    "scrolled": true,
    "slideshow": {
     "slide_type": "slide"
    }
   },
   "outputs": [],
   "source": [
    "# addition, subtraction\n",
    "\n",
    "print(2+3)\n",
    "print(2+3.1)\n",
    "\n",
    "print(4-2)\n",
    "print(4-2.0)\n",
    "print(2-3.1)\n"
   ]
  },
  {
   "cell_type": "code",
   "execution_count": null,
   "metadata": {
    "scrolled": true,
    "slideshow": {
     "slide_type": "slide"
    }
   },
   "outputs": [],
   "source": [
    "# hitpoint\n",
    "hitpoint = 100\n",
    "hitpoint = hitpoint - 20  # yüksekten düştük\n",
    "hitpoint = hitpoint - 10  # yerdeki dikene bastık\n",
    "hitpoint = hitpoint - 20  # yüksekten düştük\n"
   ]
  },
  {
   "cell_type": "code",
   "execution_count": null,
   "metadata": {
    "scrolled": true,
    "slideshow": {
     "slide_type": "slide"
    }
   },
   "outputs": [],
   "source": [
    "# Multiplication\n",
    "\n",
    "print(2*3)\n",
    "print(2*3.1)\n"
   ]
  },
  {
   "cell_type": "code",
   "execution_count": null,
   "metadata": {
    "scrolled": true,
    "slideshow": {
     "slide_type": "slide"
    }
   },
   "outputs": [],
   "source": [
    "# Division\n",
    "\n",
    "print(4/2)  # true division\n",
    "print(4/2.0)\n",
    "print(4//2)  # floor division\n"
   ]
  },
  {
   "cell_type": "code",
   "execution_count": null,
   "metadata": {
    "scrolled": true,
    "slideshow": {
     "slide_type": "slide"
    }
   },
   "outputs": [],
   "source": [
    "# Division (2)\n",
    "\n",
    "print(5/2)\n",
    "print(5/2.0)\n",
    "print(5//2)\n",
    "\n",
    "print(7/2)\n",
    "print(7//2)\n"
   ]
  },
  {
   "cell_type": "code",
   "execution_count": null,
   "metadata": {
    "scrolled": true,
    "slideshow": {
     "slide_type": "slide"
    }
   },
   "outputs": [],
   "source": [
    "# Division, negatif sayılar ile\n",
    "\n",
    "print(5/2)\n",
    "print(-5/2)\n",
    "print(-5//2)\n",
    "\n",
    "# -3 değerinden gördüğümüz üzere, \"floor\" işlemi uygulanıyor.\n",
    "# bu işlem, floor division olarak da bilinir.\n"
   ]
  },
  {
   "cell_type": "markdown",
   "metadata": {
    "slideshow": {
     "slide_type": "slide"
    }
   },
   "source": [
    "# round() fonksiyonu (1)\n",
    "\n",
    " - https://docs.python.org/3/library/functions.html#round\n",
    " - `round(number[, ndigits])`\n",
    " - Return number rounded to ndigits precision after the decimal point.\n",
    " - If ndigits is omitted or is None, it returns the nearest integer to its input.\n",
    "\n",
    "\n",
    "\n"
   ]
  },
  {
   "cell_type": "code",
   "execution_count": null,
   "metadata": {
    "scrolled": true,
    "slideshow": {
     "slide_type": "slide"
    }
   },
   "outputs": [],
   "source": [
    "# round() fonksiyonu (2)\n",
    "\n",
    "print(int(2.1))\n",
    "print(round(2.1))\n",
    "print(int(2.5))\n",
    "print(round(2.5))\n",
    "print(int(2.8))\n",
    "print(round(2.8))  # 3\n",
    "\n",
    "pi_num = 3.14159265359\n",
    "print(round(pi_num, 2))\n"
   ]
  },
  {
   "cell_type": "code",
   "execution_count": null,
   "metadata": {
    "scrolled": true,
    "slideshow": {
     "slide_type": "slide"
    }
   },
   "outputs": [],
   "source": [
    "# Modulus operator\n",
    "\n",
    "# bölümünden kalanı verir.\n",
    "\n",
    "print(5%2)\n",
    "print(4%2)\n",
    "print(2%2)\n",
    "print(1%2)\n",
    "print(0%2)\n",
    "print(-1%2)\n",
    "print(-2%2)\n"
   ]
  },
  {
   "cell_type": "code",
   "execution_count": null,
   "metadata": {
    "scrolled": true,
    "slideshow": {
     "slide_type": "slide"
    }
   },
   "outputs": [],
   "source": [
    "# + ve * operatörleri üzerine...\n",
    "\n",
    "# operatörler, operandlarına göre farklı davranmaktadırlar.\n",
    "\n",
    "print(4 + 5)\n",
    "print(\"4\" + \"5\")\n",
    "print(4 * 5)\n",
    "print(\"4\" * \"5\")\n",
    "print(\"mine \" * 20)\n",
    "print(20 * \"mine \")\n"
   ]
  },
  {
   "cell_type": "code",
   "execution_count": null,
   "metadata": {
    "scrolled": true,
    "slideshow": {
     "slide_type": "slide"
    }
   },
   "outputs": [],
   "source": [
    "# boolean tip, True ve False\n",
    "film_izlendi = True\n",
    "veri_bulundu = False\n",
    "\n",
    "kayit_edilecek = True\n",
    "sorun_bulundu = False\n",
    "\n",
    "maskesi_var_mi = True\n",
    "otobuse_binebilir_mi = False\n"
   ]
  },
  {
   "cell_type": "markdown",
   "metadata": {
    "slideshow": {
     "slide_type": "slide"
    }
   },
   "source": [
    "# boolean tip, True ve False\n",
    "- https://docs.python.org/3/library/stdtypes.html#boolean-values\n",
    "\n",
    "\n",
    "\n"
   ]
  },
  {
   "cell_type": "markdown",
   "metadata": {
    "slideshow": {
     "slide_type": "slide"
    }
   },
   "source": [
    "# Truth table\n",
    "- and\n",
    "- or\n",
    "- not\n",
    "\n",
    "\n",
    "\n"
   ]
  },
  {
   "cell_type": "code",
   "execution_count": null,
   "metadata": {
    "scrolled": true,
    "slideshow": {
     "slide_type": "slide"
    }
   },
   "outputs": [],
   "source": [
    "# Truth table - and\n",
    "print(False and False)\n",
    "print(False and True)\n",
    "print(True and False)\n",
    "print(True and True)\n"
   ]
  },
  {
   "cell_type": "code",
   "execution_count": null,
   "metadata": {
    "scrolled": true,
    "slideshow": {
     "slide_type": "slide"
    }
   },
   "outputs": [],
   "source": [
    "# Truth table - or\n",
    "print(False or False)\n",
    "print(False or True)\n",
    "print(True or False)\n",
    "print(True or True)\n"
   ]
  },
  {
   "cell_type": "code",
   "execution_count": null,
   "metadata": {
    "scrolled": true,
    "slideshow": {
     "slide_type": "slide"
    }
   },
   "outputs": [],
   "source": [
    "# Truth table - not\n",
    "print(not False)\n",
    "print(not True)\n"
   ]
  },
  {
   "cell_type": "code",
   "execution_count": null,
   "metadata": {
    "scrolled": true,
    "slideshow": {
     "slide_type": "slide"
    }
   },
   "outputs": [],
   "source": [
    "# None değeri\n",
    "\n",
    "secilmis_kisi = None\n",
    "son_kayit = None\n",
    "en_sevdigim_sayı = None\n",
    "\n",
    "# `type()` ile deneyelim.\n"
   ]
  },
  {
   "cell_type": "markdown",
   "metadata": {
    "slideshow": {
     "slide_type": "slide"
    }
   },
   "source": [
    "# None değeri\n",
    "- Python data, in Built-in Constants\n",
    "- represent the absence of a value\n",
    "- \"adınızı giriniz\" örneğini düşünelim.\n",
    "- \"bir sayı giriniz\" örneğini düşünelim.\n",
    "- https://docs.python.org/3/library/constants.html?highlight=none#None\n",
    "\n",
    "\n",
    "\n"
   ]
  },
  {
   "cell_type": "markdown",
   "metadata": {
    "slideshow": {
     "slide_type": "slide"
    }
   },
   "source": [
    "# Referanslar, Detaylar\n",
    "\n",
    "- https://docs.python.org/3/library/stdtypes.html\n",
    "- https://docs.python.org/3/reference/datamodel.html#types\n",
    "- https://docs.python.org/3/library/constants.html\n",
    "- https://docs.python.org/3/library/datatypes.html\n",
    "\n",
    "\n",
    "\n"
   ]
  },
  {
   "cell_type": "markdown",
   "metadata": {
    "slideshow": {
     "slide_type": "slide"
    }
   },
   "source": [
    "# Python Tutorial - Numbers\n",
    "- https://docs.python.org/3/tutorial/introduction.html#numbers\n",
    "\n",
    "\n",
    "\n"
   ]
  },
  {
   "cell_type": "markdown",
   "metadata": {
    "slideshow": {
     "slide_type": "slide"
    }
   },
   "source": [
    "# Değişken isimleri\n",
    " - herhangi bir uzunlukta olabilir.\n",
    " - küçük harfler, büyük harfler, rakamlar ve underscore(_) içerebilir.\n",
    " - rakam ile başlayamaz.\n",
    "\n",
    "\n",
    "\n"
   ]
  },
  {
   "cell_type": "markdown",
   "metadata": {
    "slideshow": {
     "slide_type": "slide"
    }
   },
   "source": [
    "# Naming Conventions (1)\n",
    "\n",
    " ```\n",
    " sn\n",
    " studentNumber (Camel case, camelCase, CamelCase)\n",
    " StudentNumber (Upper Camel Case, PascalCase)\n",
    " student_number (snake_case, Python'un tercihi)\n",
    " ```\n",
    "\n",
    "\n",
    "\n"
   ]
  },
  {
   "cell_type": "markdown",
   "metadata": {
    "slideshow": {
     "slide_type": "slide"
    }
   },
   "source": [
    "# Naming Conventions (2)\n",
    "- https://www.python.org/dev/peps/pep-0008/#id34\n",
    "- https://en.wikipedia.org/wiki/Camel_case\n",
    "- https://en.wikipedia.org/wiki/Naming_convention_(programming)\n",
    "\n",
    "\n",
    "\n"
   ]
  },
  {
   "cell_type": "markdown",
   "metadata": {
    "slideshow": {
     "slide_type": "slide"
    }
   },
   "source": [
    "# son\n"
   ]
  }
 ],
 "metadata": {
  "celltoolbar": "Slideshow",
  "kernelspec": {
   "display_name": "Python 3",
   "language": "python",
   "name": "python3"
  },
  "language_info": {
   "codemirror_mode": {
    "name": "ipython",
    "version": 3
   },
   "file_extension": ".py",
   "mimetype": "text/x-python",
   "name": "python",
   "nbconvert_exporter": "python",
   "pygments_lexer": "ipython3",
   "version": "3.8.5"
  }
 },
 "nbformat": 4,
 "nbformat_minor": 2
}
