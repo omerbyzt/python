{
 "cells": [
  {
   "cell_type": "markdown",
   "metadata": {
    "slideshow": {
     "slide_type": "slide"
    }
   },
   "source": [
    "# Fonksiyonlar\n",
    "\n",
    " - Fonksiyonlar, yazılımı parçalara ayırır.\n",
    " - Tekrar kullanılabilir.\n",
    " - Fiil şeklinde isimlendirme yapılır.\n",
    " - Excel örnekleri: SUM, COUNT\n",
    "\n",
    "\n",
    "\n"
   ]
  },
  {
   "cell_type": "markdown",
   "metadata": {
    "slideshow": {
     "slide_type": "slide"
    }
   },
   "source": [
    "# Fonksiyon tanımlamak\n",
    "\n",
    " - `def` ile başlar.\n",
    " - Sonrasında fonksiyon adı yazılır.\n",
    " - Sonrasında, parantez açılır.\n",
    " - Eğer varsa, alacağı parametreler yazılır.\n",
    " - Parantez kapatılır.\n",
    " - `:` işareti konur.\n",
    " - içindeki blok girintili yazılır.\n",
    "\n",
    " ```\n",
    " f(x) = 3x + 4\n",
    " ```\n",
    "\n",
    " ```python\n",
    " def f(x):\n",
    "     return 3*x + 4\n",
    " ```\n",
    "\n",
    "\n",
    "\n"
   ]
  },
  {
   "cell_type": "code",
   "execution_count": null,
   "metadata": {
    "scrolled": true,
    "slideshow": {
     "slide_type": "slide"
    }
   },
   "outputs": [],
   "source": [
    "# daha once karşılaştığımız bazı fonksiyonlar:\n",
    "\n",
    "isim = \"spam\"\n",
    "uzunluk = len(isim)\n",
    "list1 = dir(isim)\n",
    "\n",
    "# Dönüş değerlerinin tipi ?\n"
   ]
  },
  {
   "cell_type": "markdown",
   "metadata": {
    "slideshow": {
     "slide_type": "slide"
    }
   },
   "source": [
    "# Argüman almak ve döndürmek\n",
    "\n",
    " - argüman veya parametre olarak geçer.\n",
    " - argüman alıp değer döndürebilir.\n",
    " - argüman alıp değer döndürmeyebilir.\n",
    " - argüman almadan değer döndürebilir.\n",
    " - argüman almaz ve değer döndürmez.\n",
    "\n",
    "\n",
    "\n"
   ]
  },
  {
   "cell_type": "markdown",
   "metadata": {
    "slideshow": {
     "slide_type": "slide"
    }
   },
   "source": [
    "# İsimlendirme\n",
    "\n",
    " - fiil şeklinde kullanilmali.\n",
    " - tek bir görevi olmali.\n",
    " - tek bir sayfaya sigmasi tercih edilir.\n",
    " - örneğin aşağıdaki gibi bir isim cikiyorsa, düşünmek gerekir:\n",
    "\n",
    " ```python\n",
    " read_and_calculate_and_print()\n",
    " ```\n",
    "\n",
    "\n",
    "\n"
   ]
  },
  {
   "cell_type": "code",
   "execution_count": null,
   "metadata": {
    "scrolled": true,
    "slideshow": {
     "slide_type": "slide"
    }
   },
   "outputs": [],
   "source": [
    "# topla() fonksiyonu\n",
    "\n",
    "# argüman alıp değer döndürebilir\n",
    "# birden fazla değer almak:\n",
    "\n",
    "def topla(sayi1, sayi2):\n",
    "    return sayi1 + sayi2\n",
    "\n",
    "toplam = topla(4, 5)\n",
    "print(toplam)\n"
   ]
  },
  {
   "cell_type": "code",
   "execution_count": null,
   "metadata": {
    "scrolled": true,
    "slideshow": {
     "slide_type": "slide"
    }
   },
   "outputs": [],
   "source": [
    "# PyCharm için param ile tip belirleme\n",
    "\n",
    "def topla2(sayi1, sayi2):\n",
    "    \"\"\"\n",
    "    Iki degerin toplamini dondurur.\n",
    "    :param sayi1: ilk sayi\n",
    "    :param sayi2: ikinci sayi\n",
    "    :return: toplam deger\n",
    "    \"\"\"\n",
    "    sonuc = sayi1 + sayi2\n",
    "    return sonuc\n"
   ]
  },
  {
   "cell_type": "markdown",
   "metadata": {
    "slideshow": {
     "slide_type": "slide"
    }
   },
   "source": [
    "# Uygulama : karesini_al()\n",
    "\n",
    " - verilen bir sayının karesini döndürsün.\n",
    "\n",
    "\n",
    "\n"
   ]
  },
  {
   "cell_type": "markdown",
   "metadata": {
    "slideshow": {
     "slide_type": "slide"
    }
   },
   "source": [
    "# uygulama: merhaba_de()\n",
    "\n",
    " - iki parametre alsın:\n",
    " - isim ve dil\n",
    " - o dile göre, kişiyi selamlasın.\n",
    "\n",
    "\n",
    "\n"
   ]
  },
  {
   "cell_type": "code",
   "execution_count": 1,
   "metadata": {
    "scrolled": true,
    "slideshow": {
     "slide_type": "slide"
    }
   },
   "outputs": [
    {
     "name": "stdout",
     "output_type": "stream",
     "text": [
      "a\n",
      "None\n"
     ]
    }
   ],
   "source": [
    "# print() fonksiyonunun dönüş değeri nedir?\n",
    "\n",
    "result = print(\"a\")\n",
    "print(result)\n"
   ]
  },
  {
   "cell_type": "markdown",
   "metadata": {
    "slideshow": {
     "slide_type": "slide"
    }
   },
   "source": [
    "# uygulama: ısı hesapla\n",
    "\n",
    " `q = m*c*dt` formülüne göre ısı hesaplayan bir fonksiyon\n",
    "\n",
    "\n",
    "\n"
   ]
  },
  {
   "cell_type": "code",
   "execution_count": null,
   "metadata": {
    "scrolled": true,
    "slideshow": {
     "slide_type": "slide"
    }
   },
   "outputs": [],
   "source": [
    "# çözüm: ısı hesapla\n",
    "\n",
    "def isi_hesapla(m, c, t1, t2):\n",
    "    \"\"\"\n",
    "    Isi degisimini kalori olarka hesaplar.\n",
    "\n",
    "    heat energy = (mass of substance)(specific heat)(change in temperature)\n",
    "\n",
    "    :param m: kutle\n",
    "    :param c: isi sabiti\n",
    "    :param t1: birinci isi\n",
    "    :param t2: ikinci isi\n",
    "    :return: q'yu (heat) dondurur\n",
    "    \"\"\"\n",
    "    q = m * c * (t2-t1)\n",
    "    return q\n"
   ]
  },
  {
   "cell_type": "markdown",
   "metadata": {
    "slideshow": {
     "slide_type": "slide"
    }
   },
   "source": [
    "# uygulama: cizgi_ciz()\n",
    "\n",
    "\n",
    "\n"
   ]
  },
  {
   "cell_type": "code",
   "execution_count": null,
   "metadata": {
    "scrolled": true,
    "slideshow": {
     "slide_type": "slide"
    }
   },
   "outputs": [],
   "source": [
    "# çözüm: cizgi_ciz()\n",
    "\n",
    "def cizgi_ciz(desen):\n",
    "    print(desen * 79)\n",
    "\n",
    "cizgi_ciz(\"-\")\n"
   ]
  },
  {
   "cell_type": "markdown",
   "metadata": {
    "slideshow": {
     "slide_type": "slide"
    }
   },
   "source": [
    "# çözüm: alti_cizgili_yaz()\n",
    "\n",
    "\n",
    "\n"
   ]
  },
  {
   "cell_type": "code",
   "execution_count": null,
   "metadata": {
    "scrolled": true,
    "slideshow": {
     "slide_type": "slide"
    }
   },
   "outputs": [],
   "source": [
    "# uygulama: alti_cizgili_yaz()\n",
    "\n",
    "def alti_cizili_yaz(baslik, karakter):\n",
    "    print(baslik)\n",
    "    print(len(baslik) * karakter)\n"
   ]
  },
  {
   "cell_type": "markdown",
   "metadata": {
    "slideshow": {
     "slide_type": "slide"
    }
   },
   "source": [
    "# uygulama: `avg()` fonksiyonu\n",
    "\n",
    " bir listenin ortalamasını alan bir fonksiyon yazınız.\n",
    "\n",
    "\n",
    "\n"
   ]
  },
  {
   "cell_type": "markdown",
   "metadata": {
    "slideshow": {
     "slide_type": "slide"
    }
   },
   "source": [
    "# uygulama: avg_no_peak() fonksiyonu\n",
    "\n",
    " - bir listenin,\n",
    " - min ve max elemanları olmadan\n",
    " - ortalamasını alan bir fonksiyon yazınız.\n",
    "\n",
    "\n",
    "\n"
   ]
  },
  {
   "cell_type": "code",
   "execution_count": null,
   "metadata": {
    "scrolled": true,
    "slideshow": {
     "slide_type": "slide"
    }
   },
   "outputs": [],
   "source": [
    "# çözüm: avg() ve avg_no_peak() fonksiyonları\n",
    "\n",
    "def avg(list1):\n",
    "    ortalama = sum(list1) / len(list1)\n",
    "    return ortalama\n",
    "\n",
    "def avg_no_peak(listx1):\n",
    "    listx1 = sorted(listx1)\n",
    "    listx2 = listx1[1:len(listx1)-1]\n",
    "    ortalama = avg(listx2)\n",
    "    return ortalama\n"
   ]
  },
  {
   "cell_type": "code",
   "execution_count": null,
   "metadata": {
    "scrolled": true,
    "slideshow": {
     "slide_type": "slide"
    }
   },
   "outputs": [],
   "source": [
    "# km_hesapla() ve masraf_hesapla() fonksiyonları\n",
    "def km_hesapla(hiz, zaman):\n",
    "    pass\n",
    "\n",
    "def masraf_hesapla(hiz, zaman, benzin_litre_fiyati):\n",
    "    # aracimiz, 100 km'de 7 litre menzin harciyor olsun.\n",
    "    pass\n"
   ]
  },
  {
   "cell_type": "markdown",
   "metadata": {
    "slideshow": {
     "slide_type": "slide"
    }
   },
   "source": [
    "# uygulama: calculate_letter_grade() fonksiyonu\n",
    "\n",
    " - input: bir puan alsın.\n",
    " - output: bir harf döndürsün.\n",
    "\n",
    "\n",
    "\n"
   ]
  },
  {
   "cell_type": "code",
   "execution_count": null,
   "metadata": {
    "scrolled": true,
    "slideshow": {
     "slide_type": "slide"
    }
   },
   "outputs": [],
   "source": [
    "# çözüm: calculate_letter_grade() fonksiyonu\n",
    "\n",
    "def calculate_letter_grade(puan):\n",
    "    if 0 <= puan <= 50:\n",
    "        grade = \"D\"\n",
    "    elif 51 <= puan <= 65:\n",
    "        grade = \"C\"\n",
    "    elif 66 <= puan <= 85:\n",
    "        grade = \"B\"\n",
    "    elif 86 <= puan <= 100:\n",
    "        grade = \"A\"\n",
    "    else:\n",
    "        grade = \"F\"\n",
    "    return grade\n"
   ]
  },
  {
   "cell_type": "code",
   "execution_count": null,
   "metadata": {
    "scrolled": true,
    "slideshow": {
     "slide_type": "slide"
    }
   },
   "outputs": [],
   "source": [
    "# Bir sayıya kadar olan sayıların toplamını döndüren bir fonksiyon yazınız.\n",
    "\n",
    "def sum_up_to(number):\n",
    "    pass\n"
   ]
  },
  {
   "cell_type": "markdown",
   "metadata": {
    "slideshow": {
     "slide_type": "slide"
    }
   },
   "source": [
    "# Bir sayı alıp, aşağıdaki çıktıyı yazan bir fonksiyon yazınız:\n",
    "\n",
    " ```python\n",
    " def print_stars(num):\n",
    "    pass\n",
    " ```\n",
    "\n",
    " ```\n",
    " 1 için:\n",
    "\n",
    " *\n",
    "\n",
    " 2 için:\n",
    "\n",
    " *\n",
    " **\n",
    "\n",
    " 3 için:\n",
    "\n",
    " *\n",
    " **\n",
    " ***\n",
    " ```\n",
    " ```\n",
    "\n",
    "\n",
    "\n"
   ]
  },
  {
   "cell_type": "markdown",
   "metadata": {
    "slideshow": {
     "slide_type": "slide"
    }
   },
   "source": [
    "# Bir list alıp, o liste içindeki elemanların histogramını döndüren bir fonksiyon yazınız.\n",
    "\n",
    " ```\n",
    " [\"a\", \"b\", \"a\", \"c\", \"b\", \"a\"]\n",
    "\n",
    " a: ###\n",
    " b: ##\n",
    " c: #\n",
    " ```\n",
    "\n",
    "\n",
    "\n"
   ]
  },
  {
   "cell_type": "markdown",
   "metadata": {
    "slideshow": {
     "slide_type": "slide"
    }
   },
   "source": [
    "# Bir string alıp, içindeki boşlukları silen bir fonksiyon yazınız.\n",
    "\n",
    "- Bu işlem sonrasında, parametrenin solundaki ve sağındaki boşluklar kalıyor olmalıdır.\n",
    "\n",
    " ```python\n",
    " def middlestrip(string1):\n",
    "     pass\n",
    " ```\n",
    "\n",
    "\n",
    "\n"
   ]
  },
  {
   "cell_type": "markdown",
   "metadata": {
    "slideshow": {
     "slide_type": "slide"
    }
   },
   "source": [
    "# Uygulama: calculate_factorial()\n",
    "\n",
    "\n",
    "\n"
   ]
  },
  {
   "cell_type": "code",
   "execution_count": null,
   "metadata": {
    "scrolled": true,
    "slideshow": {
     "slide_type": "slide"
    }
   },
   "outputs": [],
   "source": [
    "# çözüm: calculate_factorial()\n",
    "\n",
    "def calculate_factorial(num):\n",
    "    total = 1\n",
    "    if num == 0 or num == 1:\n",
    "        pass\n",
    "    else:\n",
    "        for j in range(2, num+1):\n",
    "            total = total * j\n",
    "    return total\n"
   ]
  },
  {
   "cell_type": "markdown",
   "metadata": {
    "slideshow": {
     "slide_type": "slide"
    }
   },
   "source": [
    "# Uygulama: is_prime()\n",
    "\n",
    "\n"
   ]
  },
  {
   "cell_type": "code",
   "execution_count": null,
   "metadata": {
    "scrolled": true,
    "slideshow": {
     "slide_type": "slide"
    }
   },
   "outputs": [],
   "source": [
    "# Çözüm: is_prime()\n",
    "\n",
    "def is_prime(number):\n",
    "    is_prime = True\n",
    "    for i in range(2, number//2 + 1):\n",
    "        remainder = number % i\n",
    "        if remainder == 0:\n",
    "            is_prime = False\n",
    "            break\n",
    "    return is_prime\n",
    "\n",
    "def main():\n",
    "    print(is_prime(2))\n",
    "    print(is_prime(4))\n",
    "    print(is_prime(5))\n",
    "    print(is_prime(9))\n",
    "    print(is_prime(19))\n",
    "\n",
    "main()\n"
   ]
  },
  {
   "cell_type": "markdown",
   "metadata": {
    "slideshow": {
     "slide_type": "slide"
    }
   },
   "source": [
    "# Uygulama: kullanıcıdan bir sayı alarak, o sayıya kadar olan asal sayıları bulan uygulama\n",
    "\n",
    " - yukarıdaki `is_prime()` fonksiyonunu tekrar kullanabilirsiniz.\n",
    "\n",
    "\n",
    "\n"
   ]
  },
  {
   "cell_type": "code",
   "execution_count": null,
   "metadata": {
    "scrolled": true,
    "slideshow": {
     "slide_type": "slide"
    }
   },
   "outputs": [],
   "source": [
    "# Çözüm: kullanıcıdan bir sayı alarak, o sayıya kadar olan asal sayıları bulan uygulama\n",
    "\n",
    "number = int(input(\"n sayısına kadar olan asal sayıları bulmak için n: >>>\"))\n",
    "for i in range(2, number + 1):\n",
    "    print(i, is_prime(i))\n"
   ]
  },
  {
   "cell_type": "markdown",
   "metadata": {
    "slideshow": {
     "slide_type": "slide"
    }
   },
   "source": [
    "# argüman almadan değer döndürebilir\n",
    "\n",
    " ```python\n",
    " def is_windows():\n",
    "     pass\n",
    "\n",
    " print(is_windows())\n",
    " ```\n",
    "\n",
    "\n",
    "\n"
   ]
  },
  {
   "cell_type": "markdown",
   "metadata": {
    "slideshow": {
     "slide_type": "slide"
    }
   },
   "source": [
    "# argüman almaz ve değer döndürmez\n",
    "\n",
    " ```python\n",
    " set_color_to_blue()\n",
    " close_file()\n",
    " ```\n",
    "\n",
    "\n"
   ]
  },
  {
   "cell_type": "markdown",
   "metadata": {
    "slideshow": {
     "slide_type": "slide"
    }
   },
   "source": [
    "# uygulama: iki sayı alıp, toplamını ve farkını döndürmek\n",
    "\n",
    " - bir fonksiyon, birden fazla değer döndürebilir mi?\n",
    " - dönüş tipi ne olur?\n",
    " - assignment operatoru hatırlayalım.\n",
    "\n",
    "\n",
    "\n"
   ]
  },
  {
   "cell_type": "code",
   "execution_count": 4,
   "metadata": {
    "scrolled": true,
    "slideshow": {
     "slide_type": "slide"
    }
   },
   "outputs": [
    {
     "name": "stdout",
     "output_type": "stream",
     "text": [
      "(10, -2, 24)\n"
     ]
    },
    {
     "ename": "ValueError",
     "evalue": "too many values to unpack (expected 2)",
     "output_type": "error",
     "traceback": [
      "\u001b[1;31m---------------------------------------------------------------------------\u001b[0m",
      "\u001b[1;31mValueError\u001b[0m                                Traceback (most recent call last)",
      "\u001b[1;32m<ipython-input-4-8d37f2d1cc11>\u001b[0m in \u001b[0;36m<module>\u001b[1;34m\u001b[0m\n\u001b[0;32m     11\u001b[0m \u001b[1;31m# sonuclar değişkenin tipi ne olur?\u001b[0m\u001b[1;33m\u001b[0m\u001b[1;33m\u001b[0m\u001b[1;33m\u001b[0m\u001b[0m\n\u001b[0;32m     12\u001b[0m \u001b[1;33m\u001b[0m\u001b[0m\n\u001b[1;32m---> 13\u001b[1;33m \u001b[0mx\u001b[0m\u001b[1;33m,\u001b[0m \u001b[0my\u001b[0m \u001b[1;33m=\u001b[0m \u001b[0miki_islem_yap\u001b[0m\u001b[1;33m(\u001b[0m\u001b[1;36m3\u001b[0m\u001b[1;33m,\u001b[0m \u001b[1;36m5\u001b[0m\u001b[1;33m)\u001b[0m\u001b[1;33m\u001b[0m\u001b[1;33m\u001b[0m\u001b[0m\n\u001b[0m\u001b[0;32m     14\u001b[0m \u001b[0mprint\u001b[0m\u001b[1;33m(\u001b[0m\u001b[0mx\u001b[0m\u001b[1;33m)\u001b[0m  \u001b[1;31m# 8\u001b[0m\u001b[1;33m\u001b[0m\u001b[1;33m\u001b[0m\u001b[0m\n\u001b[0;32m     15\u001b[0m \u001b[0mprint\u001b[0m\u001b[1;33m(\u001b[0m\u001b[0my\u001b[0m\u001b[1;33m)\u001b[0m  \u001b[1;31m# 5\u001b[0m\u001b[1;33m\u001b[0m\u001b[1;33m\u001b[0m\u001b[0m\n",
      "\u001b[1;31mValueError\u001b[0m: too many values to unpack (expected 2)"
     ]
    }
   ],
   "source": [
    "# uygulama: iki sayı alıp, toplamını ve farkını döndürmek\n",
    "\n",
    "def iki_islem_yap(a, b):\n",
    "    toplam = a + b\n",
    "    fark = a - b\n",
    "    carpim = a * b\n",
    "    return toplam, fark, carpim\n",
    "\n",
    "sonuclar = iki_islem_yap(4, 6)\n",
    "print(sonuclar)\n",
    "# sonuclar değişkenin tipi ne olur?\n",
    "\n",
    "x, y = iki_islem_yap(3, 5)\n",
    "print(x)  # 8\n",
    "print(y)  # 5\n"
   ]
  },
  {
   "cell_type": "code",
   "execution_count": 2,
   "metadata": {
    "scrolled": true,
    "slideshow": {
     "slide_type": "slide"
    }
   },
   "outputs": [
    {
     "name": "stdout",
     "output_type": "stream",
     "text": [
      "2 3\n"
     ]
    }
   ],
   "source": [
    "# divmod() hatırlayalım:\n",
    "\n",
    "x, y = divmod(13, 5)\n",
    "print(x, y)  # 2, 3\n",
    "# https://docs.python.org/3/library/functions.html#divmod\n"
   ]
  },
  {
   "cell_type": "code",
   "execution_count": null,
   "metadata": {
    "scrolled": true,
    "slideshow": {
     "slide_type": "slide"
    }
   },
   "outputs": [],
   "source": [
    "# uygulama: iki sayı alıp, toplamını ve farkını döndürmek\n",
    "\n",
    "# eğer sonuç tuple ise,\n",
    "# 2 dönüş değerini, 2 değişken ile karşılayalım.\n",
    "\n",
    "def iki_islem_yap(a, b):\n",
    "    toplam = a + b\n",
    "    fark = a * b\n",
    "    return toplam, fark\n",
    "\n",
    "toplam1, fark1 = iki_islem_yap(4, 6)\n",
    "print(toplam1, fark1)\n"
   ]
  },
  {
   "cell_type": "code",
   "execution_count": null,
   "metadata": {
    "scrolled": true,
    "slideshow": {
     "slide_type": "slide"
    }
   },
   "outputs": [],
   "source": [
    "# tuple assignment\n",
    "x = 3\n",
    "y = 5\n",
    "\n",
    "x, y = 3, 5\n",
    "a, b = x, y\n",
    "a, b = b, a  # swap\n",
    "print(a, b)\n"
   ]
  },
  {
   "cell_type": "markdown",
   "metadata": {
    "slideshow": {
     "slide_type": "slide"
    }
   },
   "source": [
    "# uygulama: zaman hesapla\n",
    "\n",
    " - `t = x/v` formülünü kullanalım.\n",
    " - iki parametre döndürsün: saat ve dakika\n",
    "\n",
    "\n",
    "\n"
   ]
  },
  {
   "cell_type": "code",
   "execution_count": null,
   "metadata": {
    "scrolled": true,
    "slideshow": {
     "slide_type": "slide"
    }
   },
   "outputs": [],
   "source": [
    "# çözüm: zaman hesapla\n",
    "\n",
    "def zaman_hesapla(ortalama_hiz, mesafe):\n",
    "    \"\"\"\n",
    "    Ortalama hiz ve mesafe kullanarak sureyi hesaplar.\n",
    "\n",
    "    bu fonksiyon soyle cagirilir:\n",
    "    saat, dakika = zaman_hesapla(ortalama_hiz, mesafe)\n",
    "\n",
    "    :param ortalama_hiz:\n",
    "    :param mesafe:\n",
    "    :return:\n",
    "    \"\"\"\n",
    "    zaman = mesafe / ortalama_hiz\n",
    "    saat_bolumu = int(zaman)\n",
    "    dakika_bolumu = zaman - saat_bolumu\n",
    "    dakika = round(dakika_bolumu * 60)\n",
    "    return saat_bolumu, dakika\n",
    "\n",
    "z = zaman_hesapla(60, 25)\n",
    "print(z)\n"
   ]
  },
  {
   "cell_type": "markdown",
   "metadata": {
    "slideshow": {
     "slide_type": "slide"
    }
   },
   "source": [
    "# Uygulama: Bir sayının kaç basamaklı olduğunu döndüren bir fonksiyon\n",
    "- eğer sayı int ise, basamak sayısını\n",
    "- eğer sayı float ise, tam sayı bölümünün basamak sayısını\n",
    "- ve ondalıklı bölümün basamak sayısını\n",
    "- döndürsün.\n",
    "\n",
    "\n",
    "\n"
   ]
  },
  {
   "cell_type": "markdown",
   "metadata": {
    "slideshow": {
     "slide_type": "slide"
    }
   },
   "source": [
    "# main() fonksiyonu\n",
    "\n",
    " `main()` fonksiyonu kullanılması tavsiye edilir.\n",
    "\n",
    " ```python\n",
    " def main():\n",
    "     pass\n",
    "\n",
    " main()\n",
    " ```\n",
    "\n",
    "\n",
    "\n"
   ]
  },
  {
   "cell_type": "code",
   "execution_count": null,
   "metadata": {
    "scrolled": true,
    "slideshow": {
     "slide_type": "slide"
    }
   },
   "outputs": [],
   "source": [
    "# scope (kapsam)\n",
    "\n",
    "# aşağıdaki kodun sonucu ne olur?\n",
    "\n",
    "def do_something():\n",
    "    print(number)\n",
    "\n",
    "def main():\n",
    "    number = 5\n",
    "    do_something()\n",
    "\n",
    "main()\n"
   ]
  },
  {
   "cell_type": "code",
   "execution_count": null,
   "metadata": {
    "scrolled": true,
    "slideshow": {
     "slide_type": "slide"
    }
   },
   "outputs": [],
   "source": [
    "# varsayılan değerler, make_email() fonksiyonu\n",
    "\n",
    "# öncelikle, şu kodu yazalım:\n",
    "\n",
    "def make_email(user_name, domain):\n",
    "    return user_name + \"@\" + domain\n",
    "\n",
    "def main():\n",
    "    user_name = input(\"user_name >>>\")\n",
    "    domain = input(\"domain >>>\")\n",
    "    email = make_email(user_name, domain)\n",
    "    print(email)\n",
    "\n",
    "main()\n"
   ]
  },
  {
   "cell_type": "code",
   "execution_count": null,
   "metadata": {
    "scrolled": true,
    "slideshow": {
     "slide_type": "slide"
    }
   },
   "outputs": [],
   "source": [
    "# şu sekilde çağırmış olsaydık, nasıl olurdu?\n",
    "\n",
    "# yani, şu 2 satırı silersek:\n",
    "\n",
    "# domain = input(\">>>\")\n",
    "# email = make_email(user_name, domain)\n",
    "\n",
    "def make_email(user_name, domain):\n",
    "    return user_name + \"@\" + domain\n",
    "\n",
    "def main():\n",
    "    user_name = input(\"user_name >>>\")\n",
    "    email = make_email(user_name)\n",
    "    print(email)\n",
    "\n",
    "main()\n"
   ]
  },
  {
   "cell_type": "code",
   "execution_count": null,
   "metadata": {
    "scrolled": true,
    "slideshow": {
     "slide_type": "slide"
    }
   },
   "outputs": [],
   "source": [
    "# şu şekilde olsaydı nasıl olurdu? (2)\n",
    "\n",
    "def make_email(user_name, domain=\"bilgeadam.com\"):\n",
    "    return user_name + \"@\" + domain\n",
    "\n",
    "def main():\n",
    "    user_name = input(\"user_name >>>\")\n",
    "    email = make_email(user_name)\n",
    "    print(email)\n",
    "\n",
    "    domain = input(\"domain >>>\")\n",
    "    email = make_email(user_name, domain)\n",
    "\n",
    "    print(email)\n",
    "\n",
    "main()\n"
   ]
  },
  {
   "cell_type": "code",
   "execution_count": null,
   "metadata": {
    "scrolled": true,
    "slideshow": {
     "slide_type": "slide"
    }
   },
   "outputs": [],
   "source": [
    "# isimli argümanlar\n",
    "\n",
    "def make_email(user_name, domain=\"bilgeadam\"):\n",
    "    return user_name + \"@\" + domain\n",
    "\n",
    "def main():\n",
    "    user_name = \"caglar.toklu\"\n",
    "    domain = \"bilgeadam\"\n",
    "    top_level_domain = \".com\"\n",
    "\n",
    "    email = make_email(user_name=user_name, domain=domain)\n",
    "    print(email)\n",
    "\n",
    "main()\n"
   ]
  },
  {
   "cell_type": "markdown",
   "metadata": {
    "slideshow": {
     "slide_type": "slide"
    }
   },
   "source": [
    "# isimli argümanlar neden var?\n",
    "\n",
    "- https://scikit-learn.org/stable/modules/generated/sklearn.ensemble.GradientBoostingRegressor.html#sklearn.ensemble.GradientBoostingRegressor\n",
    "\n",
    " ```python\n",
    " def apply_machine_learning(learning_rate=0.1, n_estimators=100, max_leafs=12, tree_count=100, logging=True, verbose=False):\n",
    "     pass\n",
    " ```\n",
    "\n",
    "\n",
    "\n"
   ]
  },
  {
   "cell_type": "code",
   "execution_count": null,
   "metadata": {
    "scrolled": true,
    "slideshow": {
     "slide_type": "slide"
    }
   },
   "outputs": [],
   "source": [
    "# uygulama: url_olustur() fonksiyonu\n",
    "\n",
    "def url_olustur(domain, tld=\".com\", protokol=\"http://\"):\n",
    "    pass\n"
   ]
  },
  {
   "cell_type": "markdown",
   "metadata": {
    "slideshow": {
     "slide_type": "slide"
    }
   },
   "source": [
    "# Uygulama: shout()\n",
    "\n",
    " - `shout` isimli bir fonksiyon yazınız.\n",
    " - Bu fonksiyon:\n",
    " - string tipinden bir parametre almalıdır.\n",
    " - her karakteri büyük harfe çevirmelıdır.\n",
    " - her karakterin arasina bir boşluk koymalıdır.\n",
    " - sonuna da ünlem eklemelidir.\n",
    "\n",
    "\n",
    "\n"
   ]
  },
  {
   "cell_type": "code",
   "execution_count": null,
   "metadata": {
    "scrolled": true,
    "slideshow": {
     "slide_type": "slide"
    }
   },
   "outputs": [],
   "source": [
    "# Uygulama: shout()\n",
    "\n",
    "def shout(needle):\n",
    "    \"\"\"\n",
    "    strip()\n",
    "    hersey uppercase\n",
    "    her bir karakter arasina bir \" \" koysun.\n",
    "    sonunda da unlem yoksa eklesin.\n",
    "\n",
    "    \"no i will not\": \"N O  I  W I L L  N O T !\"\n",
    "    :type needle: str\n",
    "    :param needle:\n",
    "    :return:\n",
    "    \"\"\"\n",
    "    result = needle.strip()\n",
    "    result = result.upper()\n",
    "    result = \" \".join(result)\n",
    "    if not result.endswith(\"!\"):\n",
    "        result += \"!\"\n",
    "    return result\n",
    "\n",
    "print(shout(\"no, i will not\"))\n",
    "\n",
    "\n",
    "\n",
    "# Uygulama: whisper()\n",
    "\n",
    "# - `shout` gibi bir fonksiyon olmalıdır.\n",
    "# - shout işleminin tersini yapmalıdır.\n",
    "# - sondaki unlem karakterini atmalıdır.\n",
    "# - harfleri küçük harfe çevirmelidir.\n",
    "# - aradaki boşluklardan kurtulmalıdır.\n",
    "\n",
    "\n",
    "\n",
    "# Uygulama: whisper()\n",
    "\n",
    "def whisper(needle):\n",
    "    \"\"\"\n",
    "    hepsini kucuk harfe cevirsin.\n",
    "    \" \" ve ! karakterlerini yok etsin.\n",
    "\n",
    "    \"N O  I  W I L L  N O T !\": \"noiwillnot!\"\n",
    "    :rtype: str\n",
    "    :type needle: str\n",
    "    :param needle:\n",
    "    :return:\n",
    "    \"\"\"\n",
    "    result = needle.replace(\"!\", \"\")\n",
    "    result = result.lower()\n",
    "    result = result.replace(\" \", \"\")\n",
    "    return result\n",
    "\n",
    "print(whisper(\"  N O  I  W I L L  N O T !\"))\n"
   ]
  },
  {
   "cell_type": "markdown",
   "metadata": {
    "slideshow": {
     "slide_type": "slide"
    }
   },
   "source": [
    "# bir sayıya kadar olan sayıların toplamını döndüren fonksiyon.\n",
    "\n",
    "\n",
    "\n"
   ]
  },
  {
   "cell_type": "code",
   "execution_count": null,
   "metadata": {
    "scrolled": true,
    "slideshow": {
     "slide_type": "slide"
    }
   },
   "outputs": [],
   "source": [
    "# bir sayıya kadar olan sayıların toplamını döndüren fonksiyon.\n",
    "\n",
    "def sayiya_kadar_toplam(sayi):\n",
    "    toplam = 0\n",
    "    i = 1\n",
    "    while i<=sayi:\n",
    "        toplam = toplam + i\n",
    "        i += 1\n",
    "    return toplam\n",
    "\n",
    "x = sayiya_kadar_toplam(6)\n",
    "print(x)\n"
   ]
  },
  {
   "cell_type": "markdown",
   "metadata": {
    "slideshow": {
     "slide_type": "slide"
    }
   },
   "source": [
    "# bir sayı alıp, çarpanlarını list olarak döndüren fonksiyon yazınız.\n",
    "\n",
    "\n",
    "\n"
   ]
  },
  {
   "cell_type": "code",
   "execution_count": null,
   "metadata": {
    "scrolled": true,
    "slideshow": {
     "slide_type": "slide"
    }
   },
   "outputs": [],
   "source": [
    "# bir sayı alıp, çarpanlarını list olarak döndüren fonksiyon yazınız.\n",
    "\n",
    "def bolenleri_bul(sayi):\n",
    "    bolenler = []\n",
    "    for i in range(1, sayi+1):\n",
    "        kalan = sayi % i\n",
    "        if kalan == 0:\n",
    "            bolenler.append(i)\n",
    "    return bolenler\n",
    "\n",
    "def bolenleri_bulw(sayi):\n",
    "    bolenler = []\n",
    "    i = 1\n",
    "    while i <= sayi:\n",
    "        kalan = sayi % i\n",
    "        if kalan == 0:\n",
    "            bolenler.append(i)\n",
    "        i += 1  # i = i + 1\n",
    "    return bolenler\n",
    "\n",
    "bolenler1 = bolenleri_bul(12)\n",
    "print(bolenler1)\n",
    "\n",
    "bolenler2 = bolenleri_bulw(12)\n",
    "print(bolenler2)\n"
   ]
  },
  {
   "cell_type": "code",
   "execution_count": null,
   "metadata": {
    "scrolled": true,
    "slideshow": {
     "slide_type": "slide"
    }
   },
   "outputs": [],
   "source": [
    "# Kesir Sadeleştirme\n",
    "def sadelestir(pay, payda):\n",
    "    pass\n"
   ]
  },
  {
   "cell_type": "markdown",
   "metadata": {
    "slideshow": {
     "slide_type": "slide"
    }
   },
   "source": [
    "# Sıradakı Asal Sayıyı Bulan Fonksiyon\n",
    " - Bir n sayısı alıp, n'den sonraki ilk asal sayıyı döndüren fonksiyon.\n",
    "\n",
    "\n",
    "\n"
   ]
  },
  {
   "cell_type": "markdown",
   "metadata": {
    "slideshow": {
     "slide_type": "slide"
    }
   },
   "source": [
    "# Verilen bir string'in, Türkçe karakter, noktalama işareti ya da başka bir karakter içermeyen halini döndüren bir fonksiyon yazınız.\n",
    "\n",
    " ```python\n",
    " def safestring(string1):\n",
    "     pass\n",
    " ```\n",
    "\n",
    " ipucu: Aşağıdaki kod parçasından faydalanabilirsiniz, çıktısını inceleyiniz.\n",
    "\n",
    " ```python\n",
    " import string\n",
    " print(string.ascii_letters)\n",
    " ```\n",
    "\n",
    "\n",
    "\n"
   ]
  },
  {
   "cell_type": "markdown",
   "metadata": {
    "slideshow": {
     "slide_type": "slide"
    }
   },
   "source": [
    "# Uygulama: is_palindrome()\n",
    "\n",
    "\n",
    "\n"
   ]
  },
  {
   "cell_type": "code",
   "execution_count": null,
   "metadata": {
    "scrolled": true,
    "slideshow": {
     "slide_type": "slide"
    }
   },
   "outputs": [],
   "source": [
    "# Çözüm: is_palindrome()\n",
    "\n",
    "def is_palindrome(data):\n",
    "    result = False\n",
    "    data2 = \"\"\n",
    "    for ch in data:\n",
    "        data2 = ch + data2\n",
    "    if data == data2:\n",
    "        result = True\n",
    "\n",
    "    return result\n",
    "\n",
    "print(is_palindrome(\"abc\"))\n",
    "print(is_palindrome(\"aba\"))\n",
    "\n",
    "\n",
    "\n",
    "# Uygulama: Bir listedeki en büyük n sayıyı döndüren fonksiyon\n",
    "# - int ya da float değerler içeren bir listede,\n",
    "# - en büyük n sayıyı bulan bir program yazınız.\n",
    "# - listenin kendisi ve n sayisi, parametre olsun.\n"
   ]
  },
  {
   "cell_type": "code",
   "execution_count": null,
   "metadata": {
    "scrolled": true,
    "slideshow": {
     "slide_type": "slide"
    }
   },
   "outputs": [],
   "source": [
    "# *args\n",
    "\n",
    "def add(a, b, c, d):\n",
    "    return a + b + c + d\n",
    "\n",
    "toplam = add(4, 78, 3, 6)  # *args icin\n",
    "print(toplam)\n",
    "# 5 parametre gerekseydi ne yapacaktık?\n",
    "\n",
    "\n",
    "def addn(*args):\n",
    "    total = 0\n",
    "    for arg in args:  # onemli.\n",
    "        total = total + arg\n",
    "    return total\n",
    "\n",
    "toplam = addn(4, 78, 3, 6, 8)  # *args icin\n",
    "print(toplam)\n"
   ]
  },
  {
   "cell_type": "code",
   "execution_count": null,
   "metadata": {
    "scrolled": true,
    "slideshow": {
     "slide_type": "slide"
    }
   },
   "outputs": [],
   "source": [
    "# *args'a bir liste göndermek\n",
    "\n",
    "def addn(*args):\n",
    "    total = 0\n",
    "    for arg in args:  # onemli.\n",
    "        total = total + arg\n",
    "    return total\n",
    "\n",
    "list1 = [3, 4, 5]\n",
    "toplam = addn(*list1)\n",
    "print(toplam)\n"
   ]
  },
  {
   "cell_type": "code",
   "execution_count": 5,
   "metadata": {
    "scrolled": true,
    "slideshow": {
     "slide_type": "slide"
    }
   },
   "outputs": [
    {
     "name": "stdout",
     "output_type": "stream",
     "text": [
      "ankara\n",
      "rome\n"
     ]
    }
   ],
   "source": [
    "# kwargs\n",
    "\n",
    "def display_capitals(**kwargs):\n",
    "    for key, value in kwargs.items():\n",
    "        print(key.capitalize(), value.upper())\n",
    "\n",
    "def display_capitals2(**baskentler):\n",
    "    for ulke in baskentler:\n",
    "        sehir = baskentler[ulke]\n",
    "        print(sehir)\n",
    "\n",
    "display_capitals2(turkey=\"ankara\", italy=\"rome\")  # **kwargs icin\n"
   ]
  },
  {
   "cell_type": "code",
   "execution_count": null,
   "metadata": {
    "scrolled": true,
    "slideshow": {
     "slide_type": "slide"
    }
   },
   "outputs": [],
   "source": [
    "# kwargs'a bir liste göndermek\n",
    "\n",
    "def display_capitals(**kwargs):\n",
    "    for key, value in kwargs.items():\n",
    "        print(key.capitalize(), value.upper())\n",
    "\n",
    "capitals = {}\n",
    "capitals[\"turkey\"] = \"ankara\"\n",
    "capitals[\"italy\"] = \"rome\"\n",
    "capitals[\"usa\"] = \"washington d.c.\"\n",
    "\n",
    "display_capitals(**capitals)  # **kwargs icin\n"
   ]
  },
  {
   "cell_type": "code",
   "execution_count": null,
   "metadata": {
    "scrolled": true,
    "slideshow": {
     "slide_type": "slide"
    }
   },
   "outputs": [],
   "source": [
    "# kwargs'in uygulanması\n",
    "\n",
    "def apply_machine_learning(logging=False, leafs=12, rate=0.9, tree_count=20):\n",
    "    print(\"leafs: \", leafs)\n",
    "    print(\"rate: \", rate)\n",
    "    print(\"tree_count: \", tree_count)\n",
    "    print(\"logging: \", logging)\n",
    "\n",
    "params = {}\n",
    "params[\"tree_count\"] = 25\n",
    "params[\"leafs\"] = 13\n",
    "# params[\"nonparam\"] = 13\n",
    "apply_machine_learning(**params)\n"
   ]
  },
  {
   "cell_type": "markdown",
   "metadata": {
    "slideshow": {
     "slide_type": "slide"
    }
   },
   "source": [
    "# mutable defaults\n",
    "\n",
    " - mutable/immutable ne demek?\n",
    " - örnek verebilir misiniz?\n",
    "\n",
    "\n",
    "\n"
   ]
  },
  {
   "cell_type": "code",
   "execution_count": null,
   "metadata": {
    "scrolled": true,
    "slideshow": {
     "slide_type": "slide"
    }
   },
   "outputs": [],
   "source": [
    "# mutable defaults\n",
    "\n",
    "def calculate_expense(benzin, gazoz, kopru_gecisleri=[]):\n",
    "    total = benzin\n",
    "    total += gazoz\n",
    "    if benzin > 0:\n",
    "        kopru_gecisleri.append(8)\n",
    "    total += sum(kopru_gecisleri)\n",
    "    return total\n",
    "\n",
    "\n",
    "print(calculate_expense(0, 100))\n",
    "print(calculate_expense(200, 100))\n",
    "print(calculate_expense(0, 100))\n"
   ]
  },
  {
   "cell_type": "markdown",
   "metadata": {
    "slideshow": {
     "slide_type": "slide"
    }
   },
   "source": [
    "# mutable defaults\n",
    "\n",
    " - yukarıdaki kodda, sorun nedir?\n",
    "\n",
    "\n",
    "\n"
   ]
  },
  {
   "cell_type": "markdown",
   "metadata": {
    "slideshow": {
     "slide_type": "slide"
    }
   },
   "source": [
    "# mutable defaults\n",
    "\n",
    " - `kopru_gecisleri`, mutable nesne kullandik.\n",
    " - bu yuzden, patladi.\n",
    "\n",
    "\n",
    "\n"
   ]
  },
  {
   "cell_type": "markdown",
   "metadata": {
    "slideshow": {
     "slide_type": "slide"
    }
   },
   "source": [
    "# mutable defaults\n",
    "\n",
    " - nasıl düzeltebiliriz?\n",
    "\n",
    "\n",
    "\n"
   ]
  },
  {
   "cell_type": "markdown",
   "metadata": {
    "slideshow": {
     "slide_type": "slide"
    }
   },
   "source": [
    "# son\n"
   ]
  }
 ],
 "metadata": {
  "celltoolbar": "Slideshow",
  "kernelspec": {
   "display_name": "Python 3",
   "language": "python",
   "name": "python3"
  },
  "language_info": {
   "codemirror_mode": {
    "name": "ipython",
    "version": 3
   },
   "file_extension": ".py",
   "mimetype": "text/x-python",
   "name": "python",
   "nbconvert_exporter": "python",
   "pygments_lexer": "ipython3",
   "version": "3.8.5"
  }
 },
 "nbformat": 4,
 "nbformat_minor": 2
}
