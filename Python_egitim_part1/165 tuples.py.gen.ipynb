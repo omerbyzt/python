{
 "cells":
    [
    {
        "cell_type": "markdown",
        "metadata": {
            "slideshow": {
                "slide_type": "slide"
            }
        },
        "source": [
            "# Tuple veri tipi\n",
            "\n",
            "- telaffuz\n",
            "- https://english.stackexchange.com/questions/12980/how-to-pronounce-tuple\n",
            "- listeden farkl\u0131 olarak, `[` ve `)` yerine `(` ve `)` ile tan\u0131mlan\u0131rlar.\n",
            "- listeden farkl\u0131 olarak, immutable\n",
            "- bir index'deki de\u011ferini de\u011fi\u015ftirmeyi deneyelim\n",
            "- `dir()` ile methodlar\u0131na bakal\u0131m.\n",
            "\n",
            "\n"
        ]
    },
    {
        "cell_type": "code",
        "metadata": {
            "scrolled": true,
            "slideshow": {
                "slide_type": "slide"
            }
        },
        "source": [
            "# \u00f6rnek bir tuple\n",
            "\n",
            "players = (\"marco van basten\", \"roberto baggio\", \"ruud gullit\", \"ivan zamorano\")\n",
            "print(type(players))\n",
            "print(len(players))\n"
        ],
        "execution_count": null,
        "outputs": []
    },
    {
        "cell_type": "code",
        "metadata": {
            "scrolled": true,
            "slideshow": {
                "slide_type": "slide"
            }
        },
        "source": [
            "# ki\u015fisel bilgiler i\u00e7in bir tuple\n",
            "\n",
            "kisisel_bilgiler = (\"marco\", \"van basten\", 12349, \"Netherlands\")\n"
        ],
        "execution_count": null,
        "outputs": []
    },
    {
        "cell_type": "code",
        "metadata": {
            "scrolled": true,
            "slideshow": {
                "slide_type": "slide"
            }
        },
        "source": [
            "# birka\u00e7 futbolcuyu tan\u0131mlayan bir tuple\n",
            "\n",
            "players = (\"marco van basten\", \"roberto baggio\", \"ruud gullit\", \"ivan zamorano\")\n",
            "print(players)\n",
            "print(len)\n",
            "print(players[0])\n",
            "print(players[2])\n"
        ],
        "execution_count": null,
        "outputs": []
    },
    {
        "cell_type": "code",
        "metadata": {
            "scrolled": true,
            "slideshow": {
                "slide_type": "slide"
            }
        },
        "source": [
            "# a\u015fa\u011f\u0131daki kodun \u00e7\u0131kt\u0131s\u0131 ne olur?\n",
            "\n",
            "\n",
            "players = (\"marco van basten\", \"roberto baggio\", \"ruud gullit\", \"ivan zamorano\")\n",
            "print(players[0])\n",
            "print(players[2])\n",
            "players[2] = \"eric cantona\"\n",
            "print(players)\n"
        ],
        "execution_count": null,
        "outputs": []
    },
    {
        "cell_type": "code",
        "metadata": {
            "scrolled": true,
            "slideshow": {
                "slide_type": "slide"
            }
        },
        "source": [
            "# \"slicing\" kullan\u0131labilir\n",
            "\n",
            "players = (\"marco van basten\", \"roberto baggio\", \"ruud gullit\", \"ivan zamorano\")\n",
            "print(players[0:2])\n"
        ],
        "execution_count": null,
        "outputs": []
    },
    {
        "cell_type": "code",
        "metadata": {
            "scrolled": true,
            "slideshow": {
                "slide_type": "slide"
            }
        },
        "source": [
            "# \u00e7\u0131kt\u0131s\u0131 ne olur?\n",
            "\n",
            "players = (\"marco van basten\", \"roberto baggio\", \"ruud gullit\", \"ivan zamorano\")\n",
            "players.append(\"Ryan Giggs\")\n",
            "\n",
            "# i\u00e7ine dir() ile bakal\u0131m.\n"
        ],
        "execution_count": null,
        "outputs": []
    },
    {
        "cell_type": "code",
        "metadata": {
            "scrolled": true,
            "slideshow": {
                "slide_type": "slide"
            }
        },
        "source": [
            "# dir() ile \u00fcyelerine bakal\u0131m.\n",
            "\n",
            "players = (\"marco van basten\", \"roberto baggio\", \"ruud gullit\", \"ivan zamorano\")\n",
            "print(dir(players))\n",
            "print()\n",
            "print(dir([]))\n"
        ],
        "execution_count": null,
        "outputs": []
    },
    {
        "cell_type": "markdown",
        "metadata": {
            "slideshow": {
                "slide_type": "slide"
            }
        },
        "source": [
            "# dir() ile \u00fcyelerine bakal\u0131m. (2)\n",
            "\n",
            "- bir list tipine g\u00f6re daha en az eleman g\u00f6r\u00fcyor olmal\u0131y\u0131z.\n",
            "- immutable ne demek?\n",
            "- `append()` yok.\n",
            "- `remove()` yok.\n",
            "- `insert()` yok.\n",
            "\n",
            "\n",
            "\n"
        ]
    },
    {
        "cell_type": "code",
        "metadata": {
            "scrolled": true,
            "slideshow": {
                "slide_type": "slide"
            }
        },
        "source": [
            "# Uygulama : ruud gullit'i nas\u0131l silebilirim?\n",
            "\n",
            "players = (\"marco van basten\", \"roberto baggio\", \"ruud gullit\", \"ivan zamorano\")\n",
            "\n",
            "# istenen \u00e7\u0131kt\u0131:\n",
            "# ('marco van basten', 'roberto baggio', 'ivan zamorano')\n"
        ],
        "execution_count": null,
        "outputs": []
    },
    {
        "cell_type": "code",
        "metadata": {
            "scrolled": true,
            "slideshow": {
                "slide_type": "slide"
            }
        },
        "source": [
            "# tek elemanl\u0131 tuple yaratmak\n",
            "\n",
            "# a de\u011fi\u015fkeninin tipi ne olur?\n",
            "\n",
            "a = (4)\n",
            "print(type(a))\n"
        ],
        "execution_count": null,
        "outputs": []
    },
    {
        "cell_type": "code",
        "metadata": {
            "scrolled": true,
            "slideshow": {
                "slide_type": "slide"
            }
        },
        "source": [
            "# tek elemanl\u0131 tuple yaratmak, \u00e7\u00f6z\u00fcm\n",
            "\n",
            "b = (4,)\n",
            "print(type(b))\n"
        ],
        "execution_count": null,
        "outputs": []
    },
    {
        "cell_type": "markdown",
        "metadata": {
            "slideshow": {
                "slide_type": "slide"
            }
        },
        "source": [
            "# list ve tuple\n",
            "\n",
            "- `list` mutable, `tuple` immutable\n",
            "- `list` boyutu dinamik, `tuple` boyutu sabit\n",
            "- `tuple` icinde, `append()`, `remove()`, `pop()` gibi methodlar yok.\n",
            "- K\u00fclt\u00fcrel : `list` i\u00e7indeki elemanlar\u0131n, ayn\u0131 tipten olmas\u0131 tercih edilir.\n",
            "- K\u00fclt\u00fcrel : `tuple` i\u00e7indeki elemanlar, farkl\u0131 tipten olabilir (C'deki struct gibi)\n",
            "- `list()` fonksiyonu ile, tuple tipinden bir nesne, bir listeye d\u00f6nd\u00fcr\u00fclebilir.\n",
            "- `tuple()` fonksiyonu da tersini yapar.\n",
            "\n",
            "\n",
            "\n"
        ]
    },
    {
        "cell_type": "markdown",
        "metadata": {
            "slideshow": {
                "slide_type": "slide"
            }
        },
        "source": [
            "# son\n"
        ]
    }
]
,
 "metadata": {
  "celltoolbar": "Slideshow",
  "kernelspec": {
   "display_name": "Python 3",
   "language": "python",
   "name": "python3"
  },
  "language_info": {
   "codemirror_mode": {
    "name": "ipython",
    "version": 3
   },
   "file_extension": ".py",
   "mimetype": "text/x-python",
   "name": "python",
   "nbconvert_exporter": "python",
   "pygments_lexer": "ipython3",
   "version": "3.7.4"
  }
 },
 "nbformat": 4,
 "nbformat_minor": 2
}