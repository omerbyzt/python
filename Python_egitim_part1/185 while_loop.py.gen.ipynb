{
 "cells":
    [
    {
        "cell_type": "markdown",
        "metadata": {
            "slideshow": {
                "slide_type": "slide"
            }
        },
        "source": [
            "# while d\u00f6ng\u00fcs\u00fc\n",
            "\n",
            " - `for` ile beraber, Python'daki iki d\u00f6ng\u00fc tipinden biri.\n",
            " - bir \u015fart sa\u011fland\u0131\u011f\u0131 s\u00fcrece, belli i\u015flemleri tekrar eder.\n",
            "\n",
            "\n",
            "\n"
        ]
    },
    {
        "cell_type": "code",
        "metadata": {
            "scrolled": true,
            "slideshow": {
                "slide_type": "slide"
            }
        },
        "source": [
            "# while d\u00f6ng\u00fcs\u00fc\n",
            "\n",
            "counter = 1\n",
            "while counter < 9:\n",
            "    print(counter)\n",
            "    counter = counter + 1\n"
        ],
        "execution_count": null,
        "outputs": []
    },
    {
        "cell_type": "markdown",
        "metadata": {
            "slideshow": {
                "slide_type": "slide"
            }
        },
        "source": [
            "# uygulama: while ile seri hesaplama\n",
            "\n",
            " - x = 1/2 + 2/3 + .... 10/11\n",
            " - x'in de\u011feri nedir?\n",
            "\n",
            "\n",
            "\n"
        ]
    },
    {
        "cell_type": "code",
        "metadata": {
            "scrolled": true,
            "slideshow": {
                "slide_type": "slide"
            }
        },
        "source": [
            "# Uygulama : while ile k\u0131s\u0131tl\u0131 input\n",
            "\n",
            "# \u0130stenilen de\u011ferlerden biri girilene kadar devam ettirebiliriz.\n",
            "\n",
            "cevap = \" \"\n",
            "while cevap not in \"/*-+\":\n",
            "    cevap = input(\"bir operator giriniz: /*-+ >>\")\n",
            "print(cevap, \"girdiniz\")\n"
        ],
        "execution_count": null,
        "outputs": []
    },
    {
        "cell_type": "markdown",
        "metadata": {
            "slideshow": {
                "slide_type": "slide"
            }
        },
        "source": [
            "# Uygulama : negatif say\u0131 girilene kadar ortalama\n",
            "\n",
            " - Kullan\u0131c\u0131, negatif bir say\u0131 girene kadar kullan\u0131c\u0131dan de\u011fer al\u0131p,\n",
            " - bitti\u011finde ortalamas\u0131n\u0131 hesaplayan bir program.\n",
            "\n",
            " ```\n",
            " >>> 100\n",
            " >>> 80\n",
            " >>> 90\n",
            " >>> -1\n",
            " 270.0\n",
            " 90.0\n",
            " ```\n",
            "\n",
            "\n",
            "\n"
        ]
    },
    {
        "cell_type": "code",
        "metadata": {
            "scrolled": true,
            "slideshow": {
                "slide_type": "slide"
            }
        },
        "source": [
            "# \u00c7\u00f6z\u00fcm 1 : negatif say\u0131 girilene kadar ortalama\n",
            "\n",
            "# - Kullan\u0131c\u0131, negatif bir say\u0131 girene kadar kullan\u0131c\u0131dan de\u011fer al\u0131p,\n",
            "# - bitti\u011finde ortalamas\u0131n\u0131 hesaplayan bir program.\n",
            "\n",
            "done = False\n",
            "count = 0\n",
            "total = 0.0\n",
            "while not done:\n",
            "    current = int(input(\">>>\"))\n",
            "    if current < 0:\n",
            "        done = True\n",
            "    else:\n",
            "        count = count + 1\n",
            "        total = total + current\n",
            "\n",
            "print(total)\n",
            "print(count)\n",
            "print(total / count)\n"
        ],
        "execution_count": null,
        "outputs": []
    },
    {
        "cell_type": "markdown",
        "metadata": {
            "slideshow": {
                "slide_type": "slide"
            }
        },
        "source": [
            "# break ve continue deyimleri\n",
            "\n",
            " - `break` : t\u00fcm iterasyonlar\u0131 sonland\u0131r\u0131r.\n",
            " - `continue` : bir sonraki iterasyona ge\u00e7er.\n",
            "\n",
            "\n",
            "\n"
        ]
    },
    {
        "cell_type": "code",
        "metadata": {
            "scrolled": true,
            "slideshow": {
                "slide_type": "slide"
            }
        },
        "source": [
            "# \u00c7\u00f6z\u00fcm 2 : negatif say\u0131 girilene kadar ortalama\n",
            "\n",
            "# - Kullan\u0131c\u0131, negatif bir say\u0131 girene kadar kullan\u0131c\u0131dan de\u011fer al\u0131p,\n",
            "# - bitti\u011finde ortalamas\u0131n\u0131 hesaplayan bir program.\n",
            "\n",
            "total = 0.0\n",
            "count = 0\n",
            "\n",
            "while True:\n",
            "    number = float(input(\"sayi giriniz >>>\"))\n",
            "    if number < 0:\n",
            "        break\n",
            "\n",
            "    total = total + number\n",
            "    count = count + 1\n",
            "\n",
            "result = total / count\n",
            "print(\"{} tane ortalama {}\".format(count, result))\n"
        ],
        "execution_count": null,
        "outputs": []
    },
    {
        "cell_type": "markdown",
        "metadata": {
            "slideshow": {
                "slide_type": "slide"
            }
        },
        "source": [
            "# Sonsuz d\u00f6ng\u00fcye dikkat\n",
            "\n",
            " ```python\n",
            " counter = 1\n",
            " while counter < 9:\n",
            "     print(counter)\n",
            " ```\n",
            "\n",
            "\n",
            "\n"
        ]
    },
    {
        "cell_type": "markdown",
        "metadata": {
            "slideshow": {
                "slide_type": "slide"
            }
        },
        "source": [
            "# Uygulama: en fazla n \u015fifre denemesi\n",
            " - kullan\u0131c\u0131m\u0131z, do\u011fru sifreyi girerse, program sifreyi kabul etsin.\n",
            " - \u015fifreyi yanl\u0131\u015f girerse, \u015fifreyi en fazla 3 kere deneyebilsin.\n",
            " - 3 kere yanl\u0131\u015f girerse, tekrar deneyemesin.\n",
            "\n",
            "\n",
            "\n"
        ]
    },
    {
        "cell_type": "markdown",
        "metadata": {
            "slideshow": {
                "slide_type": "slide"
            }
        },
        "source": [
            "# Uygulama: say\u0131 tahmin\n",
            " - bilgisayar, bir say\u0131 tutsun.\n",
            " - kullan\u0131c\u0131, bu sayiyi tahmin etmeye \u00e7al\u0131\u015fs\u0131n.\n",
            " - bilgisayar, kullan\u0131c\u0131m\u0131za, her tahminde, \"\u00e7\u0131k\" ya da \"in\" desin.\n",
            " - gizli say\u0131 i\u00e7in, `random` kullan\u0131labilir.\n",
            " ```\n",
            " import random\n",
            " gizli_sayi = random.randint(1, 20)\n",
            " ```\n",
            "\n",
            "\n",
            "\n"
        ]
    },
    {
        "cell_type": "markdown",
        "metadata": {
            "slideshow": {
                "slide_type": "slide"
            }
        },
        "source": [
            "# son\n"
        ]
    }
]
,
 "metadata": {
  "celltoolbar": "Slideshow",
  "kernelspec": {
   "display_name": "Python 3",
   "language": "python",
   "name": "python3"
  },
  "language_info": {
   "codemirror_mode": {
    "name": "ipython",
    "version": 3
   },
   "file_extension": ".py",
   "mimetype": "text/x-python",
   "name": "python",
   "nbconvert_exporter": "python",
   "pygments_lexer": "ipython3",
   "version": "3.7.4"
  }
 },
 "nbformat": 4,
 "nbformat_minor": 2
}